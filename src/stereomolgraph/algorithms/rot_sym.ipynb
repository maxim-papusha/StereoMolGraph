{
 "cells": [
  {
   "cell_type": "code",
   "execution_count": 1,
   "id": "5a6c8e8d",
   "metadata": {},
   "outputs": [],
   "source": [
    "from collections.abc import Iterable\n",
    "from stereomolgraph import StereoMolGraph, AtomId\n",
    "from stereomolgraph.algorithms.color_refine import color_refine_smg\n",
    "from rdkit import Chem\n",
    "import itertools\n",
    "import numpy as np\n",
    "from collections import Counter, defaultdict\n",
    "from math import inf"
   ]
  },
  {
   "cell_type": "code",
   "execution_count": 2,
   "id": "fb341055",
   "metadata": {},
   "outputs": [],
   "source": [
    "def fset_with_reversed(i: Iterable) -> frozenset[tuple]:\n",
    "    tup = tuple(e for e in i)\n",
    "    rev = tuple(reversed(tup))\n",
    "    return frozenset({tup, rev})"
   ]
  },
  {
   "cell_type": "code",
   "execution_count": 3,
   "id": "3c218d05",
   "metadata": {},
   "outputs": [
    {
     "data": {
      "text/plain": [
       "array([  -49117966560411886, -7197808156865372498,  5957752184880897920,\n",
       "       -8826628384018608784, -8826628384018608784, -8826628384018608784,\n",
       "       -3030242489000060568, -3030242489000060568,  2985140245078666575,\n",
       "        2985140245078666575])"
      ]
     },
     "execution_count": 3,
     "metadata": {},
     "output_type": "execute_result"
    }
   ],
   "source": [
    "smg = StereoMolGraph.from_rdmol(Chem.MolFromSmiles(\"CCN\"), stereo_complete=True)\n",
    "colors = color_refine_smg(smg)\n",
    "colors"
   ]
  },
  {
   "cell_type": "code",
   "execution_count": null,
   "id": "1ba4b8ec",
   "metadata": {},
   "outputs": [],
   "source": [
    "id_dict = {a:i for i,a in enumerate(smg.atoms)}\n",
    "\n",
    "# dehid_color: (list[dehid_state], set[mapping_id])\n",
    "states = defaultdict(lambda: ([], set()) )\n",
    "\n",
    "for a1,a2 in smg.bonds:\n",
    "\n",
    "    a1_nbr = set(smg.bonded_to(a1))\n",
    "    a1_nbr.remove(a2)\n",
    "    a2_nbr = set(smg.bonded_to(a2))\n",
    "    a2_nbr.remove(a1)\n",
    "\n",
    "    if len(a1_nbr) == 0 or len(a2_nbr) == 0:\n",
    "        continue\n",
    "    \n",
    "    a1_nbr = [id_dict[nbr] for nbr in a1_nbr]\n",
    "    a2_nbr = [id_dict[nbr] for nbr in a2_nbr]\n",
    "    a1_nbr_col = [(i, color) for i, color in zip(a1_nbr, colors[a1_nbr])]\n",
    "    a2_nbr_col = [(i, color) for i, color in zip(a2_nbr, colors[a2_nbr])]\n",
    "    a1_nbr_col.sort(key=lambda x: x[1])\n",
    "    a2_nbr_col.sort(key=lambda x: x[1])\n",
    "    \n",
    "    _key1, group1 = next(iter(itertools.groupby(a1_nbr_col,key = lambda x: x[1])))\n",
    "    _key2, group2 = next(iter(itertools.groupby(a2_nbr_col,key = lambda x: x[1])))\n",
    "\n",
    "    state = {}\n",
    "\n",
    "    best_color = -inf\n",
    "\n",
    "    for a_id1, color1 in group1:\n",
    "        for a_id2, color2 in group2:\n",
    "            ...\n",
    "            \n"
   ]
  }
 ],
 "metadata": {
  "kernelspec": {
   "display_name": "stereomolgraph",
   "language": "python",
   "name": "python3"
  },
  "language_info": {
   "codemirror_mode": {
    "name": "ipython",
    "version": 3
   },
   "file_extension": ".py",
   "mimetype": "text/x-python",
   "name": "python",
   "nbconvert_exporter": "python",
   "pygments_lexer": "ipython3",
   "version": "3.13.3"
  }
 },
 "nbformat": 4,
 "nbformat_minor": 5
}
