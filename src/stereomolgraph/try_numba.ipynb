{
 "cells": [
  {
   "cell_type": "code",
   "execution_count": 1,
   "id": "aef60348",
   "metadata": {},
   "outputs": [],
   "source": [
    "import numba\n",
    "from numba.experimental import jitclass\n",
    "from numba import int64, float64, int8\n",
    "from numba import types\n",
    "\n",
    "from stereomolgraph.stereodescriptors import Tetrahedral, Stereo, AtomStereo, _StereoMixin"
   ]
  },
  {
   "cell_type": "code",
   "execution_count": 2,
   "id": "3318c3ad",
   "metadata": {},
   "outputs": [],
   "source": [
    "import numpy as np\n",
    "from numba.experimental import jitclass\n",
    "from numba import types, int64, optional\n",
    "spec = [\n",
    "    ('atoms', int64[:]),          # Will store the tuple as a numpy array\n",
    "    ('parity', optional(int64))  # The optional integer\n",
    "]\n",
    "\n",
    "@jitclass(spec=spec)\n",
    "class TetrahedralNumba:\n",
    "\n",
    "    def __init__(self, atoms, parity):\n",
    "        self.atoms = np.array(atoms, dtype=np.int64)\n",
    "        self.parity = parity\n",
    "\n",
    "    def __eq__(self, other):\n",
    "        if not isinstance(other, TetrahedralNumba):\n",
    "            return False\n",
    "        return np.array_equal(self.atoms, other.atoms) and self.parity == other.parity"
   ]
  },
  {
   "cell_type": "code",
   "execution_count": 4,
   "id": "fce47349",
   "metadata": {},
   "outputs": [],
   "source": [
    "a = TetrahedralNumba((1, 2, 3, 4, 5), None)"
   ]
  },
  {
   "cell_type": "code",
   "execution_count": null,
   "id": "005385c0",
   "metadata": {},
   "outputs": [],
   "source": []
  }
 ],
 "metadata": {
  "kernelspec": {
   "display_name": "stereomolgraph",
   "language": "python",
   "name": "python3"
  },
  "language_info": {
   "codemirror_mode": {
    "name": "ipython",
    "version": 3
   },
   "file_extension": ".py",
   "mimetype": "text/x-python",
   "name": "python",
   "nbconvert_exporter": "python",
   "pygments_lexer": "ipython3",
   "version": "3.13.3"
  }
 },
 "nbformat": 4,
 "nbformat_minor": 5
}
