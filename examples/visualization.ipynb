{
 "cells": [
  {
   "cell_type": "markdown",
   "id": "d9a4bf9b",
   "metadata": {},
   "source": [
    "# Visualization in IPython Notebooks #"
   ]
  },
  {
   "cell_type": "code",
   "execution_count": 1,
   "id": "94980b76",
   "metadata": {},
   "outputs": [],
   "source": [
    "from stereomolgraph import StereoMolGraph\n",
    "from stereomolgraph.stereodescriptors import Tetrahedral\n",
    "from stereomolgraph.ipython import View2D\n",
    "\n",
    "View2D.height = 300\n",
    "View2D.width = 300\n",
    "View2D.show_atom_numbers = True\n",
    "View2D.show_h = True\n",
    "View2D.generate_bond_orders = False"
   ]
  },
  {
   "cell_type": "code",
   "execution_count": 2,
   "id": "8e749693",
   "metadata": {},
   "outputs": [],
   "source": [
    "smg = StereoMolGraph()\n",
    "\n",
    "atoms = [(1, \"C\"), (2, \"C\"), (3, \"F\"), (4, \"F\"), (5, \"I\"), (6, \"I\"), (7, \"H\"), (8, \"H\")]\n",
    "bonds = [(1, 2), (1, 3), (2, 4), (1, 5), (2, 6), (1, 7), (2, 8)]\n",
    "\n",
    "for atom, atom_type in atoms:\n",
    "    smg.add_atom(atom, atom_type)\n",
    "\n",
    "for bond in bonds:\n",
    "    smg.add_bond(*bond)\n",
    "\n",
    "smg.set_atom_stereo(Tetrahedral(atoms=(1, 2, 3, 5, 7), parity=1))\n",
    "smg.set_atom_stereo(Tetrahedral(atoms=(2, 1, 4, 6, 8), parity=1))"
   ]
  },
  {
   "cell_type": "code",
   "execution_count": 3,
   "id": "d1070a54",
   "metadata": {},
   "outputs": [
    {
     "data": {
      "image/svg+xml": [
       "<svg xmlns=\"http://www.w3.org/2000/svg\" xmlns:rdkit=\"http://www.rdkit.org/xml\" xmlns:xlink=\"http://www.w3.org/1999/xlink\" version=\"1.1\" baseProfile=\"full\" xml:space=\"preserve\" width=\"300px\" height=\"300px\" viewBox=\"0 0 300 300\">\n",
       "<!-- END OF HEADER -->\n",
       "<rect style=\"opacity:1.0;fill:#FFFFFF;stroke:none\" width=\"300.0\" height=\"300.0\" x=\"0.0\" y=\"0.0\"> </rect>\n",
       "<path class=\"bond-0 atom-0 atom-1\" d=\"M 186.0,149.9 L 114.2,149.9\" style=\"fill:none;fill-rule:evenodd;stroke:#000000;stroke-width:2.0px;stroke-linecap:butt;stroke-linejoin:miter;stroke-opacity:1\"/>\n",
       "<path class=\"bond-1 atom-0 atom-2\" d=\"M 186.0,149.9 L 186.0,90.7\" style=\"fill:none;fill-rule:evenodd;stroke:#000000;stroke-width:2.0px;stroke-linecap:butt;stroke-linejoin:miter;stroke-opacity:1\"/>\n",
       "<path class=\"bond-2 atom-0 atom-4\" d=\"M 186.0,149.9 L 186.0,209.1\" style=\"fill:none;fill-rule:evenodd;stroke:#000000;stroke-width:2.0px;stroke-linecap:butt;stroke-linejoin:miter;stroke-opacity:1\"/>\n",
       "<path class=\"bond-3 atom-0 atom-6\" d=\"M 186.0,149.9 L 245.0,144.6 L 245.0,155.3 Z\" style=\"fill:#000000;fill-rule:evenodd;fill-opacity:1;stroke:#000000;stroke-width:0.5px;stroke-linecap:butt;stroke-linejoin:miter;stroke-opacity:1;\"/>\n",
       "<path class=\"bond-4 atom-1 atom-3\" d=\"M 114.2,149.9 L 114.2,90.7\" style=\"fill:none;fill-rule:evenodd;stroke:#000000;stroke-width:2.0px;stroke-linecap:butt;stroke-linejoin:miter;stroke-opacity:1\"/>\n",
       "<path class=\"bond-5 atom-1 atom-5\" d=\"M 114.2,149.9 L 114.2,209.1\" style=\"fill:none;fill-rule:evenodd;stroke:#000000;stroke-width:2.0px;stroke-linecap:butt;stroke-linejoin:miter;stroke-opacity:1\"/>\n",
       "<path class=\"bond-6 atom-1 atom-7\" d=\"M 110.8,150.3 L 110.8,149.6\" style=\"fill:none;fill-rule:evenodd;stroke:#000000;stroke-width:1.0px;stroke-linecap:butt;stroke-linejoin:miter;stroke-opacity:1\"/>\n",
       "<path class=\"bond-6 atom-1 atom-7\" d=\"M 107.3,150.6 L 107.3,149.3\" style=\"fill:none;fill-rule:evenodd;stroke:#000000;stroke-width:1.0px;stroke-linecap:butt;stroke-linejoin:miter;stroke-opacity:1\"/>\n",
       "<path class=\"bond-6 atom-1 atom-7\" d=\"M 103.8,150.9 L 103.8,149.0\" style=\"fill:none;fill-rule:evenodd;stroke:#000000;stroke-width:1.0px;stroke-linecap:butt;stroke-linejoin:miter;stroke-opacity:1\"/>\n",
       "<path class=\"bond-6 atom-1 atom-7\" d=\"M 100.3,151.2 L 100.3,148.7\" style=\"fill:none;fill-rule:evenodd;stroke:#000000;stroke-width:1.0px;stroke-linecap:butt;stroke-linejoin:miter;stroke-opacity:1\"/>\n",
       "<path class=\"bond-6 atom-1 atom-7\" d=\"M 96.9,151.5 L 96.9,148.4\" style=\"fill:none;fill-rule:evenodd;stroke:#000000;stroke-width:1.0px;stroke-linecap:butt;stroke-linejoin:miter;stroke-opacity:1\"/>\n",
       "<path class=\"bond-6 atom-1 atom-7\" d=\"M 93.4,151.8 L 93.4,148.0\" style=\"fill:none;fill-rule:evenodd;stroke:#000000;stroke-width:1.0px;stroke-linecap:butt;stroke-linejoin:miter;stroke-opacity:1\"/>\n",
       "<path class=\"bond-6 atom-1 atom-7\" d=\"M 89.9,152.2 L 89.9,147.7\" style=\"fill:none;fill-rule:evenodd;stroke:#000000;stroke-width:1.0px;stroke-linecap:butt;stroke-linejoin:miter;stroke-opacity:1\"/>\n",
       "<path class=\"bond-6 atom-1 atom-7\" d=\"M 86.4,152.5 L 86.4,147.4\" style=\"fill:none;fill-rule:evenodd;stroke:#000000;stroke-width:1.0px;stroke-linecap:butt;stroke-linejoin:miter;stroke-opacity:1\"/>\n",
       "<path class=\"bond-6 atom-1 atom-7\" d=\"M 83.0,152.8 L 83.0,147.1\" style=\"fill:none;fill-rule:evenodd;stroke:#000000;stroke-width:1.0px;stroke-linecap:butt;stroke-linejoin:miter;stroke-opacity:1\"/>\n",
       "<path class=\"bond-6 atom-1 atom-7\" d=\"M 79.5,153.1 L 79.5,146.8\" style=\"fill:none;fill-rule:evenodd;stroke:#000000;stroke-width:1.0px;stroke-linecap:butt;stroke-linejoin:miter;stroke-opacity:1\"/>\n",
       "<path class=\"bond-6 atom-1 atom-7\" d=\"M 76.0,153.4 L 76.0,146.5\" style=\"fill:none;fill-rule:evenodd;stroke:#000000;stroke-width:1.0px;stroke-linecap:butt;stroke-linejoin:miter;stroke-opacity:1\"/>\n",
       "<path class=\"bond-6 atom-1 atom-7\" d=\"M 72.6,153.7 L 72.6,146.1\" style=\"fill:none;fill-rule:evenodd;stroke:#000000;stroke-width:1.0px;stroke-linecap:butt;stroke-linejoin:miter;stroke-opacity:1\"/>\n",
       "<path class=\"bond-6 atom-1 atom-7\" d=\"M 69.1,154.1 L 69.1,145.8\" style=\"fill:none;fill-rule:evenodd;stroke:#000000;stroke-width:1.0px;stroke-linecap:butt;stroke-linejoin:miter;stroke-opacity:1\"/>\n",
       "<path class=\"bond-6 atom-1 atom-7\" d=\"M 65.6,154.4 L 65.6,145.5\" style=\"fill:none;fill-rule:evenodd;stroke:#000000;stroke-width:1.0px;stroke-linecap:butt;stroke-linejoin:miter;stroke-opacity:1\"/>\n",
       "<path class=\"bond-6 atom-1 atom-7\" d=\"M 62.1,154.7 L 62.1,145.2\" style=\"fill:none;fill-rule:evenodd;stroke:#000000;stroke-width:1.0px;stroke-linecap:butt;stroke-linejoin:miter;stroke-opacity:1\"/>\n",
       "<path class=\"bond-6 atom-1 atom-7\" d=\"M 58.7,155.0 L 58.7,144.9\" style=\"fill:none;fill-rule:evenodd;stroke:#000000;stroke-width:1.0px;stroke-linecap:butt;stroke-linejoin:miter;stroke-opacity:1\"/>\n",
       "<path class=\"bond-6 atom-1 atom-7\" d=\"M 55.2,155.3 L 55.2,144.6\" style=\"fill:none;fill-rule:evenodd;stroke:#000000;stroke-width:1.0px;stroke-linecap:butt;stroke-linejoin:miter;stroke-opacity:1\"/>\n",
       "<path class=\"atom-2\" d=\"M 179.9 68.0 L 192.0 68.0 L 192.0 70.4 L 182.7 70.4 L 182.7 76.5 L 191.0 76.5 L 191.0 78.9 L 182.7 78.9 L 182.7 88.4 L 179.9 88.4 L 179.9 68.0 \" fill=\"#000000\"/>\n",
       "<path class=\"atom-3\" d=\"M 108.2 68.0 L 120.3 68.0 L 120.3 70.4 L 110.9 70.4 L 110.9 76.5 L 119.2 76.5 L 119.2 78.9 L 110.9 78.9 L 110.9 88.4 L 108.2 88.4 L 108.2 68.0 \" fill=\"#000000\"/>\n",
       "<path class=\"atom-4\" d=\"M 184.6 211.5 L 187.3 211.5 L 187.3 231.9 L 184.6 231.9 L 184.6 211.5 \" fill=\"#000000\"/>\n",
       "<path class=\"atom-5\" d=\"M 112.9 211.5 L 115.6 211.5 L 115.6 231.9 L 112.9 231.9 L 112.9 211.5 \" fill=\"#000000\"/>\n",
       "<path class=\"atom-6\" d=\"M 249.8 139.8 L 252.5 139.8 L 252.5 148.4 L 262.9 148.4 L 262.9 139.8 L 265.7 139.8 L 265.7 160.1 L 262.9 160.1 L 262.9 150.7 L 252.5 150.7 L 252.5 160.1 L 249.8 160.1 L 249.8 139.8 \" fill=\"#000000\"/>\n",
       "<path class=\"atom-7\" d=\"M 34.6 139.8 L 37.3 139.8 L 37.3 148.4 L 47.7 148.4 L 47.7 139.8 L 50.4 139.8 L 50.4 160.1 L 47.7 160.1 L 47.7 150.7 L 37.3 150.7 L 37.3 160.1 L 34.6 160.1 L 34.6 139.8 \" fill=\"#000000\"/>\n",
       "<path class=\"note\" d=\"M 175.0 145.4 L 177.2 145.4 L 177.2 137.9 L 174.8 138.6 L 174.5 137.8 L 177.6 136.4 L 178.6 136.6 L 178.6 145.4 L 180.6 145.4 L 180.6 146.6 L 175.0 146.6 L 175.0 145.4 \" fill=\"#000000\"/>\n",
       "<path class=\"note\" d=\"M 119.3 138.4 Q 119.7 137.4, 120.6 136.9 Q 121.5 136.4, 122.7 136.4 Q 124.2 136.4, 125.1 137.2 Q 125.9 138.0, 125.9 139.5 Q 125.9 141.0, 124.8 142.4 Q 123.7 143.8, 121.4 145.5 L 126.1 145.5 L 126.1 146.6 L 119.3 146.6 L 119.3 145.7 Q 121.2 144.3, 122.3 143.3 Q 123.4 142.3, 124.0 141.4 Q 124.5 140.5, 124.5 139.6 Q 124.5 138.6, 124.0 138.0 Q 123.5 137.5, 122.7 137.5 Q 121.9 137.5, 121.3 137.8 Q 120.8 138.2, 120.4 138.9 L 119.3 138.4 \" fill=\"#000000\"/>\n",
       "<path class=\"note\" d=\"M 187.4 54.1 Q 188.4 54.4, 188.9 55.0 Q 189.4 55.6, 189.4 56.6 Q 189.4 57.5, 189.0 58.2 Q 188.5 58.8, 187.7 59.2 Q 187.0 59.6, 185.9 59.6 Q 184.8 59.6, 184.0 59.2 Q 183.2 58.8, 182.6 58.0 L 183.4 57.2 Q 184.0 57.9, 184.5 58.2 Q 185.1 58.4, 185.9 58.4 Q 186.8 58.4, 187.4 57.9 Q 188.0 57.4, 188.0 56.6 Q 188.0 55.6, 187.4 55.1 Q 186.8 54.7, 185.5 54.7 L 184.8 54.7 L 184.8 53.6 L 185.5 53.6 Q 186.6 53.6, 187.2 53.1 Q 187.7 52.7, 187.7 51.8 Q 187.7 51.1, 187.3 50.7 Q 186.8 50.3, 185.9 50.3 Q 185.1 50.3, 184.6 50.6 Q 184.0 50.9, 183.6 51.7 L 182.6 51.1 Q 183.0 50.3, 183.9 49.7 Q 184.7 49.2, 185.9 49.2 Q 187.4 49.2, 188.3 49.9 Q 189.2 50.6, 189.2 51.8 Q 189.2 52.6, 188.7 53.2 Q 188.3 53.7, 187.4 54.1 \" fill=\"#000000\"/>\n",
       "<path class=\"note\" d=\"M 116.9 55.9 L 118.1 55.9 L 118.1 57.0 L 116.9 57.0 L 116.9 59.4 L 115.6 59.4 L 115.6 57.0 L 110.3 57.0 L 110.3 56.1 L 114.8 49.2 L 116.9 49.2 L 116.9 55.9 M 112.0 55.9 L 115.6 55.9 L 115.6 50.1 L 112.0 55.9 \" fill=\"#000000\"/>\n",
       "<path class=\"note\" d=\"M 186.2 244.3 Q 187.1 244.3, 187.8 244.7 Q 188.6 245.1, 189.0 245.8 Q 189.4 246.5, 189.4 247.5 Q 189.4 248.5, 188.9 249.3 Q 188.4 250.0, 187.6 250.4 Q 186.7 250.8, 185.8 250.8 Q 184.9 250.8, 184.0 250.4 Q 183.1 250.1, 182.5 249.4 L 183.4 248.5 Q 183.9 249.1, 184.5 249.4 Q 185.2 249.6, 185.8 249.6 Q 186.7 249.6, 187.3 249.1 Q 188.0 248.5, 188.0 247.5 Q 188.0 246.4, 187.3 245.9 Q 186.7 245.4, 185.7 245.4 Q 184.9 245.4, 183.9 245.8 L 183.1 245.4 L 183.6 240.5 L 188.8 240.5 L 188.6 241.7 L 184.7 241.7 L 184.4 244.7 Q 185.3 244.3, 186.2 244.3 \" fill=\"#000000\"/>\n",
       "<path class=\"note\" d=\"M 114.7 244.4 Q 115.6 244.4, 116.3 244.8 Q 117.0 245.2, 117.4 245.9 Q 117.8 246.6, 117.8 247.5 Q 117.8 248.4, 117.3 249.2 Q 116.9 250.0, 116.1 250.4 Q 115.3 250.8, 114.3 250.8 Q 112.5 250.8, 111.6 249.6 Q 110.7 248.4, 110.7 246.0 Q 110.7 243.3, 111.8 241.9 Q 113.0 240.5, 115.1 240.5 Q 115.8 240.5, 116.3 240.6 Q 116.8 240.7, 117.4 241.0 L 116.8 242.0 Q 116.1 241.6, 115.1 241.6 Q 113.7 241.6, 113.0 242.5 Q 112.3 243.5, 112.2 245.4 Q 112.7 244.9, 113.3 244.6 Q 114.0 244.4, 114.7 244.4 M 114.4 249.7 Q 114.9 249.7, 115.4 249.4 Q 115.8 249.1, 116.1 248.6 Q 116.3 248.1, 116.3 247.5 Q 116.3 246.6, 115.8 246.1 Q 115.3 245.5, 114.4 245.5 Q 113.8 245.5, 113.2 245.8 Q 112.6 246.0, 112.2 246.5 Q 112.2 248.1, 112.8 248.9 Q 113.3 249.7, 114.4 249.7 \" fill=\"#000000\"/>\n",
       "<path class=\"note\" d=\"M 283.6 146.0 L 278.3 146.0 L 278.3 144.9 L 285.0 144.9 L 285.0 145.9 L 280.9 155.0 L 279.5 155.0 L 283.6 146.0 \" fill=\"#000000\"/>\n",
       "<path class=\"note\" d=\"M 20.2 149.7 Q 21.1 150.1, 21.6 150.7 Q 22.2 151.3, 22.2 152.3 Q 22.2 153.2, 21.7 153.8 Q 21.3 154.5, 20.5 154.9 Q 19.7 155.2, 18.6 155.2 Q 17.0 155.2, 16.0 154.4 Q 15.0 153.7, 15.0 152.3 Q 15.0 151.5, 15.4 150.8 Q 15.9 150.2, 16.8 149.7 Q 16.1 149.4, 15.7 148.8 Q 15.4 148.3, 15.4 147.4 Q 15.4 146.2, 16.2 145.5 Q 17.1 144.8, 18.6 144.8 Q 20.1 144.8, 20.9 145.5 Q 21.8 146.2, 21.8 147.4 Q 21.8 148.1, 21.4 148.7 Q 21.0 149.3, 20.2 149.7 M 18.6 145.9 Q 17.7 145.9, 17.3 146.3 Q 16.8 146.7, 16.8 147.4 Q 16.8 147.9, 17.1 148.3 Q 17.4 148.6, 17.9 148.8 Q 18.3 149.0, 19.2 149.3 Q 19.8 148.9, 20.1 148.5 Q 20.4 148.0, 20.4 147.4 Q 20.4 146.7, 19.9 146.3 Q 19.4 145.9, 18.6 145.9 M 18.6 154.1 Q 19.6 154.1, 20.2 153.6 Q 20.7 153.1, 20.7 152.3 Q 20.7 151.7, 20.4 151.4 Q 20.1 151.0, 19.7 150.8 Q 19.2 150.6, 18.4 150.4 L 17.8 150.2 Q 17.1 150.6, 16.8 151.1 Q 16.4 151.6, 16.4 152.3 Q 16.4 153.1, 17.0 153.6 Q 17.6 154.1, 18.6 154.1 \" fill=\"#000000\"/>\n",
       "</svg>"
      ],
      "text/plain": [
       "<IPython.core.display.SVG object>"
      ]
     },
     "metadata": {},
     "output_type": "display_data"
    }
   ],
   "source": [
    "smg"
   ]
  }
 ],
 "metadata": {
  "kernelspec": {
   "display_name": "stereomolgraph (3.13.5)",
   "language": "python",
   "name": "python3"
  },
  "language_info": {
   "codemirror_mode": {
    "name": "ipython",
    "version": 3
   },
   "file_extension": ".py",
   "mimetype": "text/x-python",
   "name": "python",
   "nbconvert_exporter": "python",
   "pygments_lexer": "ipython3",
   "version": "3.13.5"
  }
 },
 "nbformat": 4,
 "nbformat_minor": 5
}
