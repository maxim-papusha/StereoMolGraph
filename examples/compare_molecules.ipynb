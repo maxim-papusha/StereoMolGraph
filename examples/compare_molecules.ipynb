{
 "cells": [
  {
   "cell_type": "markdown",
   "id": "7acb518e",
   "metadata": {},
   "source": [
    "# Comparing Molecules: Identical, Diastereomers, Enantiomers?  #"
   ]
  },
  {
   "cell_type": "code",
   "execution_count": 1,
   "id": "aff3d8fe",
   "metadata": {},
   "outputs": [],
   "source": [
    "import rdkit.Chem as Chem\n",
    "from IPython.core.interactiveshell import InteractiveShell\n",
    "\n",
    "from stereomolgraph import StereoMolGraph, MolGraph\n",
    "from stereomolgraph.ipython import View2D\n",
    "\n",
    "InteractiveShell.ast_node_interactivity = \"all\"\n",
    "\n",
    "View2D.show_atom_numbers = True\n",
    "View2D.show_h = False\n",
    "View2D.generate_bond_orders = True\n",
    "View2D.height = 200\n",
    "View2D.width = 500"
   ]
  },
  {
   "cell_type": "code",
   "execution_count": 2,
   "id": "e14c487c",
   "metadata": {},
   "outputs": [],
   "source": [
    "smiles1 = r\"C[C@H](C[C@H](C)C/1)CC1=C\\C\"\n",
    "smiles2 = r\"C[C@H](C[C@H](C)C/1)CC1=C/C\"\n",
    "\n",
    "rdmol = Chem.AddHs(Chem.MolFromSmiles(smiles1), explicitOnly=False)\n",
    "rdmol2 = Chem.AddHs(Chem.MolFromSmiles(smiles2), explicitOnly=False)"
   ]
  },
  {
   "cell_type": "markdown",
   "id": "d7de302e",
   "metadata": {},
   "source": [
    "## Compare connectivity ##\n"
   ]
  },
  {
   "cell_type": "code",
   "execution_count": 3,
   "id": "00947d0b",
   "metadata": {},
   "outputs": [
    {
     "data": {
      "text/plain": [
       "True"
      ]
     },
     "execution_count": 3,
     "metadata": {},
     "output_type": "execute_result"
    }
   ],
   "source": [
    "mg1 = MolGraph.from_rdmol(rdmol)\n",
    "mg2 = MolGraph.from_rdmol(rdmol2)\n",
    "mg1 == mg2 # compare connectivity"
   ]
  },
  {
   "cell_type": "code",
   "execution_count": 4,
   "id": "777da463",
   "metadata": {},
   "outputs": [
    {
     "data": {
      "image/svg+xml": [
       "<svg xmlns=\"http://www.w3.org/2000/svg\" xmlns:rdkit=\"http://www.rdkit.org/xml\" xmlns:xlink=\"http://www.w3.org/1999/xlink\" version=\"1.1\" baseProfile=\"full\" xml:space=\"preserve\" width=\"500px\" height=\"200px\" viewBox=\"0 0 500 200\">\n",
       "<!-- END OF HEADER -->\n",
       "<rect style=\"opacity:1.0;fill:#FFFFFF;stroke:none\" width=\"500.0\" height=\"200.0\" x=\"0.0\" y=\"0.0\"> </rect>\n",
       "<path class=\"bond-0 atom-0 atom-1\" d=\"M 226.5,186.0 L 226.5,131.7\" style=\"fill:none;fill-rule:evenodd;stroke:#000000;stroke-width:2.0px;stroke-linecap:butt;stroke-linejoin:miter;stroke-opacity:1\"/>\n",
       "<path class=\"bond-1 atom-1 atom-2\" d=\"M 226.5,131.7 L 179.4,104.5\" style=\"fill:none;fill-rule:evenodd;stroke:#000000;stroke-width:2.0px;stroke-linecap:butt;stroke-linejoin:miter;stroke-opacity:1\"/>\n",
       "<path class=\"bond-2 atom-1 atom-6\" d=\"M 226.5,131.7 L 273.5,104.5\" style=\"fill:none;fill-rule:evenodd;stroke:#000000;stroke-width:2.0px;stroke-linecap:butt;stroke-linejoin:miter;stroke-opacity:1\"/>\n",
       "<path class=\"bond-3 atom-2 atom-3\" d=\"M 179.4,104.5 L 179.4,50.1\" style=\"fill:none;fill-rule:evenodd;stroke:#000000;stroke-width:2.0px;stroke-linecap:butt;stroke-linejoin:miter;stroke-opacity:1\"/>\n",
       "<path class=\"bond-4 atom-3 atom-4\" d=\"M 179.4,50.1 L 132.3,23.0\" style=\"fill:none;fill-rule:evenodd;stroke:#000000;stroke-width:2.0px;stroke-linecap:butt;stroke-linejoin:miter;stroke-opacity:1\"/>\n",
       "<path class=\"bond-5 atom-3 atom-5\" d=\"M 179.4,50.1 L 226.5,23.0\" style=\"fill:none;fill-rule:evenodd;stroke:#000000;stroke-width:2.0px;stroke-linecap:butt;stroke-linejoin:miter;stroke-opacity:1\"/>\n",
       "<path class=\"bond-6 atom-5 atom-7\" d=\"M 226.5,23.0 L 273.5,50.1\" style=\"fill:none;fill-rule:evenodd;stroke:#000000;stroke-width:2.0px;stroke-linecap:butt;stroke-linejoin:miter;stroke-opacity:1\"/>\n",
       "<path class=\"bond-7 atom-6 atom-7\" d=\"M 273.5,104.5 L 273.5,50.1\" style=\"fill:none;fill-rule:evenodd;stroke:#000000;stroke-width:2.0px;stroke-linecap:butt;stroke-linejoin:miter;stroke-opacity:1\"/>\n",
       "<path class=\"bond-8 atom-7 atom-8\" d=\"M 273.5,50.1 L 320.6,23.0\" style=\"fill:none;fill-rule:evenodd;stroke:#000000;stroke-width:2.0px;stroke-linecap:butt;stroke-linejoin:miter;stroke-opacity:1\"/>\n",
       "<path class=\"bond-8 atom-7 atom-8\" d=\"M 281.7,54.8 L 320.6,32.4\" style=\"fill:none;fill-rule:evenodd;stroke:#000000;stroke-width:2.0px;stroke-linecap:butt;stroke-linejoin:miter;stroke-opacity:1\"/>\n",
       "<path class=\"bond-9 atom-8 atom-9\" d=\"M 320.6,23.0 L 367.7,50.1\" style=\"fill:none;fill-rule:evenodd;stroke:#000000;stroke-width:2.0px;stroke-linecap:butt;stroke-linejoin:miter;stroke-opacity:1\"/>\n",
       "<path d=\"M 181.7,105.8 L 179.4,104.5 L 179.4,101.8\" style=\"fill:none;stroke:#000000;stroke-width:2.0px;stroke-linecap:butt;stroke-linejoin:miter;stroke-opacity:1;\"/>\n",
       "<path d=\"M 224.1,24.3 L 226.5,23.0 L 228.8,24.3\" style=\"fill:none;stroke:#000000;stroke-width:2.0px;stroke-linecap:butt;stroke-linejoin:miter;stroke-opacity:1;\"/>\n",
       "<path d=\"M 271.2,105.8 L 273.5,104.5 L 273.5,101.8\" style=\"fill:none;stroke:#000000;stroke-width:2.0px;stroke-linecap:butt;stroke-linejoin:miter;stroke-opacity:1;\"/>\n",
       "<path d=\"M 318.3,24.3 L 320.6,23.0 L 323.0,24.3\" style=\"fill:none;stroke:#000000;stroke-width:2.0px;stroke-linecap:butt;stroke-linejoin:miter;stroke-opacity:1;\"/>\n",
       "<path class=\"note\" d=\"M 217.4 190.0 Q 216.0 190.0, 215.3 189.0 Q 214.6 187.9, 214.6 186.1 Q 214.6 184.2, 215.3 183.2 Q 216.0 182.1, 217.4 182.1 Q 218.8 182.1, 219.5 183.2 Q 220.2 184.2, 220.2 186.1 Q 220.2 187.9, 219.5 189.0 Q 218.8 190.0, 217.4 190.0 M 217.4 189.1 Q 218.2 189.1, 218.7 188.4 Q 219.1 187.6, 219.1 186.1 Q 219.1 184.5, 218.7 183.8 Q 218.2 183.0, 217.4 183.0 Q 216.6 183.0, 216.1 183.8 Q 215.7 184.5, 215.7 186.1 Q 215.7 187.6, 216.1 188.4 Q 216.6 189.1, 217.4 189.1 \" fill=\"#000000\"/>\n",
       "<path class=\"note\" d=\"M 216.7 139.2 L 218.4 139.2 L 218.4 133.4 L 216.5 134.0 L 216.3 133.4 L 218.7 132.3 L 219.4 132.5 L 219.4 139.2 L 220.9 139.2 L 220.9 140.1 L 216.7 140.1 L 216.7 139.2 \" fill=\"#000000\"/>\n",
       "<path class=\"note\" d=\"M 169.0 106.7 Q 169.3 105.9, 169.9 105.5 Q 170.6 105.1, 171.5 105.1 Q 172.7 105.1, 173.4 105.8 Q 174.0 106.4, 174.0 107.5 Q 174.0 108.6, 173.2 109.7 Q 172.3 110.8, 170.6 112.0 L 174.1 112.0 L 174.1 112.9 L 169.0 112.9 L 169.0 112.2 Q 170.4 111.2, 171.2 110.4 Q 172.1 109.6, 172.5 109.0 Q 172.9 108.3, 172.9 107.6 Q 172.9 106.8, 172.5 106.4 Q 172.2 106.0, 171.5 106.0 Q 170.9 106.0, 170.5 106.2 Q 170.1 106.5, 169.8 107.0 L 169.0 106.7 \" fill=\"#000000\"/>\n",
       "<path class=\"note\" d=\"M 172.7 54.5 Q 173.4 54.7, 173.8 55.2 Q 174.1 55.7, 174.1 56.4 Q 174.1 57.1, 173.8 57.6 Q 173.5 58.1, 172.9 58.4 Q 172.3 58.7, 171.5 58.7 Q 170.7 58.7, 170.1 58.4 Q 169.4 58.1, 169.0 57.5 L 169.6 56.9 Q 170.1 57.4, 170.5 57.6 Q 170.9 57.8, 171.5 57.8 Q 172.2 57.8, 172.6 57.4 Q 173.0 57.0, 173.0 56.4 Q 173.0 55.6, 172.6 55.3 Q 172.2 54.9, 171.2 54.9 L 170.7 54.9 L 170.7 54.2 L 171.2 54.2 Q 172.0 54.1, 172.4 53.8 Q 172.9 53.4, 172.9 52.7 Q 172.9 52.2, 172.5 51.9 Q 172.1 51.6, 171.5 51.6 Q 170.9 51.6, 170.5 51.9 Q 170.1 52.1, 169.8 52.7 L 169.0 52.3 Q 169.3 51.6, 169.9 51.2 Q 170.6 50.8, 171.5 50.8 Q 172.6 50.8, 173.3 51.3 Q 174.0 51.8, 174.0 52.7 Q 174.0 53.4, 173.6 53.8 Q 173.3 54.2, 172.7 54.5 \" fill=\"#000000\"/>\n",
       "<path class=\"note\" d=\"M 138.9 16.3 L 139.8 16.3 L 139.8 17.2 L 138.9 17.2 L 138.9 19.0 L 137.9 19.0 L 137.9 17.2 L 133.9 17.2 L 133.9 16.5 L 137.3 11.3 L 138.9 11.3 L 138.9 16.3 M 135.1 16.3 L 137.9 16.3 L 137.9 12.0 L 135.1 16.3 \" fill=\"#000000\"/>\n",
       "<path class=\"note\" d=\"M 226.7 12.9 Q 227.3 12.9, 227.9 13.2 Q 228.4 13.5, 228.8 14.0 Q 229.1 14.6, 229.1 15.3 Q 229.1 16.1, 228.7 16.7 Q 228.3 17.2, 227.7 17.5 Q 227.0 17.8, 226.3 17.8 Q 225.6 17.8, 225.0 17.6 Q 224.3 17.3, 223.9 16.8 L 224.5 16.1 Q 224.9 16.5, 225.4 16.7 Q 225.8 16.9, 226.3 16.9 Q 227.0 16.9, 227.5 16.5 Q 228.0 16.1, 228.0 15.3 Q 228.0 14.5, 227.5 14.1 Q 227.0 13.7, 226.3 13.7 Q 225.6 13.7, 224.9 14.0 L 224.3 13.8 L 224.6 10.0 L 228.6 10.0 L 228.5 10.9 L 225.5 10.9 L 225.3 13.2 Q 226.0 12.9, 226.7 12.9 \" fill=\"#000000\"/>\n",
       "<path class=\"note\" d=\"M 281.7 108.1 Q 282.4 108.1, 282.9 108.4 Q 283.5 108.7, 283.8 109.2 Q 284.1 109.8, 284.1 110.4 Q 284.1 111.2, 283.7 111.8 Q 283.4 112.3, 282.8 112.7 Q 282.2 113.0, 281.5 113.0 Q 280.1 113.0, 279.4 112.1 Q 278.7 111.1, 278.7 109.3 Q 278.7 107.2, 279.6 106.2 Q 280.4 105.1, 282.1 105.1 Q 282.5 105.1, 282.9 105.2 Q 283.4 105.3, 283.7 105.6 L 283.3 106.3 Q 282.8 106.0, 282.1 106.0 Q 281.0 106.0, 280.4 106.7 Q 279.9 107.4, 279.8 108.8 Q 280.2 108.5, 280.7 108.3 Q 281.2 108.1, 281.7 108.1 M 281.5 112.1 Q 281.9 112.1, 282.2 111.9 Q 282.6 111.7, 282.8 111.3 Q 283.0 110.9, 283.0 110.4 Q 283.0 109.8, 282.6 109.4 Q 282.2 109.0, 281.5 109.0 Q 281.1 109.0, 280.6 109.2 Q 280.1 109.4, 279.8 109.7 Q 279.9 111.0, 280.3 111.5 Q 280.7 112.1, 281.5 112.1 \" fill=\"#000000\"/>\n",
       "<path class=\"note\" d=\"M 267.2 51.7 L 263.1 51.7 L 263.1 50.8 L 268.2 50.8 L 268.2 51.6 L 265.1 58.5 L 264.1 58.5 L 267.2 51.7 \" fill=\"#000000\"/>\n",
       "<path class=\"note\" d=\"M 321.8 13.7 Q 322.5 14.0, 322.9 14.5 Q 323.3 14.9, 323.3 15.7 Q 323.3 16.3, 323.0 16.8 Q 322.7 17.3, 322.0 17.6 Q 321.4 17.9, 320.7 17.9 Q 319.4 17.9, 318.6 17.3 Q 317.9 16.7, 317.9 15.7 Q 317.9 15.0, 318.2 14.6 Q 318.5 14.1, 319.2 13.7 Q 318.7 13.5, 318.4 13.0 Q 318.2 12.6, 318.2 12.0 Q 318.2 11.1, 318.8 10.5 Q 319.5 10.0, 320.6 10.0 Q 321.7 10.0, 322.4 10.5 Q 323.0 11.1, 323.0 12.0 Q 323.0 12.5, 322.7 13.0 Q 322.4 13.4, 321.8 13.7 M 320.6 10.8 Q 320.0 10.8, 319.6 11.1 Q 319.3 11.4, 319.3 12.0 Q 319.3 12.4, 319.5 12.6 Q 319.7 12.9, 320.1 13.1 Q 320.4 13.2, 321.1 13.4 Q 321.6 13.1, 321.8 12.8 Q 322.0 12.4, 322.0 12.0 Q 322.0 11.4, 321.6 11.1 Q 321.3 10.8, 320.6 10.8 M 320.7 17.1 Q 321.4 17.1, 321.8 16.7 Q 322.2 16.3, 322.2 15.7 Q 322.2 15.3, 322.0 15.0 Q 321.8 14.7, 321.4 14.6 Q 321.1 14.4, 320.5 14.2 L 320.0 14.1 Q 319.5 14.4, 319.2 14.8 Q 319.0 15.2, 319.0 15.7 Q 319.0 16.3, 319.4 16.7 Q 319.9 17.1, 320.7 17.1 \" fill=\"#000000\"/>\n",
       "<path class=\"note\" d=\"M 363.1 54.1 Q 364.4 54.1, 365.1 55.0 Q 365.8 55.9, 365.8 57.8 Q 365.8 59.8, 365.0 60.9 Q 364.1 62.0, 362.5 62.0 Q 362.0 62.0, 361.6 61.8 Q 361.2 61.7, 360.8 61.5 L 361.2 60.8 Q 361.8 61.1, 362.5 61.1 Q 363.6 61.1, 364.1 60.4 Q 364.7 59.7, 364.7 58.2 Q 364.3 58.6, 363.8 58.8 Q 363.3 59.0, 362.8 59.0 Q 362.1 59.0, 361.6 58.7 Q 361.1 58.4, 360.8 57.9 Q 360.5 57.3, 360.5 56.6 Q 360.5 55.9, 360.8 55.3 Q 361.1 54.7, 361.7 54.4 Q 362.3 54.1, 363.1 54.1 M 361.6 56.6 Q 361.6 57.3, 362.0 57.7 Q 362.3 58.1, 363.0 58.1 Q 363.5 58.1, 363.9 57.9 Q 364.4 57.7, 364.7 57.4 Q 364.7 56.1, 364.3 55.6 Q 363.9 55.0, 363.1 55.0 Q 362.7 55.0, 362.3 55.2 Q 362.0 55.4, 361.8 55.8 Q 361.6 56.2, 361.6 56.6 \" fill=\"#000000\"/>\n",
       "</svg>"
      ],
      "text/plain": [
       "<IPython.core.display.SVG object>"
      ]
     },
     "metadata": {},
     "output_type": "display_data"
    },
    {
     "data": {
      "image/svg+xml": [
       "<svg xmlns=\"http://www.w3.org/2000/svg\" xmlns:rdkit=\"http://www.rdkit.org/xml\" xmlns:xlink=\"http://www.w3.org/1999/xlink\" version=\"1.1\" baseProfile=\"full\" xml:space=\"preserve\" width=\"500px\" height=\"200px\" viewBox=\"0 0 500 200\">\n",
       "<!-- END OF HEADER -->\n",
       "<rect style=\"opacity:1.0;fill:#FFFFFF;stroke:none\" width=\"500.0\" height=\"200.0\" x=\"0.0\" y=\"0.0\"> </rect>\n",
       "<path class=\"bond-0 atom-0 atom-1\" d=\"M 226.5,186.0 L 226.5,131.7\" style=\"fill:none;fill-rule:evenodd;stroke:#000000;stroke-width:2.0px;stroke-linecap:butt;stroke-linejoin:miter;stroke-opacity:1\"/>\n",
       "<path class=\"bond-1 atom-1 atom-2\" d=\"M 226.5,131.7 L 179.4,104.5\" style=\"fill:none;fill-rule:evenodd;stroke:#000000;stroke-width:2.0px;stroke-linecap:butt;stroke-linejoin:miter;stroke-opacity:1\"/>\n",
       "<path class=\"bond-2 atom-1 atom-6\" d=\"M 226.5,131.7 L 273.5,104.5\" style=\"fill:none;fill-rule:evenodd;stroke:#000000;stroke-width:2.0px;stroke-linecap:butt;stroke-linejoin:miter;stroke-opacity:1\"/>\n",
       "<path class=\"bond-3 atom-2 atom-3\" d=\"M 179.4,104.5 L 179.4,50.1\" style=\"fill:none;fill-rule:evenodd;stroke:#000000;stroke-width:2.0px;stroke-linecap:butt;stroke-linejoin:miter;stroke-opacity:1\"/>\n",
       "<path class=\"bond-4 atom-3 atom-4\" d=\"M 179.4,50.1 L 132.3,23.0\" style=\"fill:none;fill-rule:evenodd;stroke:#000000;stroke-width:2.0px;stroke-linecap:butt;stroke-linejoin:miter;stroke-opacity:1\"/>\n",
       "<path class=\"bond-5 atom-3 atom-5\" d=\"M 179.4,50.1 L 226.5,23.0\" style=\"fill:none;fill-rule:evenodd;stroke:#000000;stroke-width:2.0px;stroke-linecap:butt;stroke-linejoin:miter;stroke-opacity:1\"/>\n",
       "<path class=\"bond-6 atom-5 atom-7\" d=\"M 226.5,23.0 L 273.5,50.1\" style=\"fill:none;fill-rule:evenodd;stroke:#000000;stroke-width:2.0px;stroke-linecap:butt;stroke-linejoin:miter;stroke-opacity:1\"/>\n",
       "<path class=\"bond-7 atom-6 atom-7\" d=\"M 273.5,104.5 L 273.5,50.1\" style=\"fill:none;fill-rule:evenodd;stroke:#000000;stroke-width:2.0px;stroke-linecap:butt;stroke-linejoin:miter;stroke-opacity:1\"/>\n",
       "<path class=\"bond-8 atom-7 atom-8\" d=\"M 273.5,50.1 L 320.6,23.0\" style=\"fill:none;fill-rule:evenodd;stroke:#000000;stroke-width:2.0px;stroke-linecap:butt;stroke-linejoin:miter;stroke-opacity:1\"/>\n",
       "<path class=\"bond-8 atom-7 atom-8\" d=\"M 281.7,54.8 L 320.6,32.4\" style=\"fill:none;fill-rule:evenodd;stroke:#000000;stroke-width:2.0px;stroke-linecap:butt;stroke-linejoin:miter;stroke-opacity:1\"/>\n",
       "<path class=\"bond-9 atom-8 atom-9\" d=\"M 320.6,23.0 L 367.7,50.1\" style=\"fill:none;fill-rule:evenodd;stroke:#000000;stroke-width:2.0px;stroke-linecap:butt;stroke-linejoin:miter;stroke-opacity:1\"/>\n",
       "<path d=\"M 181.7,105.8 L 179.4,104.5 L 179.4,101.8\" style=\"fill:none;stroke:#000000;stroke-width:2.0px;stroke-linecap:butt;stroke-linejoin:miter;stroke-opacity:1;\"/>\n",
       "<path d=\"M 224.1,24.3 L 226.5,23.0 L 228.8,24.3\" style=\"fill:none;stroke:#000000;stroke-width:2.0px;stroke-linecap:butt;stroke-linejoin:miter;stroke-opacity:1;\"/>\n",
       "<path d=\"M 271.2,105.8 L 273.5,104.5 L 273.5,101.8\" style=\"fill:none;stroke:#000000;stroke-width:2.0px;stroke-linecap:butt;stroke-linejoin:miter;stroke-opacity:1;\"/>\n",
       "<path d=\"M 318.3,24.3 L 320.6,23.0 L 323.0,24.3\" style=\"fill:none;stroke:#000000;stroke-width:2.0px;stroke-linecap:butt;stroke-linejoin:miter;stroke-opacity:1;\"/>\n",
       "<path class=\"note\" d=\"M 217.4 190.0 Q 216.0 190.0, 215.3 189.0 Q 214.6 187.9, 214.6 186.1 Q 214.6 184.2, 215.3 183.2 Q 216.0 182.1, 217.4 182.1 Q 218.8 182.1, 219.5 183.2 Q 220.2 184.2, 220.2 186.1 Q 220.2 187.9, 219.5 189.0 Q 218.8 190.0, 217.4 190.0 M 217.4 189.1 Q 218.2 189.1, 218.7 188.4 Q 219.1 187.6, 219.1 186.1 Q 219.1 184.5, 218.7 183.8 Q 218.2 183.0, 217.4 183.0 Q 216.6 183.0, 216.1 183.8 Q 215.7 184.5, 215.7 186.1 Q 215.7 187.6, 216.1 188.4 Q 216.6 189.1, 217.4 189.1 \" fill=\"#000000\"/>\n",
       "<path class=\"note\" d=\"M 216.7 139.2 L 218.4 139.2 L 218.4 133.4 L 216.5 134.0 L 216.3 133.4 L 218.7 132.3 L 219.4 132.5 L 219.4 139.2 L 220.9 139.2 L 220.9 140.1 L 216.7 140.1 L 216.7 139.2 \" fill=\"#000000\"/>\n",
       "<path class=\"note\" d=\"M 169.0 106.7 Q 169.3 105.9, 169.9 105.5 Q 170.6 105.1, 171.5 105.1 Q 172.7 105.1, 173.4 105.8 Q 174.0 106.4, 174.0 107.5 Q 174.0 108.6, 173.2 109.7 Q 172.3 110.8, 170.6 112.0 L 174.1 112.0 L 174.1 112.9 L 169.0 112.9 L 169.0 112.2 Q 170.4 111.2, 171.2 110.4 Q 172.1 109.6, 172.5 109.0 Q 172.9 108.3, 172.9 107.6 Q 172.9 106.8, 172.5 106.4 Q 172.2 106.0, 171.5 106.0 Q 170.9 106.0, 170.5 106.2 Q 170.1 106.5, 169.8 107.0 L 169.0 106.7 \" fill=\"#000000\"/>\n",
       "<path class=\"note\" d=\"M 172.7 54.5 Q 173.4 54.7, 173.8 55.2 Q 174.1 55.7, 174.1 56.4 Q 174.1 57.1, 173.8 57.6 Q 173.5 58.1, 172.9 58.4 Q 172.3 58.7, 171.5 58.7 Q 170.7 58.7, 170.1 58.4 Q 169.4 58.1, 169.0 57.5 L 169.6 56.9 Q 170.1 57.4, 170.5 57.6 Q 170.9 57.8, 171.5 57.8 Q 172.2 57.8, 172.6 57.4 Q 173.0 57.0, 173.0 56.4 Q 173.0 55.6, 172.6 55.3 Q 172.2 54.9, 171.2 54.9 L 170.7 54.9 L 170.7 54.2 L 171.2 54.2 Q 172.0 54.1, 172.4 53.8 Q 172.9 53.4, 172.9 52.7 Q 172.9 52.2, 172.5 51.9 Q 172.1 51.6, 171.5 51.6 Q 170.9 51.6, 170.5 51.9 Q 170.1 52.1, 169.8 52.7 L 169.0 52.3 Q 169.3 51.6, 169.9 51.2 Q 170.6 50.8, 171.5 50.8 Q 172.6 50.8, 173.3 51.3 Q 174.0 51.8, 174.0 52.7 Q 174.0 53.4, 173.6 53.8 Q 173.3 54.2, 172.7 54.5 \" fill=\"#000000\"/>\n",
       "<path class=\"note\" d=\"M 138.9 16.3 L 139.8 16.3 L 139.8 17.2 L 138.9 17.2 L 138.9 19.0 L 137.9 19.0 L 137.9 17.2 L 133.9 17.2 L 133.9 16.5 L 137.3 11.3 L 138.9 11.3 L 138.9 16.3 M 135.1 16.3 L 137.9 16.3 L 137.9 12.0 L 135.1 16.3 \" fill=\"#000000\"/>\n",
       "<path class=\"note\" d=\"M 226.7 12.9 Q 227.3 12.9, 227.9 13.2 Q 228.4 13.5, 228.8 14.0 Q 229.1 14.6, 229.1 15.3 Q 229.1 16.1, 228.7 16.7 Q 228.3 17.2, 227.7 17.5 Q 227.0 17.8, 226.3 17.8 Q 225.6 17.8, 225.0 17.6 Q 224.3 17.3, 223.9 16.8 L 224.5 16.1 Q 224.9 16.5, 225.4 16.7 Q 225.8 16.9, 226.3 16.9 Q 227.0 16.9, 227.5 16.5 Q 228.0 16.1, 228.0 15.3 Q 228.0 14.5, 227.5 14.1 Q 227.0 13.7, 226.3 13.7 Q 225.6 13.7, 224.9 14.0 L 224.3 13.8 L 224.6 10.0 L 228.6 10.0 L 228.5 10.9 L 225.5 10.9 L 225.3 13.2 Q 226.0 12.9, 226.7 12.9 \" fill=\"#000000\"/>\n",
       "<path class=\"note\" d=\"M 281.7 108.1 Q 282.4 108.1, 282.9 108.4 Q 283.5 108.7, 283.8 109.2 Q 284.1 109.8, 284.1 110.4 Q 284.1 111.2, 283.7 111.8 Q 283.4 112.3, 282.8 112.7 Q 282.2 113.0, 281.5 113.0 Q 280.1 113.0, 279.4 112.1 Q 278.7 111.1, 278.7 109.3 Q 278.7 107.2, 279.6 106.2 Q 280.4 105.1, 282.1 105.1 Q 282.5 105.1, 282.9 105.2 Q 283.4 105.3, 283.7 105.6 L 283.3 106.3 Q 282.8 106.0, 282.1 106.0 Q 281.0 106.0, 280.4 106.7 Q 279.9 107.4, 279.8 108.8 Q 280.2 108.5, 280.7 108.3 Q 281.2 108.1, 281.7 108.1 M 281.5 112.1 Q 281.9 112.1, 282.2 111.9 Q 282.6 111.7, 282.8 111.3 Q 283.0 110.9, 283.0 110.4 Q 283.0 109.8, 282.6 109.4 Q 282.2 109.0, 281.5 109.0 Q 281.1 109.0, 280.6 109.2 Q 280.1 109.4, 279.8 109.7 Q 279.9 111.0, 280.3 111.5 Q 280.7 112.1, 281.5 112.1 \" fill=\"#000000\"/>\n",
       "<path class=\"note\" d=\"M 267.2 51.7 L 263.1 51.7 L 263.1 50.8 L 268.2 50.8 L 268.2 51.6 L 265.1 58.5 L 264.1 58.5 L 267.2 51.7 \" fill=\"#000000\"/>\n",
       "<path class=\"note\" d=\"M 321.8 13.7 Q 322.5 14.0, 322.9 14.5 Q 323.3 14.9, 323.3 15.7 Q 323.3 16.3, 323.0 16.8 Q 322.7 17.3, 322.0 17.6 Q 321.4 17.9, 320.7 17.9 Q 319.4 17.9, 318.6 17.3 Q 317.9 16.7, 317.9 15.7 Q 317.9 15.0, 318.2 14.6 Q 318.5 14.1, 319.2 13.7 Q 318.7 13.5, 318.4 13.0 Q 318.2 12.6, 318.2 12.0 Q 318.2 11.1, 318.8 10.5 Q 319.5 10.0, 320.6 10.0 Q 321.7 10.0, 322.4 10.5 Q 323.0 11.1, 323.0 12.0 Q 323.0 12.5, 322.7 13.0 Q 322.4 13.4, 321.8 13.7 M 320.6 10.8 Q 320.0 10.8, 319.6 11.1 Q 319.3 11.4, 319.3 12.0 Q 319.3 12.4, 319.5 12.6 Q 319.7 12.9, 320.1 13.1 Q 320.4 13.2, 321.1 13.4 Q 321.6 13.1, 321.8 12.8 Q 322.0 12.4, 322.0 12.0 Q 322.0 11.4, 321.6 11.1 Q 321.3 10.8, 320.6 10.8 M 320.7 17.1 Q 321.4 17.1, 321.8 16.7 Q 322.2 16.3, 322.2 15.7 Q 322.2 15.3, 322.0 15.0 Q 321.8 14.7, 321.4 14.6 Q 321.1 14.4, 320.5 14.2 L 320.0 14.1 Q 319.5 14.4, 319.2 14.8 Q 319.0 15.2, 319.0 15.7 Q 319.0 16.3, 319.4 16.7 Q 319.9 17.1, 320.7 17.1 \" fill=\"#000000\"/>\n",
       "<path class=\"note\" d=\"M 363.1 54.1 Q 364.4 54.1, 365.1 55.0 Q 365.8 55.9, 365.8 57.8 Q 365.8 59.8, 365.0 60.9 Q 364.1 62.0, 362.5 62.0 Q 362.0 62.0, 361.6 61.8 Q 361.2 61.7, 360.8 61.5 L 361.2 60.8 Q 361.8 61.1, 362.5 61.1 Q 363.6 61.1, 364.1 60.4 Q 364.7 59.7, 364.7 58.2 Q 364.3 58.6, 363.8 58.8 Q 363.3 59.0, 362.8 59.0 Q 362.1 59.0, 361.6 58.7 Q 361.1 58.4, 360.8 57.9 Q 360.5 57.3, 360.5 56.6 Q 360.5 55.9, 360.8 55.3 Q 361.1 54.7, 361.7 54.4 Q 362.3 54.1, 363.1 54.1 M 361.6 56.6 Q 361.6 57.3, 362.0 57.7 Q 362.3 58.1, 363.0 58.1 Q 363.5 58.1, 363.9 57.9 Q 364.4 57.7, 364.7 57.4 Q 364.7 56.1, 364.3 55.6 Q 363.9 55.0, 363.1 55.0 Q 362.7 55.0, 362.3 55.2 Q 362.0 55.4, 361.8 55.8 Q 361.6 56.2, 361.6 56.6 \" fill=\"#000000\"/>\n",
       "</svg>"
      ],
      "text/plain": [
       "<IPython.core.display.SVG object>"
      ]
     },
     "metadata": {},
     "output_type": "display_data"
    }
   ],
   "source": [
    "mg1\n",
    "mg2"
   ]
  },
  {
   "cell_type": "markdown",
   "id": "f5a1cff7",
   "metadata": {},
   "source": [
    "## Compare stereochemistry ##"
   ]
  },
  {
   "cell_type": "code",
   "execution_count": 5,
   "id": "4bb173bc",
   "metadata": {},
   "outputs": [
    {
     "data": {
      "text/plain": [
       "False"
      ]
     },
     "execution_count": 5,
     "metadata": {},
     "output_type": "execute_result"
    }
   ],
   "source": [
    "smg1 = StereoMolGraph.from_rdmol(rdmol)\n",
    "smg2 = StereoMolGraph.from_rdmol(rdmol2)\n",
    "\n",
    "smg1 == smg2 # Comparpare with stereochemistry"
   ]
  },
  {
   "cell_type": "code",
   "execution_count": 6,
   "id": "79c9c18e",
   "metadata": {},
   "outputs": [
    {
     "data": {
      "image/svg+xml": [
       "<svg xmlns=\"http://www.w3.org/2000/svg\" xmlns:rdkit=\"http://www.rdkit.org/xml\" xmlns:xlink=\"http://www.w3.org/1999/xlink\" version=\"1.1\" baseProfile=\"full\" xml:space=\"preserve\" width=\"500px\" height=\"200px\" viewBox=\"0 0 500 200\">\n",
       "<!-- END OF HEADER -->\n",
       "<rect style=\"opacity:1.0;fill:#FFFFFF;stroke:none\" width=\"500.0\" height=\"200.0\" x=\"0.0\" y=\"0.0\"> </rect>\n",
       "<path class=\"bond-0 atom-1 atom-0\" d=\"M 177.2,149.8 L 132.1,180.5 L 128.1,173.4 Z\" style=\"fill:#000000;fill-rule:evenodd;fill-opacity:1;stroke:#000000;stroke-width:0.5px;stroke-linecap:butt;stroke-linejoin:miter;stroke-opacity:1;\"/>\n",
       "<path class=\"bond-1 atom-1 atom-2\" d=\"M 177.2,149.8 L 177.2,95.4\" style=\"fill:none;fill-rule:evenodd;stroke:#000000;stroke-width:2.0px;stroke-linecap:butt;stroke-linejoin:miter;stroke-opacity:1\"/>\n",
       "<path class=\"bond-2 atom-1 atom-6\" d=\"M 177.2,149.8 L 224.3,176.9\" style=\"fill:none;fill-rule:evenodd;stroke:#000000;stroke-width:2.0px;stroke-linecap:butt;stroke-linejoin:miter;stroke-opacity:1\"/>\n",
       "<path class=\"bond-3 atom-2 atom-3\" d=\"M 177.2,95.4 L 224.3,68.2\" style=\"fill:none;fill-rule:evenodd;stroke:#000000;stroke-width:2.0px;stroke-linecap:butt;stroke-linejoin:miter;stroke-opacity:1\"/>\n",
       "<path class=\"bond-4 atom-3 atom-4\" d=\"M 224.3,68.2 L 220.2,13.8 L 228.3,13.8 Z\" style=\"fill:#000000;fill-rule:evenodd;fill-opacity:1;stroke:#000000;stroke-width:0.5px;stroke-linecap:butt;stroke-linejoin:miter;stroke-opacity:1;\"/>\n",
       "<path class=\"bond-5 atom-3 atom-5\" d=\"M 224.3,68.2 L 271.3,95.4\" style=\"fill:none;fill-rule:evenodd;stroke:#000000;stroke-width:2.0px;stroke-linecap:butt;stroke-linejoin:miter;stroke-opacity:1\"/>\n",
       "<path class=\"bond-6 atom-5 atom-7\" d=\"M 271.3,95.4 L 271.3,149.8\" style=\"fill:none;fill-rule:evenodd;stroke:#000000;stroke-width:2.0px;stroke-linecap:butt;stroke-linejoin:miter;stroke-opacity:1\"/>\n",
       "<path class=\"bond-7 atom-6 atom-7\" d=\"M 224.3,176.9 L 271.3,149.8\" style=\"fill:none;fill-rule:evenodd;stroke:#000000;stroke-width:2.0px;stroke-linecap:butt;stroke-linejoin:miter;stroke-opacity:1\"/>\n",
       "<path class=\"bond-8 atom-7 atom-8\" d=\"M 271.3,149.8 L 318.4,176.9\" style=\"fill:none;fill-rule:evenodd;stroke:#000000;stroke-width:2.0px;stroke-linecap:butt;stroke-linejoin:miter;stroke-opacity:1\"/>\n",
       "<path class=\"bond-8 atom-7 atom-8\" d=\"M 279.5,145.0 L 318.4,167.5\" style=\"fill:none;fill-rule:evenodd;stroke:#000000;stroke-width:2.0px;stroke-linecap:butt;stroke-linejoin:miter;stroke-opacity:1\"/>\n",
       "<path class=\"bond-9 atom-8 atom-9\" d=\"M 318.4,176.9 L 365.5,149.8\" style=\"fill:none;fill-rule:evenodd;stroke:#000000;stroke-width:2.0px;stroke-linecap:butt;stroke-linejoin:miter;stroke-opacity:1\"/>\n",
       "<path d=\"M 177.2,147.0 L 177.2,149.8 L 179.5,151.1\" style=\"fill:none;stroke:#000000;stroke-width:2.0px;stroke-linecap:butt;stroke-linejoin:miter;stroke-opacity:1;\"/>\n",
       "<path d=\"M 177.2,98.1 L 177.2,95.4 L 179.5,94.0\" style=\"fill:none;stroke:#000000;stroke-width:2.0px;stroke-linecap:butt;stroke-linejoin:miter;stroke-opacity:1;\"/>\n",
       "<path d=\"M 221.9,69.6 L 224.3,68.2 L 226.6,69.6\" style=\"fill:none;stroke:#000000;stroke-width:2.0px;stroke-linecap:butt;stroke-linejoin:miter;stroke-opacity:1;\"/>\n",
       "<path d=\"M 269.0,94.0 L 271.3,95.4 L 271.3,98.1\" style=\"fill:none;stroke:#000000;stroke-width:2.0px;stroke-linecap:butt;stroke-linejoin:miter;stroke-opacity:1;\"/>\n",
       "<path d=\"M 221.9,175.6 L 224.3,176.9 L 226.6,175.6\" style=\"fill:none;stroke:#000000;stroke-width:2.0px;stroke-linecap:butt;stroke-linejoin:miter;stroke-opacity:1;\"/>\n",
       "<path d=\"M 316.1,175.6 L 318.4,176.9 L 320.8,175.6\" style=\"fill:none;stroke:#000000;stroke-width:2.0px;stroke-linecap:butt;stroke-linejoin:miter;stroke-opacity:1;\"/>\n",
       "<path class=\"note\" d=\"M 130.1 190.0 Q 128.7 190.0, 128.0 188.9 Q 127.3 187.9, 127.3 186.0 Q 127.3 184.2, 128.0 183.1 Q 128.7 182.1, 130.1 182.1 Q 131.5 182.1, 132.2 183.1 Q 132.9 184.2, 132.9 186.0 Q 132.9 187.9, 132.2 188.9 Q 131.5 190.0, 130.1 190.0 M 130.1 189.1 Q 130.9 189.1, 131.4 188.3 Q 131.8 187.6, 131.8 186.0 Q 131.8 184.5, 131.4 183.7 Q 130.9 183.0, 130.1 183.0 Q 129.3 183.0, 128.8 183.7 Q 128.4 184.5, 128.4 186.0 Q 128.4 187.6, 128.8 188.3 Q 129.3 189.1, 130.1 189.1 \" fill=\"#000000\"/>\n",
       "<path class=\"note\" d=\"M 167.4 148.2 L 169.1 148.2 L 169.1 142.5 L 167.3 143.1 L 167.0 142.4 L 169.4 141.4 L 170.2 141.5 L 170.2 148.2 L 171.7 148.2 L 171.7 149.1 L 167.4 149.1 L 167.4 148.2 \" fill=\"#000000\"/>\n",
       "<path class=\"note\" d=\"M 166.8 88.5 Q 167.1 87.8, 167.7 87.4 Q 168.4 87.0, 169.3 87.0 Q 170.5 87.0, 171.2 87.6 Q 171.8 88.2, 171.8 89.4 Q 171.8 90.5, 171.0 91.6 Q 170.1 92.6, 168.4 93.9 L 171.9 93.9 L 171.9 94.8 L 166.7 94.8 L 166.7 94.0 Q 168.2 93.0, 169.0 92.2 Q 169.9 91.5, 170.3 90.8 Q 170.7 90.1, 170.7 89.4 Q 170.7 88.7, 170.3 88.3 Q 170.0 87.8, 169.3 87.8 Q 168.7 87.8, 168.3 88.1 Q 167.9 88.3, 167.6 88.9 L 166.8 88.5 \" fill=\"#000000\"/>\n",
       "<path class=\"note\" d=\"M 217.5 63.5 Q 218.3 63.7, 218.6 64.2 Q 219.0 64.7, 219.0 65.5 Q 219.0 66.1, 218.7 66.6 Q 218.4 67.1, 217.8 67.4 Q 217.2 67.7, 216.4 67.7 Q 215.6 67.7, 214.9 67.4 Q 214.3 67.1, 213.8 66.5 L 214.5 65.9 Q 214.9 66.4, 215.3 66.6 Q 215.7 66.8, 216.4 66.8 Q 217.1 66.8, 217.5 66.4 Q 217.9 66.1, 217.9 65.5 Q 217.9 64.7, 217.5 64.3 Q 217.0 64.0, 216.1 64.0 L 215.5 64.0 L 215.5 63.2 L 216.0 63.2 Q 216.9 63.2, 217.3 62.8 Q 217.8 62.4, 217.8 61.8 Q 217.8 61.3, 217.4 61.0 Q 217.0 60.7, 216.4 60.7 Q 215.7 60.7, 215.3 60.9 Q 215.0 61.1, 214.6 61.7 L 213.9 61.3 Q 214.2 60.6, 214.8 60.2 Q 215.5 59.8, 216.4 59.8 Q 217.5 59.8, 218.2 60.3 Q 218.8 60.9, 218.8 61.8 Q 218.8 62.4, 218.5 62.8 Q 218.2 63.3, 217.5 63.5 \" fill=\"#000000\"/>\n",
       "<path class=\"note\" d=\"M 235.4 15.1 L 236.3 15.1 L 236.3 15.9 L 235.4 15.9 L 235.4 17.7 L 234.3 17.7 L 234.3 15.9 L 230.4 15.9 L 230.4 15.2 L 233.7 10.0 L 235.4 10.0 L 235.4 15.1 M 231.6 15.1 L 234.3 15.1 L 234.3 10.7 L 231.6 15.1 \" fill=\"#000000\"/>\n",
       "<path class=\"note\" d=\"M 279.4 89.9 Q 280.1 89.9, 280.6 90.2 Q 281.2 90.5, 281.5 91.0 Q 281.8 91.5, 281.8 92.3 Q 281.8 93.1, 281.4 93.6 Q 281.0 94.2, 280.4 94.5 Q 279.8 94.8, 279.0 94.8 Q 278.3 94.8, 277.7 94.5 Q 277.0 94.3, 276.6 93.8 L 277.2 93.1 Q 277.6 93.5, 278.1 93.7 Q 278.6 93.9, 279.1 93.9 Q 279.8 93.9, 280.2 93.5 Q 280.7 93.1, 280.7 92.3 Q 280.7 91.5, 280.2 91.1 Q 279.8 90.7, 279.0 90.7 Q 278.3 90.7, 277.6 91.0 L 277.0 90.7 L 277.4 87.0 L 281.3 87.0 L 281.2 87.9 L 278.3 87.9 L 278.0 90.2 Q 278.7 89.9, 279.4 89.9 \" fill=\"#000000\"/>\n",
       "<path class=\"note\" d=\"M 224.6 185.1 Q 225.3 185.1, 225.8 185.4 Q 226.4 185.7, 226.6 186.2 Q 226.9 186.7, 226.9 187.4 Q 226.9 188.2, 226.6 188.7 Q 226.3 189.3, 225.7 189.7 Q 225.1 190.0, 224.3 190.0 Q 223.0 190.0, 222.3 189.1 Q 221.6 188.1, 221.6 186.3 Q 221.6 184.2, 222.4 183.2 Q 223.3 182.1, 224.9 182.1 Q 225.4 182.1, 225.8 182.2 Q 226.2 182.3, 226.6 182.6 L 226.2 183.3 Q 225.6 183.0, 225.0 183.0 Q 223.9 183.0, 223.3 183.7 Q 222.8 184.4, 222.7 185.8 Q 223.1 185.5, 223.6 185.3 Q 224.1 185.1, 224.6 185.1 M 224.4 189.1 Q 224.8 189.1, 225.1 188.9 Q 225.5 188.7, 225.7 188.3 Q 225.9 187.9, 225.9 187.4 Q 225.9 186.7, 225.5 186.3 Q 225.1 186.0, 224.4 186.0 Q 223.9 186.0, 223.5 186.2 Q 223.0 186.3, 222.7 186.7 Q 222.7 187.9, 223.1 188.5 Q 223.5 189.1, 224.4 189.1 \" fill=\"#000000\"/>\n",
       "<path class=\"note\" d=\"M 265.0 142.2 L 260.9 142.2 L 260.9 141.4 L 266.1 141.4 L 266.1 142.1 L 262.9 149.1 L 261.9 149.1 L 265.0 142.2 \" fill=\"#000000\"/>\n",
       "<path class=\"note\" d=\"M 319.6 185.8 Q 320.3 186.1, 320.7 186.6 Q 321.1 187.0, 321.1 187.8 Q 321.1 188.4, 320.8 188.9 Q 320.5 189.4, 319.9 189.7 Q 319.3 190.0, 318.5 190.0 Q 317.2 190.0, 316.4 189.4 Q 315.7 188.8, 315.7 187.8 Q 315.7 187.2, 316.0 186.7 Q 316.4 186.2, 317.0 185.8 Q 316.5 185.6, 316.3 185.2 Q 316.0 184.7, 316.0 184.1 Q 316.0 183.2, 316.6 182.6 Q 317.3 182.1, 318.4 182.1 Q 319.5 182.1, 320.2 182.6 Q 320.9 183.2, 320.9 184.1 Q 320.9 184.6, 320.5 185.1 Q 320.2 185.5, 319.6 185.8 M 318.4 182.9 Q 317.8 182.9, 317.4 183.2 Q 317.1 183.5, 317.1 184.1 Q 317.1 184.5, 317.3 184.7 Q 317.6 185.0, 317.9 185.2 Q 318.2 185.3, 318.9 185.5 Q 319.4 185.2, 319.6 184.9 Q 319.8 184.5, 319.8 184.1 Q 319.8 183.5, 319.4 183.2 Q 319.1 182.9, 318.4 182.9 M 318.5 189.2 Q 319.2 189.2, 319.6 188.8 Q 320.1 188.4, 320.1 187.8 Q 320.1 187.4, 319.8 187.1 Q 319.6 186.8, 319.3 186.7 Q 318.9 186.5, 318.3 186.3 L 317.8 186.2 Q 317.3 186.5, 317.0 186.9 Q 316.8 187.3, 316.8 187.8 Q 316.8 188.4, 317.3 188.8 Q 317.7 189.2, 318.5 189.2 \" fill=\"#000000\"/>\n",
       "<path class=\"note\" d=\"M 370.0 153.7 Q 371.3 153.7, 372.0 154.6 Q 372.7 155.6, 372.7 157.4 Q 372.7 159.5, 371.8 160.5 Q 371.0 161.6, 369.4 161.6 Q 368.9 161.6, 368.5 161.5 Q 368.1 161.4, 367.7 161.1 L 368.1 160.4 Q 368.7 160.7, 369.3 160.7 Q 370.4 160.7, 371.0 160.0 Q 371.5 159.3, 371.6 157.9 Q 371.2 158.2, 370.7 158.4 Q 370.2 158.6, 369.7 158.6 Q 369.0 158.6, 368.5 158.3 Q 368.0 158.0, 367.7 157.5 Q 367.4 157.0, 367.4 156.3 Q 367.4 155.5, 367.7 155.0 Q 368.0 154.4, 368.6 154.0 Q 369.2 153.7, 370.0 153.7 M 368.5 156.3 Q 368.5 157.0, 368.8 157.3 Q 369.2 157.7, 369.9 157.7 Q 370.4 157.7, 370.8 157.5 Q 371.3 157.4, 371.6 157.0 Q 371.6 155.8, 371.2 155.2 Q 370.8 154.6, 369.9 154.6 Q 369.5 154.6, 369.2 154.8 Q 368.8 155.0, 368.7 155.4 Q 368.5 155.8, 368.5 156.3 \" fill=\"#000000\"/>\n",
       "</svg>"
      ],
      "text/plain": [
       "<IPython.core.display.SVG object>"
      ]
     },
     "metadata": {},
     "output_type": "display_data"
    },
    {
     "data": {
      "image/svg+xml": [
       "<svg xmlns=\"http://www.w3.org/2000/svg\" xmlns:rdkit=\"http://www.rdkit.org/xml\" xmlns:xlink=\"http://www.w3.org/1999/xlink\" version=\"1.1\" baseProfile=\"full\" xml:space=\"preserve\" width=\"500px\" height=\"200px\" viewBox=\"0 0 500 200\">\n",
       "<!-- END OF HEADER -->\n",
       "<rect style=\"opacity:1.0;fill:#FFFFFF;stroke:none\" width=\"500.0\" height=\"200.0\" x=\"0.0\" y=\"0.0\"> </rect>\n",
       "<path class=\"bond-0 atom-1 atom-0\" d=\"M 231.9,131.7 L 235.9,186.0 L 227.8,186.0 Z\" style=\"fill:#000000;fill-rule:evenodd;fill-opacity:1;stroke:#000000;stroke-width:0.5px;stroke-linecap:butt;stroke-linejoin:miter;stroke-opacity:1;\"/>\n",
       "<path class=\"bond-1 atom-1 atom-2\" d=\"M 231.9,131.7 L 184.8,104.5\" style=\"fill:none;fill-rule:evenodd;stroke:#000000;stroke-width:2.0px;stroke-linecap:butt;stroke-linejoin:miter;stroke-opacity:1\"/>\n",
       "<path class=\"bond-2 atom-1 atom-6\" d=\"M 231.9,131.7 L 278.9,104.5\" style=\"fill:none;fill-rule:evenodd;stroke:#000000;stroke-width:2.0px;stroke-linecap:butt;stroke-linejoin:miter;stroke-opacity:1\"/>\n",
       "<path class=\"bond-3 atom-2 atom-3\" d=\"M 184.8,104.5 L 184.8,50.1\" style=\"fill:none;fill-rule:evenodd;stroke:#000000;stroke-width:2.0px;stroke-linecap:butt;stroke-linejoin:miter;stroke-opacity:1\"/>\n",
       "<path class=\"bond-4 atom-3 atom-4\" d=\"M 184.8,50.1 L 135.7,26.5 L 139.8,19.4 Z\" style=\"fill:#000000;fill-rule:evenodd;fill-opacity:1;stroke:#000000;stroke-width:0.5px;stroke-linecap:butt;stroke-linejoin:miter;stroke-opacity:1;\"/>\n",
       "<path class=\"bond-5 atom-3 atom-5\" d=\"M 184.8,50.1 L 231.9,23.0\" style=\"fill:none;fill-rule:evenodd;stroke:#000000;stroke-width:2.0px;stroke-linecap:butt;stroke-linejoin:miter;stroke-opacity:1\"/>\n",
       "<path class=\"bond-6 atom-5 atom-7\" d=\"M 231.9,23.0 L 278.9,50.1\" style=\"fill:none;fill-rule:evenodd;stroke:#000000;stroke-width:2.0px;stroke-linecap:butt;stroke-linejoin:miter;stroke-opacity:1\"/>\n",
       "<path class=\"bond-7 atom-6 atom-7\" d=\"M 278.9,104.5 L 278.9,50.1\" style=\"fill:none;fill-rule:evenodd;stroke:#000000;stroke-width:2.0px;stroke-linecap:butt;stroke-linejoin:miter;stroke-opacity:1\"/>\n",
       "<path class=\"bond-8 atom-7 atom-8\" d=\"M 278.9,50.1 L 326.0,23.0\" style=\"fill:none;fill-rule:evenodd;stroke:#000000;stroke-width:2.0px;stroke-linecap:butt;stroke-linejoin:miter;stroke-opacity:1\"/>\n",
       "<path class=\"bond-8 atom-7 atom-8\" d=\"M 287.1,54.8 L 326.0,32.4\" style=\"fill:none;fill-rule:evenodd;stroke:#000000;stroke-width:2.0px;stroke-linecap:butt;stroke-linejoin:miter;stroke-opacity:1\"/>\n",
       "<path class=\"bond-9 atom-8 atom-9\" d=\"M 326.0,23.0 L 373.1,50.1\" style=\"fill:none;fill-rule:evenodd;stroke:#000000;stroke-width:2.0px;stroke-linecap:butt;stroke-linejoin:miter;stroke-opacity:1\"/>\n",
       "<path d=\"M 229.5,130.3 L 231.9,131.7 L 234.2,130.3\" style=\"fill:none;stroke:#000000;stroke-width:2.0px;stroke-linecap:butt;stroke-linejoin:miter;stroke-opacity:1;\"/>\n",
       "<path d=\"M 187.1,105.8 L 184.8,104.5 L 184.8,101.8\" style=\"fill:none;stroke:#000000;stroke-width:2.0px;stroke-linecap:butt;stroke-linejoin:miter;stroke-opacity:1;\"/>\n",
       "<path d=\"M 184.8,52.8 L 184.8,50.1 L 187.1,48.8\" style=\"fill:none;stroke:#000000;stroke-width:2.0px;stroke-linecap:butt;stroke-linejoin:miter;stroke-opacity:1;\"/>\n",
       "<path d=\"M 229.5,24.3 L 231.9,23.0 L 234.2,24.3\" style=\"fill:none;stroke:#000000;stroke-width:2.0px;stroke-linecap:butt;stroke-linejoin:miter;stroke-opacity:1;\"/>\n",
       "<path d=\"M 276.6,105.8 L 278.9,104.5 L 278.9,101.8\" style=\"fill:none;stroke:#000000;stroke-width:2.0px;stroke-linecap:butt;stroke-linejoin:miter;stroke-opacity:1;\"/>\n",
       "<path d=\"M 323.7,24.3 L 326.0,23.0 L 328.4,24.3\" style=\"fill:none;stroke:#000000;stroke-width:2.0px;stroke-linecap:butt;stroke-linejoin:miter;stroke-opacity:1;\"/>\n",
       "<path class=\"note\" d=\"M 222.8 190.0 Q 221.4 190.0, 220.7 189.0 Q 220.0 187.9, 220.0 186.1 Q 220.0 184.2, 220.7 183.2 Q 221.4 182.1, 222.8 182.1 Q 224.2 182.1, 224.9 183.2 Q 225.6 184.2, 225.6 186.1 Q 225.6 187.9, 224.9 189.0 Q 224.2 190.0, 222.8 190.0 M 222.8 189.1 Q 223.6 189.1, 224.1 188.4 Q 224.5 187.6, 224.5 186.1 Q 224.5 184.5, 224.1 183.8 Q 223.6 183.0, 222.8 183.0 Q 222.0 183.0, 221.5 183.8 Q 221.1 184.5, 221.1 186.1 Q 221.1 187.6, 221.5 188.4 Q 222.0 189.1, 222.8 189.1 \" fill=\"#000000\"/>\n",
       "<path class=\"note\" d=\"M 222.1 139.2 L 223.8 139.2 L 223.8 133.4 L 222.0 134.0 L 221.7 133.4 L 224.1 132.3 L 224.8 132.5 L 224.8 139.2 L 226.3 139.2 L 226.3 140.1 L 222.1 140.1 L 222.1 139.2 \" fill=\"#000000\"/>\n",
       "<path class=\"note\" d=\"M 174.4 106.7 Q 174.7 105.9, 175.3 105.5 Q 176.0 105.1, 176.9 105.1 Q 178.1 105.1, 178.8 105.8 Q 179.4 106.4, 179.4 107.5 Q 179.4 108.6, 178.6 109.7 Q 177.7 110.8, 176.0 112.0 L 179.5 112.0 L 179.5 112.9 L 174.4 112.9 L 174.4 112.2 Q 175.8 111.2, 176.6 110.4 Q 177.5 109.6, 177.9 109.0 Q 178.3 108.3, 178.3 107.6 Q 178.3 106.8, 178.0 106.4 Q 177.6 106.0, 176.9 106.0 Q 176.3 106.0, 175.9 106.2 Q 175.5 106.5, 175.2 107.0 L 174.4 106.7 \" fill=\"#000000\"/>\n",
       "<path class=\"note\" d=\"M 178.1 54.5 Q 178.8 54.7, 179.2 55.2 Q 179.5 55.7, 179.5 56.4 Q 179.5 57.1, 179.2 57.6 Q 178.9 58.1, 178.3 58.4 Q 177.7 58.7, 176.9 58.7 Q 176.1 58.7, 175.5 58.4 Q 174.8 58.1, 174.4 57.5 L 175.0 56.9 Q 175.5 57.4, 175.9 57.6 Q 176.3 57.8, 176.9 57.8 Q 177.6 57.8, 178.0 57.4 Q 178.4 57.0, 178.4 56.4 Q 178.4 55.6, 178.0 55.3 Q 177.6 54.9, 176.6 54.9 L 176.1 54.9 L 176.1 54.2 L 176.6 54.2 Q 177.4 54.1, 177.8 53.8 Q 178.3 53.4, 178.3 52.7 Q 178.3 52.2, 177.9 51.9 Q 177.5 51.6, 176.9 51.6 Q 176.3 51.6, 175.9 51.9 Q 175.5 52.1, 175.2 52.7 L 174.4 52.3 Q 174.7 51.6, 175.3 51.2 Q 176.0 50.8, 176.9 50.8 Q 178.0 50.8, 178.7 51.3 Q 179.4 51.8, 179.4 52.7 Q 179.4 53.4, 179.0 53.8 Q 178.7 54.2, 178.1 54.5 \" fill=\"#000000\"/>\n",
       "<path class=\"note\" d=\"M 131.9 28.7 L 132.8 28.7 L 132.8 29.6 L 131.9 29.6 L 131.9 31.3 L 130.9 31.3 L 130.9 29.6 L 126.9 29.6 L 126.9 28.9 L 130.3 23.6 L 131.9 23.6 L 131.9 28.7 M 128.2 28.7 L 130.9 28.7 L 130.9 24.3 L 128.2 28.7 \" fill=\"#000000\"/>\n",
       "<path class=\"note\" d=\"M 232.1 12.9 Q 232.7 12.9, 233.3 13.2 Q 233.8 13.5, 234.2 14.0 Q 234.5 14.6, 234.5 15.3 Q 234.5 16.1, 234.1 16.7 Q 233.7 17.2, 233.1 17.5 Q 232.4 17.8, 231.7 17.8 Q 231.0 17.8, 230.4 17.6 Q 229.7 17.3, 229.3 16.8 L 229.9 16.1 Q 230.3 16.5, 230.8 16.7 Q 231.3 16.9, 231.8 16.9 Q 232.4 16.9, 232.9 16.5 Q 233.4 16.1, 233.4 15.3 Q 233.4 14.5, 232.9 14.1 Q 232.4 13.7, 231.7 13.7 Q 231.0 13.7, 230.3 14.0 L 229.7 13.8 L 230.0 10.0 L 234.0 10.0 L 233.9 10.9 L 230.9 10.9 L 230.7 13.2 Q 231.4 12.9, 232.1 12.9 \" fill=\"#000000\"/>\n",
       "<path class=\"note\" d=\"M 287.1 108.1 Q 287.8 108.1, 288.3 108.4 Q 288.9 108.7, 289.2 109.2 Q 289.5 109.8, 289.5 110.4 Q 289.5 111.2, 289.1 111.8 Q 288.8 112.3, 288.2 112.7 Q 287.6 113.0, 286.9 113.0 Q 285.5 113.0, 284.8 112.1 Q 284.1 111.1, 284.1 109.3 Q 284.1 107.2, 285.0 106.2 Q 285.8 105.1, 287.5 105.1 Q 287.9 105.1, 288.3 105.2 Q 288.8 105.3, 289.2 105.6 L 288.7 106.3 Q 288.2 106.0, 287.5 106.0 Q 286.4 106.0, 285.8 106.7 Q 285.3 107.4, 285.2 108.8 Q 285.6 108.5, 286.1 108.3 Q 286.6 108.1, 287.1 108.1 M 286.9 112.1 Q 287.3 112.1, 287.6 111.9 Q 288.0 111.7, 288.2 111.3 Q 288.4 110.9, 288.4 110.4 Q 288.4 109.8, 288.0 109.4 Q 287.6 109.0, 286.9 109.0 Q 286.5 109.0, 286.0 109.2 Q 285.5 109.4, 285.2 109.7 Q 285.3 111.0, 285.7 111.5 Q 286.1 112.1, 286.9 112.1 \" fill=\"#000000\"/>\n",
       "<path class=\"note\" d=\"M 272.6 51.7 L 268.5 51.7 L 268.5 50.8 L 273.7 50.8 L 273.7 51.6 L 270.5 58.5 L 269.5 58.5 L 272.6 51.7 \" fill=\"#000000\"/>\n",
       "<path class=\"note\" d=\"M 327.2 13.7 Q 327.9 14.0, 328.3 14.5 Q 328.7 14.9, 328.7 15.7 Q 328.7 16.3, 328.4 16.8 Q 328.1 17.3, 327.5 17.6 Q 326.9 17.9, 326.1 17.9 Q 324.8 17.9, 324.0 17.3 Q 323.3 16.7, 323.3 15.7 Q 323.3 15.0, 323.6 14.6 Q 323.9 14.1, 324.6 13.7 Q 324.1 13.5, 323.9 13.0 Q 323.6 12.6, 323.6 12.0 Q 323.6 11.1, 324.2 10.5 Q 324.9 10.0, 326.0 10.0 Q 327.1 10.0, 327.8 10.5 Q 328.5 11.1, 328.5 12.0 Q 328.5 12.5, 328.1 13.0 Q 327.8 13.4, 327.2 13.7 M 326.0 10.8 Q 325.4 10.8, 325.0 11.1 Q 324.7 11.4, 324.7 12.0 Q 324.7 12.4, 324.9 12.6 Q 325.1 12.9, 325.5 13.1 Q 325.8 13.2, 326.5 13.4 Q 327.0 13.1, 327.2 12.8 Q 327.4 12.4, 327.4 12.0 Q 327.4 11.4, 327.0 11.1 Q 326.7 10.8, 326.0 10.8 M 326.1 17.1 Q 326.8 17.1, 327.2 16.7 Q 327.6 16.3, 327.6 15.7 Q 327.6 15.3, 327.4 15.0 Q 327.2 14.7, 326.8 14.6 Q 326.5 14.4, 325.9 14.2 L 325.4 14.1 Q 324.9 14.4, 324.6 14.8 Q 324.4 15.2, 324.4 15.7 Q 324.4 16.3, 324.8 16.7 Q 325.3 17.1, 326.1 17.1 \" fill=\"#000000\"/>\n",
       "<path class=\"note\" d=\"M 368.5 54.1 Q 369.8 54.1, 370.5 55.0 Q 371.2 55.9, 371.2 57.8 Q 371.2 59.8, 370.4 60.9 Q 369.5 62.0, 367.9 62.0 Q 367.4 62.0, 367.0 61.8 Q 366.6 61.7, 366.2 61.5 L 366.6 60.8 Q 367.2 61.1, 367.9 61.1 Q 369.0 61.1, 369.5 60.4 Q 370.1 59.7, 370.1 58.2 Q 369.7 58.6, 369.2 58.8 Q 368.8 59.0, 368.2 59.0 Q 367.5 59.0, 367.0 58.7 Q 366.5 58.4, 366.2 57.9 Q 365.9 57.3, 365.9 56.6 Q 365.9 55.9, 366.2 55.3 Q 366.6 54.7, 367.1 54.4 Q 367.7 54.1, 368.5 54.1 M 367.0 56.6 Q 367.0 57.3, 367.4 57.7 Q 367.7 58.1, 368.4 58.1 Q 368.9 58.1, 369.3 57.9 Q 369.8 57.7, 370.1 57.4 Q 370.1 56.1, 369.7 55.6 Q 369.3 55.0, 368.5 55.0 Q 368.1 55.0, 367.7 55.2 Q 367.4 55.4, 367.2 55.8 Q 367.0 56.2, 367.0 56.6 \" fill=\"#000000\"/>\n",
       "</svg>"
      ],
      "text/plain": [
       "<IPython.core.display.SVG object>"
      ]
     },
     "metadata": {},
     "output_type": "display_data"
    }
   ],
   "source": [
    "smg1\n",
    "smg2"
   ]
  },
  {
   "cell_type": "code",
   "execution_count": 7,
   "id": "8ba86cc7",
   "metadata": {},
   "outputs": [
    {
     "data": {
      "text/plain": [
       "True"
      ]
     },
     "execution_count": 7,
     "metadata": {},
     "output_type": "execute_result"
    }
   ],
   "source": [
    "smg1.enantiomer() == smg2"
   ]
  },
  {
   "cell_type": "markdown",
   "id": "51d6b3d2",
   "metadata": {},
   "source": [
    "## Molecules are Enantiomers! ##\n"
   ]
  }
 ],
 "metadata": {
  "kernelspec": {
   "display_name": "stereomolgraph",
   "language": "python",
   "name": "python3"
  },
  "language_info": {
   "codemirror_mode": {
    "name": "ipython",
    "version": 3
   },
   "file_extension": ".py",
   "mimetype": "text/x-python",
   "name": "python",
   "nbconvert_exporter": "python",
   "pygments_lexer": "ipython3",
   "version": "3.13.3"
  }
 },
 "nbformat": 4,
 "nbformat_minor": 5
}
