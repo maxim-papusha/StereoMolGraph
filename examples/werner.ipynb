{
 "cells": [
  {
   "cell_type": "markdown",
   "id": "2ec07b71",
   "metadata": {},
   "source": [
    "# Stereoisoers of chiral Werner type complexes #"
   ]
  },
  {
   "cell_type": "code",
   "execution_count": 1,
   "id": "301a6ead",
   "metadata": {},
   "outputs": [],
   "source": [
    "import itertools\n",
    "\n",
    "import rdkit.Chem as Chem\n",
    "\n",
    "from stereomolgraph import StereoMolGraph\n",
    "from stereomolgraph.stereodescriptors import Tetrahedral, Octahedral\n",
    "from stereomolgraph.ipython import View2D\n",
    "\n",
    "View2D.show_atom_numbers = True\n",
    "View2D.show_h = False\n",
    "View2D.generate_bond_orders = False\n",
    "View2D.height = 300\n",
    "View2D.width = 1000"
   ]
  },
  {
   "cell_type": "code",
   "execution_count": 2,
   "id": "a7f597d7",
   "metadata": {},
   "outputs": [],
   "source": [
    "lig = StereoMolGraph.from_rdmol(Chem.MolFromInchi(\"InChI=1S/C3H10N2/c1-3(5)2-4/h3H,2,4-5H2,1H3/t3-/m1/s1\"))\n",
    "lig2 = lig.relabel_atoms(mapping ={i: i + len(lig) for i in lig.atoms}, copy=True)\n",
    "lig3 = lig.relabel_atoms(mapping ={i: i + len(lig) + len(lig2) for i in lig.atoms} ,copy=True)\n",
    "\n",
    "assert lig  == lig2 == lig3"
   ]
  },
  {
   "cell_type": "code",
   "execution_count": 3,
   "id": "9b1b1d97",
   "metadata": {},
   "outputs": [
    {
     "data": {
      "image/svg+xml": [
       "<svg xmlns=\"http://www.w3.org/2000/svg\" xmlns:rdkit=\"http://www.rdkit.org/xml\" xmlns:xlink=\"http://www.w3.org/1999/xlink\" version=\"1.1\" baseProfile=\"full\" xml:space=\"preserve\" width=\"1000px\" height=\"300px\" viewBox=\"0 0 1000 300\">\n",
       "<!-- END OF HEADER -->\n",
       "<rect style=\"opacity:1.0;fill:#FFFFFF;stroke:none\" width=\"1000.0\" height=\"300.0\" x=\"0.0\" y=\"0.0\"> </rect>\n",
       "<path class=\"bond-0 atom-1 atom-3\" d=\"M 321.3,271.2 L 370.9,242.6\" style=\"fill:none;fill-rule:evenodd;stroke:#000000;stroke-width:2.0px;stroke-linecap:butt;stroke-linejoin:miter;stroke-opacity:1\"/>\n",
       "<path class=\"bond-1 atom-2 atom-3\" d=\"M 420.4,271.2 L 370.9,242.6\" style=\"fill:none;fill-rule:evenodd;stroke:#000000;stroke-width:2.0px;stroke-linecap:butt;stroke-linejoin:miter;stroke-opacity:1\"/>\n",
       "<path class=\"bond-2 atom-2 atom-4\" d=\"M 420.4,271.2 L 462.0,247.3\" style=\"fill:none;fill-rule:evenodd;stroke:#000000;stroke-width:2.0px;stroke-linecap:butt;stroke-linejoin:miter;stroke-opacity:1\"/>\n",
       "<path class=\"bond-3 atom-3 atom-5\" d=\"M 370.5,239.1 L 371.2,239.1\" style=\"fill:none;fill-rule:evenodd;stroke:#000000;stroke-width:1.0px;stroke-linecap:butt;stroke-linejoin:miter;stroke-opacity:1\"/>\n",
       "<path class=\"bond-3 atom-3 atom-5\" d=\"M 370.2,235.6 L 371.5,235.6\" style=\"fill:none;fill-rule:evenodd;stroke:#000000;stroke-width:1.0px;stroke-linecap:butt;stroke-linejoin:miter;stroke-opacity:1\"/>\n",
       "<path class=\"bond-3 atom-3 atom-5\" d=\"M 369.9,232.2 L 371.9,232.2\" style=\"fill:none;fill-rule:evenodd;stroke:#000000;stroke-width:1.0px;stroke-linecap:butt;stroke-linejoin:miter;stroke-opacity:1\"/>\n",
       "<path class=\"bond-3 atom-3 atom-5\" d=\"M 369.5,228.7 L 372.2,228.7\" style=\"fill:none;fill-rule:evenodd;stroke:#000000;stroke-width:1.0px;stroke-linecap:butt;stroke-linejoin:miter;stroke-opacity:1\"/>\n",
       "<path class=\"bond-3 atom-3 atom-5\" d=\"M 369.2,225.2 L 372.5,225.2\" style=\"fill:none;fill-rule:evenodd;stroke:#000000;stroke-width:1.0px;stroke-linecap:butt;stroke-linejoin:miter;stroke-opacity:1\"/>\n",
       "<path class=\"bond-3 atom-3 atom-5\" d=\"M 368.9,221.7 L 372.8,221.7\" style=\"fill:none;fill-rule:evenodd;stroke:#000000;stroke-width:1.0px;stroke-linecap:butt;stroke-linejoin:miter;stroke-opacity:1\"/>\n",
       "<path class=\"bond-3 atom-3 atom-5\" d=\"M 368.5,218.2 L 373.2,218.2\" style=\"fill:none;fill-rule:evenodd;stroke:#000000;stroke-width:1.0px;stroke-linecap:butt;stroke-linejoin:miter;stroke-opacity:1\"/>\n",
       "<path class=\"bond-3 atom-3 atom-5\" d=\"M 368.2,214.7 L 373.5,214.7\" style=\"fill:none;fill-rule:evenodd;stroke:#000000;stroke-width:1.0px;stroke-linecap:butt;stroke-linejoin:miter;stroke-opacity:1\"/>\n",
       "<path class=\"bond-3 atom-3 atom-5\" d=\"M 367.9,211.2 L 373.8,211.2\" style=\"fill:none;fill-rule:evenodd;stroke:#000000;stroke-width:1.0px;stroke-linecap:butt;stroke-linejoin:miter;stroke-opacity:1\"/>\n",
       "<path class=\"bond-3 atom-3 atom-5\" d=\"M 367.6,207.7 L 374.2,207.7\" style=\"fill:none;fill-rule:evenodd;stroke:#000000;stroke-width:1.0px;stroke-linecap:butt;stroke-linejoin:miter;stroke-opacity:1\"/>\n",
       "<path class=\"bond-3 atom-3 atom-5\" d=\"M 367.2,204.2 L 374.5,204.2\" style=\"fill:none;fill-rule:evenodd;stroke:#000000;stroke-width:1.0px;stroke-linecap:butt;stroke-linejoin:miter;stroke-opacity:1\"/>\n",
       "<path class=\"bond-3 atom-3 atom-5\" d=\"M 366.9,200.8 L 374.8,200.8\" style=\"fill:none;fill-rule:evenodd;stroke:#000000;stroke-width:1.0px;stroke-linecap:butt;stroke-linejoin:miter;stroke-opacity:1\"/>\n",
       "<path class=\"bond-3 atom-3 atom-5\" d=\"M 366.6,197.3 L 375.2,197.3\" style=\"fill:none;fill-rule:evenodd;stroke:#000000;stroke-width:1.0px;stroke-linecap:butt;stroke-linejoin:miter;stroke-opacity:1\"/>\n",
       "<path class=\"bond-4 atom-6 atom-8\" d=\"M 321.3,147.2 L 370.9,118.6\" style=\"fill:none;fill-rule:evenodd;stroke:#000000;stroke-width:2.0px;stroke-linecap:butt;stroke-linejoin:miter;stroke-opacity:1\"/>\n",
       "<path class=\"bond-5 atom-7 atom-8\" d=\"M 420.4,147.2 L 370.9,118.6\" style=\"fill:none;fill-rule:evenodd;stroke:#000000;stroke-width:2.0px;stroke-linecap:butt;stroke-linejoin:miter;stroke-opacity:1\"/>\n",
       "<path class=\"bond-6 atom-7 atom-9\" d=\"M 420.4,147.2 L 462.0,123.2\" style=\"fill:none;fill-rule:evenodd;stroke:#000000;stroke-width:2.0px;stroke-linecap:butt;stroke-linejoin:miter;stroke-opacity:1\"/>\n",
       "<path class=\"bond-7 atom-8 atom-10\" d=\"M 370.5,115.1 L 371.2,115.1\" style=\"fill:none;fill-rule:evenodd;stroke:#000000;stroke-width:1.0px;stroke-linecap:butt;stroke-linejoin:miter;stroke-opacity:1\"/>\n",
       "<path class=\"bond-7 atom-8 atom-10\" d=\"M 370.2,111.6 L 371.5,111.6\" style=\"fill:none;fill-rule:evenodd;stroke:#000000;stroke-width:1.0px;stroke-linecap:butt;stroke-linejoin:miter;stroke-opacity:1\"/>\n",
       "<path class=\"bond-7 atom-8 atom-10\" d=\"M 369.9,108.1 L 371.9,108.1\" style=\"fill:none;fill-rule:evenodd;stroke:#000000;stroke-width:1.0px;stroke-linecap:butt;stroke-linejoin:miter;stroke-opacity:1\"/>\n",
       "<path class=\"bond-7 atom-8 atom-10\" d=\"M 369.5,104.6 L 372.2,104.6\" style=\"fill:none;fill-rule:evenodd;stroke:#000000;stroke-width:1.0px;stroke-linecap:butt;stroke-linejoin:miter;stroke-opacity:1\"/>\n",
       "<path class=\"bond-7 atom-8 atom-10\" d=\"M 369.2,101.2 L 372.5,101.2\" style=\"fill:none;fill-rule:evenodd;stroke:#000000;stroke-width:1.0px;stroke-linecap:butt;stroke-linejoin:miter;stroke-opacity:1\"/>\n",
       "<path class=\"bond-7 atom-8 atom-10\" d=\"M 368.9,97.7 L 372.8,97.7\" style=\"fill:none;fill-rule:evenodd;stroke:#000000;stroke-width:1.0px;stroke-linecap:butt;stroke-linejoin:miter;stroke-opacity:1\"/>\n",
       "<path class=\"bond-7 atom-8 atom-10\" d=\"M 368.5,94.2 L 373.2,94.2\" style=\"fill:none;fill-rule:evenodd;stroke:#000000;stroke-width:1.0px;stroke-linecap:butt;stroke-linejoin:miter;stroke-opacity:1\"/>\n",
       "<path class=\"bond-7 atom-8 atom-10\" d=\"M 368.2,90.7 L 373.5,90.7\" style=\"fill:none;fill-rule:evenodd;stroke:#000000;stroke-width:1.0px;stroke-linecap:butt;stroke-linejoin:miter;stroke-opacity:1\"/>\n",
       "<path class=\"bond-7 atom-8 atom-10\" d=\"M 367.9,87.2 L 373.8,87.2\" style=\"fill:none;fill-rule:evenodd;stroke:#000000;stroke-width:1.0px;stroke-linecap:butt;stroke-linejoin:miter;stroke-opacity:1\"/>\n",
       "<path class=\"bond-7 atom-8 atom-10\" d=\"M 367.6,83.7 L 374.2,83.7\" style=\"fill:none;fill-rule:evenodd;stroke:#000000;stroke-width:1.0px;stroke-linecap:butt;stroke-linejoin:miter;stroke-opacity:1\"/>\n",
       "<path class=\"bond-7 atom-8 atom-10\" d=\"M 367.2,80.2 L 374.5,80.2\" style=\"fill:none;fill-rule:evenodd;stroke:#000000;stroke-width:1.0px;stroke-linecap:butt;stroke-linejoin:miter;stroke-opacity:1\"/>\n",
       "<path class=\"bond-7 atom-8 atom-10\" d=\"M 366.9,76.7 L 374.8,76.7\" style=\"fill:none;fill-rule:evenodd;stroke:#000000;stroke-width:1.0px;stroke-linecap:butt;stroke-linejoin:miter;stroke-opacity:1\"/>\n",
       "<path class=\"bond-7 atom-8 atom-10\" d=\"M 366.6,73.2 L 375.2,73.2\" style=\"fill:none;fill-rule:evenodd;stroke:#000000;stroke-width:1.0px;stroke-linecap:butt;stroke-linejoin:miter;stroke-opacity:1\"/>\n",
       "<path class=\"bond-8 atom-11 atom-13\" d=\"M 508.2,271.2 L 557.7,242.6\" style=\"fill:none;fill-rule:evenodd;stroke:#000000;stroke-width:2.0px;stroke-linecap:butt;stroke-linejoin:miter;stroke-opacity:1\"/>\n",
       "<path class=\"bond-9 atom-12 atom-13\" d=\"M 607.3,271.2 L 557.7,242.6\" style=\"fill:none;fill-rule:evenodd;stroke:#000000;stroke-width:2.0px;stroke-linecap:butt;stroke-linejoin:miter;stroke-opacity:1\"/>\n",
       "<path class=\"bond-10 atom-12 atom-14\" d=\"M 607.3,271.2 L 648.9,247.3\" style=\"fill:none;fill-rule:evenodd;stroke:#000000;stroke-width:2.0px;stroke-linecap:butt;stroke-linejoin:miter;stroke-opacity:1\"/>\n",
       "<path class=\"bond-11 atom-13 atom-15\" d=\"M 557.4,239.1 L 558.1,239.1\" style=\"fill:none;fill-rule:evenodd;stroke:#000000;stroke-width:1.0px;stroke-linecap:butt;stroke-linejoin:miter;stroke-opacity:1\"/>\n",
       "<path class=\"bond-11 atom-13 atom-15\" d=\"M 557.1,235.6 L 558.4,235.6\" style=\"fill:none;fill-rule:evenodd;stroke:#000000;stroke-width:1.0px;stroke-linecap:butt;stroke-linejoin:miter;stroke-opacity:1\"/>\n",
       "<path class=\"bond-11 atom-13 atom-15\" d=\"M 556.8,232.2 L 558.7,232.2\" style=\"fill:none;fill-rule:evenodd;stroke:#000000;stroke-width:1.0px;stroke-linecap:butt;stroke-linejoin:miter;stroke-opacity:1\"/>\n",
       "<path class=\"bond-11 atom-13 atom-15\" d=\"M 556.4,228.7 L 559.1,228.7\" style=\"fill:none;fill-rule:evenodd;stroke:#000000;stroke-width:1.0px;stroke-linecap:butt;stroke-linejoin:miter;stroke-opacity:1\"/>\n",
       "<path class=\"bond-11 atom-13 atom-15\" d=\"M 556.1,225.2 L 559.4,225.2\" style=\"fill:none;fill-rule:evenodd;stroke:#000000;stroke-width:1.0px;stroke-linecap:butt;stroke-linejoin:miter;stroke-opacity:1\"/>\n",
       "<path class=\"bond-11 atom-13 atom-15\" d=\"M 555.8,221.7 L 559.7,221.7\" style=\"fill:none;fill-rule:evenodd;stroke:#000000;stroke-width:1.0px;stroke-linecap:butt;stroke-linejoin:miter;stroke-opacity:1\"/>\n",
       "<path class=\"bond-11 atom-13 atom-15\" d=\"M 555.4,218.2 L 560.1,218.2\" style=\"fill:none;fill-rule:evenodd;stroke:#000000;stroke-width:1.0px;stroke-linecap:butt;stroke-linejoin:miter;stroke-opacity:1\"/>\n",
       "<path class=\"bond-11 atom-13 atom-15\" d=\"M 555.1,214.7 L 560.4,214.7\" style=\"fill:none;fill-rule:evenodd;stroke:#000000;stroke-width:1.0px;stroke-linecap:butt;stroke-linejoin:miter;stroke-opacity:1\"/>\n",
       "<path class=\"bond-11 atom-13 atom-15\" d=\"M 554.8,211.2 L 560.7,211.2\" style=\"fill:none;fill-rule:evenodd;stroke:#000000;stroke-width:1.0px;stroke-linecap:butt;stroke-linejoin:miter;stroke-opacity:1\"/>\n",
       "<path class=\"bond-11 atom-13 atom-15\" d=\"M 554.4,207.7 L 561.0,207.7\" style=\"fill:none;fill-rule:evenodd;stroke:#000000;stroke-width:1.0px;stroke-linecap:butt;stroke-linejoin:miter;stroke-opacity:1\"/>\n",
       "<path class=\"bond-11 atom-13 atom-15\" d=\"M 554.1,204.2 L 561.4,204.2\" style=\"fill:none;fill-rule:evenodd;stroke:#000000;stroke-width:1.0px;stroke-linecap:butt;stroke-linejoin:miter;stroke-opacity:1\"/>\n",
       "<path class=\"bond-11 atom-13 atom-15\" d=\"M 553.8,200.8 L 561.7,200.8\" style=\"fill:none;fill-rule:evenodd;stroke:#000000;stroke-width:1.0px;stroke-linecap:butt;stroke-linejoin:miter;stroke-opacity:1\"/>\n",
       "<path class=\"bond-11 atom-13 atom-15\" d=\"M 553.4,197.3 L 562.0,197.3\" style=\"fill:none;fill-rule:evenodd;stroke:#000000;stroke-width:1.0px;stroke-linecap:butt;stroke-linejoin:miter;stroke-opacity:1\"/>\n",
       "<path d=\"M 418.0,269.8 L 420.4,271.2 L 422.5,270.0\" style=\"fill:none;stroke:#000000;stroke-width:2.0px;stroke-linecap:butt;stroke-linejoin:miter;stroke-opacity:1;\"/>\n",
       "<path d=\"M 368.4,244.1 L 370.9,242.6 L 373.3,244.1\" style=\"fill:none;stroke:#000000;stroke-width:2.0px;stroke-linecap:butt;stroke-linejoin:miter;stroke-opacity:1;\"/>\n",
       "<path d=\"M 418.0,145.8 L 420.4,147.2 L 422.5,146.0\" style=\"fill:none;stroke:#000000;stroke-width:2.0px;stroke-linecap:butt;stroke-linejoin:miter;stroke-opacity:1;\"/>\n",
       "<path d=\"M 368.4,120.0 L 370.9,118.6 L 373.3,120.0\" style=\"fill:none;stroke:#000000;stroke-width:2.0px;stroke-linecap:butt;stroke-linejoin:miter;stroke-opacity:1;\"/>\n",
       "<path d=\"M 604.8,269.8 L 607.3,271.2 L 609.4,270.0\" style=\"fill:none;stroke:#000000;stroke-width:2.0px;stroke-linecap:butt;stroke-linejoin:miter;stroke-opacity:1;\"/>\n",
       "<path d=\"M 555.3,244.1 L 557.7,242.6 L 560.2,244.1\" style=\"fill:none;stroke:#000000;stroke-width:2.0px;stroke-linecap:butt;stroke-linejoin:miter;stroke-opacity:1;\"/>\n",
       "<path class=\"atom-0\" d=\"M 384.4 23.3 Q 384.4 19.2, 386.3 17.1 Q 388.2 15.0, 391.8 15.0 Q 395.2 15.0, 396.9 17.4 L 395.4 18.6 Q 394.1 16.9, 391.8 16.9 Q 389.4 16.9, 388.1 18.5 Q 386.8 20.2, 386.8 23.3 Q 386.8 26.5, 388.1 28.1 Q 389.5 29.8, 392.1 29.8 Q 393.8 29.8, 395.9 28.7 L 396.6 30.4 Q 395.7 31.0, 394.4 31.3 Q 393.2 31.6, 391.7 31.6 Q 388.2 31.6, 386.3 29.4 Q 384.4 27.3, 384.4 23.3 \" fill=\"#000000\"/>\n",
       "<path class=\"atom-0\" d=\"M 399.0 25.5 Q 399.0 22.6, 400.5 21.0 Q 401.9 19.4, 404.6 19.4 Q 407.3 19.4, 408.7 21.0 Q 410.2 22.6, 410.2 25.5 Q 410.2 28.3, 408.7 30.0 Q 407.3 31.6, 404.6 31.6 Q 401.9 31.6, 400.5 30.0 Q 399.0 28.3, 399.0 25.5 M 401.2 25.5 Q 401.2 27.6, 402.1 28.8 Q 403.0 29.9, 404.6 29.9 Q 406.3 29.9, 407.1 28.8 Q 408.0 27.6, 408.0 25.5 Q 408.0 23.3, 407.1 22.2 Q 406.3 21.1, 404.6 21.1 Q 403.0 21.1, 402.1 22.2 Q 401.2 23.3, 401.2 25.5 \" fill=\"#000000\"/>\n",
       "<path class=\"atom-4\" d=\"M 466.4 234.5 L 471.7 243.1 Q 472.3 244.0, 473.1 245.5 Q 474.0 247.0, 474.0 247.1 L 474.0 234.5 L 476.2 234.5 L 476.2 250.7 L 473.9 250.7 L 468.2 241.3 Q 467.6 240.2, 466.9 239.0 Q 466.2 237.7, 466.0 237.3 L 466.0 250.7 L 463.9 250.7 L 463.9 234.5 L 466.4 234.5 \" fill=\"#000000\"/>\n",
       "<path class=\"atom-4\" d=\"M 479.3 234.5 L 481.4 234.5 L 481.4 241.4 L 489.7 241.4 L 489.7 234.5 L 491.9 234.5 L 491.9 250.7 L 489.7 250.7 L 489.7 243.2 L 481.4 243.2 L 481.4 250.7 L 479.3 250.7 L 479.3 234.5 \" fill=\"#000000\"/>\n",
       "<path class=\"atom-4\" d=\"M 495.1 250.2 Q 495.5 249.1, 496.4 248.6 Q 497.4 248.0, 498.7 248.0 Q 500.3 248.0, 501.2 248.9 Q 502.1 249.8, 502.1 251.3 Q 502.1 252.9, 500.9 254.4 Q 499.8 255.9, 497.3 257.6 L 502.3 257.6 L 502.3 258.8 L 495.1 258.8 L 495.1 257.8 Q 497.1 256.4, 498.3 255.3 Q 499.4 254.3, 500.0 253.3 Q 500.6 252.4, 500.6 251.4 Q 500.6 250.4, 500.1 249.8 Q 499.6 249.2, 498.7 249.2 Q 497.8 249.2, 497.2 249.6 Q 496.7 249.9, 496.3 250.7 L 495.1 250.2 \" fill=\"#000000\"/>\n",
       "<path class=\"atom-5\" d=\"M 367.3 177.3 L 372.6 185.9 Q 373.1 186.7, 374.0 188.2 Q 374.8 189.8, 374.9 189.9 L 374.9 177.3 L 377.0 177.3 L 377.0 193.5 L 374.8 193.5 L 369.1 184.1 Q 368.4 183.0, 367.7 181.7 Q 367.0 180.5, 366.8 180.1 L 366.8 193.5 L 364.7 193.5 L 364.7 177.3 L 367.3 177.3 \" fill=\"#000000\"/>\n",
       "<path class=\"atom-5\" d=\"M 380.1 177.3 L 382.3 177.3 L 382.3 184.2 L 390.6 184.2 L 390.6 177.3 L 392.8 177.3 L 392.8 193.5 L 390.6 193.5 L 390.6 186.0 L 382.3 186.0 L 382.3 193.5 L 380.1 193.5 L 380.1 177.3 \" fill=\"#000000\"/>\n",
       "<path class=\"atom-5\" d=\"M 396.0 192.9 Q 396.4 191.9, 397.3 191.3 Q 398.2 190.8, 399.5 190.8 Q 401.1 190.8, 402.1 191.7 Q 403.0 192.5, 403.0 194.1 Q 403.0 195.7, 401.8 197.2 Q 400.6 198.6, 398.2 200.4 L 403.1 200.4 L 403.1 201.6 L 395.9 201.6 L 395.9 200.6 Q 397.9 199.2, 399.1 198.1 Q 400.3 197.0, 400.9 196.1 Q 401.4 195.1, 401.4 194.2 Q 401.4 193.1, 400.9 192.6 Q 400.4 192.0, 399.5 192.0 Q 398.7 192.0, 398.1 192.3 Q 397.5 192.7, 397.1 193.4 L 396.0 192.9 \" fill=\"#000000\"/>\n",
       "<path class=\"atom-9\" d=\"M 466.4 110.5 L 471.7 119.1 Q 472.3 119.9, 473.1 121.5 Q 474.0 123.0, 474.0 123.1 L 474.0 110.5 L 476.2 110.5 L 476.2 126.7 L 473.9 126.7 L 468.2 117.3 Q 467.6 116.2, 466.9 115.0 Q 466.2 113.7, 466.0 113.3 L 466.0 126.7 L 463.9 126.7 L 463.9 110.5 L 466.4 110.5 \" fill=\"#000000\"/>\n",
       "<path class=\"atom-9\" d=\"M 479.3 110.5 L 481.4 110.5 L 481.4 117.4 L 489.7 117.4 L 489.7 110.5 L 491.9 110.5 L 491.9 126.7 L 489.7 126.7 L 489.7 119.2 L 481.4 119.2 L 481.4 126.7 L 479.3 126.7 L 479.3 110.5 \" fill=\"#000000\"/>\n",
       "<path class=\"atom-9\" d=\"M 495.1 126.1 Q 495.5 125.1, 496.4 124.6 Q 497.4 124.0, 498.7 124.0 Q 500.3 124.0, 501.2 124.9 Q 502.1 125.7, 502.1 127.3 Q 502.1 128.9, 500.9 130.4 Q 499.8 131.8, 497.3 133.6 L 502.3 133.6 L 502.3 134.8 L 495.1 134.8 L 495.1 133.8 Q 497.1 132.4, 498.3 131.3 Q 499.4 130.3, 500.0 129.3 Q 500.6 128.4, 500.6 127.4 Q 500.6 126.3, 500.1 125.8 Q 499.6 125.2, 498.7 125.2 Q 497.8 125.2, 497.2 125.5 Q 496.7 125.9, 496.3 126.7 L 495.1 126.1 \" fill=\"#000000\"/>\n",
       "<path class=\"atom-10\" d=\"M 367.3 53.3 L 372.6 61.8 Q 373.1 62.7, 374.0 64.2 Q 374.8 65.8, 374.9 65.8 L 374.9 53.3 L 377.0 53.3 L 377.0 69.5 L 374.8 69.5 L 369.1 60.1 Q 368.4 59.0, 367.7 57.7 Q 367.0 56.5, 366.8 56.1 L 366.8 69.5 L 364.7 69.5 L 364.7 53.3 L 367.3 53.3 \" fill=\"#000000\"/>\n",
       "<path class=\"atom-10\" d=\"M 380.1 53.3 L 382.3 53.3 L 382.3 60.1 L 390.6 60.1 L 390.6 53.3 L 392.8 53.3 L 392.8 69.5 L 390.6 69.5 L 390.6 62.0 L 382.3 62.0 L 382.3 69.5 L 380.1 69.5 L 380.1 53.3 \" fill=\"#000000\"/>\n",
       "<path class=\"atom-10\" d=\"M 396.0 68.9 Q 396.4 67.9, 397.3 67.3 Q 398.2 66.7, 399.5 66.7 Q 401.1 66.7, 402.1 67.6 Q 403.0 68.5, 403.0 70.1 Q 403.0 71.6, 401.8 73.1 Q 400.6 74.6, 398.2 76.4 L 403.1 76.4 L 403.1 77.6 L 395.9 77.6 L 395.9 76.6 Q 397.9 75.1, 399.1 74.1 Q 400.3 73.0, 400.9 72.1 Q 401.4 71.1, 401.4 70.1 Q 401.4 69.1, 400.9 68.5 Q 400.4 68.0, 399.5 68.0 Q 398.7 68.0, 398.1 68.3 Q 397.5 68.7, 397.1 69.4 L 396.0 68.9 \" fill=\"#000000\"/>\n",
       "<path class=\"atom-14\" d=\"M 653.3 234.5 L 658.6 243.1 Q 659.1 244.0, 660.0 245.5 Q 660.8 247.0, 660.9 247.1 L 660.9 234.5 L 663.0 234.5 L 663.0 250.7 L 660.8 250.7 L 655.1 241.3 Q 654.4 240.2, 653.7 239.0 Q 653.1 237.7, 652.8 237.3 L 652.8 250.7 L 650.7 250.7 L 650.7 234.5 L 653.3 234.5 \" fill=\"#000000\"/>\n",
       "<path class=\"atom-14\" d=\"M 666.1 234.5 L 668.3 234.5 L 668.3 241.4 L 676.6 241.4 L 676.6 234.5 L 678.8 234.5 L 678.8 250.7 L 676.6 250.7 L 676.6 243.2 L 668.3 243.2 L 668.3 250.7 L 666.1 250.7 L 666.1 234.5 \" fill=\"#000000\"/>\n",
       "<path class=\"atom-14\" d=\"M 682.0 250.2 Q 682.4 249.1, 683.3 248.6 Q 684.3 248.0, 685.6 248.0 Q 687.2 248.0, 688.1 248.9 Q 689.0 249.8, 689.0 251.3 Q 689.0 252.9, 687.8 254.4 Q 686.6 255.9, 684.2 257.6 L 689.2 257.6 L 689.2 258.8 L 682.0 258.8 L 682.0 257.8 Q 684.0 256.4, 685.1 255.3 Q 686.3 254.3, 686.9 253.3 Q 687.5 252.4, 687.5 251.4 Q 687.5 250.4, 687.0 249.8 Q 686.4 249.2, 685.6 249.2 Q 684.7 249.2, 684.1 249.6 Q 683.5 249.9, 683.1 250.7 L 682.0 250.2 \" fill=\"#000000\"/>\n",
       "<path class=\"atom-15\" d=\"M 554.2 177.3 L 559.5 185.9 Q 560.0 186.7, 560.8 188.2 Q 561.7 189.8, 561.7 189.9 L 561.7 177.3 L 563.9 177.3 L 563.9 193.5 L 561.7 193.5 L 556.0 184.1 Q 555.3 183.0, 554.6 181.7 Q 553.9 180.5, 553.7 180.1 L 553.7 193.5 L 551.6 193.5 L 551.6 177.3 L 554.2 177.3 \" fill=\"#000000\"/>\n",
       "<path class=\"atom-15\" d=\"M 567.0 177.3 L 569.2 177.3 L 569.2 184.2 L 577.5 184.2 L 577.5 177.3 L 579.7 177.3 L 579.7 193.5 L 577.5 193.5 L 577.5 186.0 L 569.2 186.0 L 569.2 193.5 L 567.0 193.5 L 567.0 177.3 \" fill=\"#000000\"/>\n",
       "<path class=\"atom-15\" d=\"M 582.8 192.9 Q 583.2 191.9, 584.2 191.3 Q 585.1 190.8, 586.4 190.8 Q 588.0 190.8, 588.9 191.7 Q 589.8 192.5, 589.8 194.1 Q 589.8 195.7, 588.7 197.2 Q 587.5 198.6, 585.1 200.4 L 590.0 200.4 L 590.0 201.6 L 582.8 201.6 L 582.8 200.6 Q 584.8 199.2, 586.0 198.1 Q 587.2 197.0, 587.8 196.1 Q 588.3 195.1, 588.3 194.2 Q 588.3 193.1, 587.8 192.6 Q 587.3 192.0, 586.4 192.0 Q 585.5 192.0, 585.0 192.3 Q 584.4 192.7, 584.0 193.4 L 582.8 192.9 \" fill=\"#000000\"/>\n",
       "<path class=\"note\" d=\"M 389.5 43.5 L 390.5 43.5 L 390.5 44.5 L 389.5 44.5 L 389.5 46.3 L 388.4 46.3 L 388.4 44.5 L 384.3 44.5 L 384.3 43.7 L 387.8 38.2 L 389.5 38.2 L 389.5 43.5 M 385.6 43.5 L 388.4 43.5 L 388.4 39.0 L 385.6 43.5 \" fill=\"#000000\"/>\n",
       "<path class=\"note\" d=\"M 394.6 41.3 Q 395.3 41.3, 395.9 41.6 Q 396.5 41.9, 396.8 42.4 Q 397.1 43.0, 397.1 43.8 Q 397.1 44.6, 396.7 45.2 Q 396.3 45.8, 395.6 46.1 Q 395.0 46.4, 394.2 46.4 Q 393.5 46.4, 392.8 46.1 Q 392.1 45.9, 391.6 45.3 L 392.3 44.6 Q 392.7 45.0, 393.2 45.3 Q 393.7 45.5, 394.3 45.5 Q 395.0 45.5, 395.5 45.0 Q 396.0 44.6, 396.0 43.8 Q 396.0 42.9, 395.5 42.5 Q 395.0 42.1, 394.2 42.1 Q 393.5 42.1, 392.7 42.4 L 392.1 42.1 L 392.5 38.2 L 396.6 38.2 L 396.5 39.1 L 393.4 39.1 L 393.2 41.5 Q 393.9 41.3, 394.6 41.3 \" fill=\"#000000\"/>\n",
       "<path class=\"note\" d=\"M 316.5 267.2 Q 315.0 267.2, 314.3 266.1 Q 313.6 265.0, 313.6 263.0 Q 313.6 261.1, 314.3 260.0 Q 315.0 258.9, 316.5 258.9 Q 318.0 258.9, 318.7 260.0 Q 319.5 261.1, 319.5 263.0 Q 319.5 265.0, 318.7 266.1 Q 318.0 267.2, 316.5 267.2 M 316.5 266.3 Q 317.4 266.3, 317.9 265.4 Q 318.3 264.6, 318.3 263.0 Q 318.3 261.4, 317.9 260.6 Q 317.4 259.8, 316.5 259.8 Q 315.6 259.8, 315.2 260.6 Q 314.7 261.4, 314.7 263.0 Q 314.7 264.6, 315.2 265.4 Q 315.6 266.3, 316.5 266.3 \" fill=\"#000000\"/>\n",
       "<path class=\"note\" d=\"M 418.4 283.9 L 420.2 283.9 L 420.2 277.9 L 418.3 278.5 L 418.0 277.8 L 420.5 276.7 L 421.3 276.8 L 421.3 283.9 L 422.9 283.9 L 422.9 284.9 L 418.4 284.9 L 418.4 283.9 \" fill=\"#000000\"/>\n",
       "<path class=\"note\" d=\"M 368.2 249.7 Q 368.5 248.9, 369.2 248.5 Q 369.9 248.1, 370.9 248.1 Q 372.1 248.1, 372.8 248.7 Q 373.5 249.4, 373.5 250.6 Q 373.5 251.8, 372.6 252.9 Q 371.7 254.0, 369.8 255.3 L 373.6 255.3 L 373.6 256.3 L 368.1 256.3 L 368.1 255.5 Q 369.6 254.4, 370.5 253.6 Q 371.4 252.8, 371.9 252.1 Q 372.3 251.4, 372.3 250.6 Q 372.3 249.9, 371.9 249.4 Q 371.5 249.0, 370.9 249.0 Q 370.2 249.0, 369.8 249.2 Q 369.3 249.5, 369.0 250.1 L 368.2 249.7 \" fill=\"#000000\"/>\n",
       "<path class=\"note\" d=\"M 480.7 259.0 Q 481.5 259.2, 481.9 259.7 Q 482.3 260.2, 482.3 261.0 Q 482.3 261.7, 481.9 262.3 Q 481.6 262.8, 481.0 263.1 Q 480.3 263.4, 479.5 263.4 Q 478.6 263.4, 478.0 263.1 Q 477.3 262.8, 476.8 262.1 L 477.5 261.5 Q 478.0 262.0, 478.4 262.2 Q 478.8 262.4, 479.5 262.4 Q 480.2 262.4, 480.7 262.1 Q 481.1 261.7, 481.1 261.0 Q 481.1 260.2, 480.7 259.8 Q 480.2 259.4, 479.2 259.4 L 478.6 259.4 L 478.6 258.6 L 479.1 258.6 Q 480.0 258.6, 480.5 258.2 Q 481.0 257.8, 481.0 257.1 Q 481.0 256.6, 480.6 256.3 Q 480.2 256.0, 479.5 256.0 Q 478.8 256.0, 478.4 256.2 Q 478.0 256.4, 477.7 257.1 L 476.9 256.6 Q 477.2 256.0, 477.9 255.5 Q 478.6 255.1, 479.5 255.1 Q 480.7 255.1, 481.4 255.6 Q 482.1 256.2, 482.1 257.1 Q 482.1 257.8, 481.7 258.2 Q 481.4 258.7, 480.7 259.0 \" fill=\"#000000\"/>\n",
       "<path class=\"note\" d=\"M 373.0 167.6 L 374.0 167.6 L 374.0 168.5 L 373.0 168.5 L 373.0 170.4 L 371.9 170.4 L 371.9 168.5 L 367.7 168.5 L 367.7 167.8 L 371.3 162.2 L 373.0 162.2 L 373.0 167.6 M 369.1 167.6 L 371.9 167.6 L 371.9 163.0 L 369.1 167.6 \" fill=\"#000000\"/>\n",
       "<path class=\"note\" d=\"M 311.3 142.1 L 313.1 142.1 L 313.1 136.1 L 311.1 136.7 L 310.8 136.0 L 313.3 134.9 L 314.1 135.0 L 314.1 142.1 L 315.7 142.1 L 315.7 143.0 L 311.3 143.0 L 311.3 142.1 \" fill=\"#000000\"/>\n",
       "<path class=\"note\" d=\"M 319.7 138.0 Q 320.4 138.0, 321.0 138.3 Q 321.5 138.6, 321.9 139.1 Q 322.2 139.7, 322.2 140.5 Q 322.2 141.3, 321.8 141.9 Q 321.4 142.5, 320.7 142.8 Q 320.1 143.1, 319.3 143.1 Q 318.6 143.1, 317.9 142.9 Q 317.2 142.6, 316.7 142.1 L 317.4 141.3 Q 317.8 141.8, 318.3 142.0 Q 318.8 142.2, 319.3 142.2 Q 320.1 142.2, 320.6 141.8 Q 321.1 141.3, 321.1 140.5 Q 321.1 139.6, 320.6 139.2 Q 320.1 138.8, 319.3 138.8 Q 318.6 138.8, 317.8 139.1 L 317.1 138.8 L 317.5 134.9 L 321.7 134.9 L 321.6 135.8 L 318.5 135.8 L 318.2 138.2 Q 319.0 138.0, 319.7 138.0 \" fill=\"#000000\"/>\n",
       "<path class=\"note\" d=\"M 415.1 159.9 L 416.9 159.9 L 416.9 153.9 L 414.9 154.5 L 414.7 153.8 L 417.2 152.7 L 418.0 152.8 L 418.0 159.9 L 419.6 159.9 L 419.6 160.9 L 415.1 160.9 L 415.1 159.9 \" fill=\"#000000\"/>\n",
       "<path class=\"note\" d=\"M 423.7 155.8 Q 424.5 155.8, 425.0 156.1 Q 425.6 156.4, 425.9 157.0 Q 426.2 157.5, 426.2 158.3 Q 426.2 159.0, 425.8 159.7 Q 425.5 160.3, 424.9 160.6 Q 424.3 161.0, 423.5 161.0 Q 422.0 161.0, 421.3 160.0 Q 420.6 159.0, 420.6 157.0 Q 420.6 154.9, 421.5 153.8 Q 422.4 152.7, 424.1 152.7 Q 424.6 152.7, 425.0 152.8 Q 425.5 152.9, 425.9 153.1 L 425.4 153.9 Q 424.8 153.6, 424.1 153.6 Q 423.0 153.6, 422.4 154.3 Q 421.8 155.1, 421.7 156.6 Q 422.1 156.2, 422.7 156.0 Q 423.2 155.8, 423.7 155.8 M 423.5 160.0 Q 423.9 160.0, 424.3 159.8 Q 424.6 159.6, 424.8 159.2 Q 425.0 158.8, 425.0 158.3 Q 425.0 157.5, 424.6 157.1 Q 424.2 156.7, 423.5 156.7 Q 423.0 156.7, 422.6 156.9 Q 422.1 157.1, 421.7 157.5 Q 421.8 158.8, 422.2 159.4 Q 422.6 160.0, 423.5 160.0 \" fill=\"#000000\"/>\n",
       "<path class=\"note\" d=\"M 365.7 140.8 L 367.4 140.8 L 367.4 134.8 L 365.5 135.4 L 365.2 134.7 L 367.7 133.6 L 368.5 133.7 L 368.5 140.8 L 370.1 140.8 L 370.1 141.8 L 365.7 141.8 L 365.7 140.8 \" fill=\"#000000\"/>\n",
       "<path class=\"note\" d=\"M 375.4 134.6 L 371.1 134.6 L 371.1 133.7 L 376.5 133.7 L 376.5 134.5 L 373.2 141.8 L 372.1 141.8 L 375.4 134.6 \" fill=\"#000000\"/>\n",
       "<path class=\"note\" d=\"M 474.2 138.3 L 476.0 138.3 L 476.0 132.3 L 474.0 132.9 L 473.7 132.2 L 476.2 131.1 L 477.0 131.2 L 477.0 138.3 L 478.6 138.3 L 478.6 139.2 L 474.2 139.2 L 474.2 138.3 \" fill=\"#000000\"/>\n",
       "<path class=\"note\" d=\"M 483.8 134.9 Q 484.5 135.3, 484.9 135.7 Q 485.4 136.2, 485.4 137.0 Q 485.4 137.7, 485.0 138.2 Q 484.6 138.8, 484.0 139.1 Q 483.4 139.3, 482.5 139.3 Q 481.2 139.3, 480.4 138.7 Q 479.6 138.1, 479.6 137.0 Q 479.6 136.3, 480.0 135.8 Q 480.3 135.3, 481.0 135.0 Q 480.5 134.7, 480.2 134.2 Q 479.9 133.8, 479.9 133.1 Q 479.9 132.1, 480.6 131.6 Q 481.3 131.0, 482.5 131.0 Q 483.7 131.0, 484.4 131.6 Q 485.1 132.1, 485.1 133.1 Q 485.1 133.7, 484.7 134.1 Q 484.4 134.6, 483.8 134.9 M 482.5 131.9 Q 481.8 131.9, 481.4 132.2 Q 481.1 132.5, 481.1 133.1 Q 481.1 133.5, 481.3 133.8 Q 481.6 134.1, 481.9 134.2 Q 482.3 134.4, 483.0 134.6 Q 483.5 134.3, 483.7 133.9 Q 483.9 133.6, 483.9 133.1 Q 483.9 132.5, 483.5 132.2 Q 483.2 131.9, 482.5 131.9 M 482.5 138.5 Q 483.3 138.5, 483.8 138.1 Q 484.2 137.7, 484.2 137.0 Q 484.2 136.6, 484.0 136.3 Q 483.7 136.0, 483.4 135.8 Q 483.0 135.7, 482.4 135.5 L 481.9 135.3 Q 481.3 135.7, 481.0 136.1 Q 480.8 136.5, 480.8 137.0 Q 480.8 137.7, 481.3 138.1 Q 481.7 138.5, 482.5 138.5 \" fill=\"#000000\"/>\n",
       "<path class=\"note\" d=\"M 365.5 45.5 L 367.3 45.5 L 367.3 39.4 L 365.4 40.0 L 365.1 39.3 L 367.6 38.2 L 368.4 38.4 L 368.4 45.5 L 370.0 45.5 L 370.0 46.4 L 365.5 46.4 L 365.5 45.5 \" fill=\"#000000\"/>\n",
       "<path class=\"note\" d=\"M 373.7 38.2 Q 375.2 38.2, 375.9 39.2 Q 376.6 40.1, 376.6 42.1 Q 376.6 44.2, 375.7 45.4 Q 374.8 46.5, 373.1 46.5 Q 372.6 46.5, 372.2 46.4 Q 371.7 46.2, 371.3 46.0 L 371.8 45.2 Q 372.4 45.6, 373.1 45.6 Q 374.2 45.6, 374.8 44.8 Q 375.4 44.1, 375.5 42.6 Q 375.1 42.9, 374.5 43.1 Q 374.0 43.3, 373.4 43.3 Q 372.7 43.3, 372.2 43.0 Q 371.6 42.7, 371.3 42.2 Q 371.0 41.6, 371.0 40.9 Q 371.0 40.1, 371.3 39.5 Q 371.7 38.9, 372.3 38.5 Q 372.9 38.2, 373.7 38.2 M 372.1 40.9 Q 372.1 41.6, 372.5 42.0 Q 372.9 42.4, 373.7 42.4 Q 374.1 42.4, 374.6 42.2 Q 375.1 42.0, 375.5 41.7 Q 375.4 40.3, 375.0 39.7 Q 374.6 39.1, 373.7 39.1 Q 373.3 39.1, 372.9 39.3 Q 372.6 39.6, 372.3 40.0 Q 372.1 40.4, 372.1 40.9 \" fill=\"#000000\"/>\n",
       "<path class=\"note\" d=\"M 510.5 279.3 Q 511.3 279.6, 511.7 280.1 Q 512.1 280.6, 512.1 281.4 Q 512.1 282.1, 511.7 282.6 Q 511.4 283.1, 510.8 283.4 Q 510.1 283.7, 509.3 283.7 Q 508.4 283.7, 507.8 283.4 Q 507.1 283.1, 506.6 282.5 L 507.3 281.8 Q 507.8 282.4, 508.2 282.6 Q 508.6 282.8, 509.3 282.8 Q 510.0 282.8, 510.5 282.4 Q 510.9 282.0, 510.9 281.4 Q 510.9 280.6, 510.5 280.2 Q 510.0 279.8, 509.0 279.8 L 508.4 279.8 L 508.4 279.0 L 508.9 279.0 Q 509.8 279.0, 510.3 278.6 Q 510.8 278.2, 510.8 277.5 Q 510.8 277.0, 510.4 276.6 Q 510.0 276.3, 509.3 276.3 Q 508.6 276.3, 508.2 276.6 Q 507.8 276.8, 507.5 277.4 L 506.7 277.0 Q 507.0 276.3, 507.7 275.9 Q 508.4 275.4, 509.3 275.4 Q 510.5 275.4, 511.2 276.0 Q 511.9 276.5, 511.9 277.5 Q 511.9 278.1, 511.5 278.6 Q 511.2 279.1, 510.5 279.3 \" fill=\"#000000\"/>\n",
       "<path class=\"note\" d=\"M 516.3 283.7 Q 514.8 283.7, 514.1 282.6 Q 513.3 281.5, 513.3 279.5 Q 513.3 277.6, 514.1 276.5 Q 514.8 275.4, 516.3 275.4 Q 517.8 275.4, 518.5 276.5 Q 519.3 277.6, 519.3 279.5 Q 519.3 281.5, 518.5 282.6 Q 517.8 283.7, 516.3 283.7 M 516.3 282.8 Q 517.2 282.8, 517.6 282.0 Q 518.1 281.1, 518.1 279.5 Q 518.1 278.0, 517.6 277.1 Q 517.2 276.3, 516.3 276.3 Q 515.4 276.3, 514.9 277.1 Q 514.5 278.0, 514.5 279.5 Q 514.5 281.1, 514.9 282.0 Q 515.4 282.8, 516.3 282.8 \" fill=\"#000000\"/>\n",
       "<path class=\"note\" d=\"M 605.4 280.6 Q 606.2 280.8, 606.6 281.4 Q 607.0 281.9, 607.0 282.7 Q 607.0 283.4, 606.7 283.9 Q 606.3 284.4, 605.7 284.7 Q 605.1 285.0, 604.2 285.0 Q 603.4 285.0, 602.7 284.7 Q 602.1 284.4, 601.5 283.8 L 602.2 283.1 Q 602.7 283.7, 603.1 283.9 Q 603.6 284.1, 604.2 284.1 Q 605.0 284.1, 605.4 283.7 Q 605.9 283.3, 605.9 282.7 Q 605.9 281.8, 605.4 281.5 Q 604.9 281.1, 603.9 281.1 L 603.3 281.1 L 603.3 280.3 L 603.9 280.3 Q 604.7 280.2, 605.2 279.9 Q 605.7 279.5, 605.7 278.8 Q 605.7 278.2, 605.3 277.9 Q 604.9 277.6, 604.2 277.6 Q 603.6 277.6, 603.1 277.8 Q 602.7 278.1, 602.4 278.7 L 601.6 278.3 Q 601.9 277.6, 602.6 277.1 Q 603.3 276.7, 604.2 276.7 Q 605.4 276.7, 606.1 277.2 Q 606.8 277.8, 606.8 278.8 Q 606.8 279.4, 606.5 279.9 Q 606.1 280.4, 605.4 280.6 \" fill=\"#000000\"/>\n",
       "<path class=\"note\" d=\"M 608.6 284.0 L 610.4 284.0 L 610.4 277.9 L 608.5 278.5 L 608.2 277.8 L 610.7 276.7 L 611.5 276.9 L 611.5 284.0 L 613.1 284.0 L 613.1 284.9 L 608.6 284.9 L 608.6 284.0 \" fill=\"#000000\"/>\n",
       "<path class=\"note\" d=\"M 555.6 261.5 Q 556.4 261.8, 556.7 262.3 Q 557.1 262.8, 557.1 263.6 Q 557.1 264.3, 556.8 264.8 Q 556.4 265.3, 555.8 265.6 Q 555.2 265.9, 554.4 265.9 Q 553.5 265.9, 552.8 265.6 Q 552.2 265.3, 551.7 264.7 L 552.3 264.0 Q 552.8 264.6, 553.3 264.8 Q 553.7 265.0, 554.4 265.0 Q 555.1 265.0, 555.5 264.6 Q 556.0 264.2, 556.0 263.6 Q 556.0 262.7, 555.5 262.4 Q 555.1 262.0, 554.1 262.0 L 553.5 262.0 L 553.5 261.2 L 554.0 261.2 Q 554.9 261.2, 555.3 260.8 Q 555.8 260.4, 555.8 259.7 Q 555.8 259.2, 555.4 258.8 Q 555.0 258.5, 554.4 258.5 Q 553.7 258.5, 553.3 258.8 Q 552.9 259.0, 552.5 259.6 L 551.7 259.2 Q 552.0 258.5, 552.7 258.1 Q 553.4 257.6, 554.4 257.6 Q 555.6 257.6, 556.3 258.2 Q 557.0 258.7, 557.0 259.7 Q 557.0 260.3, 556.6 260.8 Q 556.2 261.3, 555.6 261.5 \" fill=\"#000000\"/>\n",
       "<path class=\"note\" d=\"M 558.4 259.2 Q 558.7 258.5, 559.4 258.0 Q 560.1 257.6, 561.1 257.6 Q 562.3 257.6, 563.0 258.3 Q 563.7 258.9, 563.7 260.1 Q 563.7 261.3, 562.8 262.4 Q 561.9 263.6, 560.1 264.9 L 563.8 264.9 L 563.8 265.8 L 558.3 265.8 L 558.3 265.0 Q 559.9 264.0, 560.8 263.2 Q 561.7 262.4, 562.1 261.6 Q 562.5 260.9, 562.5 260.2 Q 562.5 259.4, 562.1 259.0 Q 561.7 258.5, 561.1 258.5 Q 560.4 258.5, 560.0 258.8 Q 559.5 259.1, 559.2 259.6 L 558.4 259.2 \" fill=\"#000000\"/>\n",
       "<path class=\"note\" d=\"M 664.3 259.0 Q 665.1 259.2, 665.4 259.7 Q 665.8 260.2, 665.8 261.0 Q 665.8 261.7, 665.5 262.3 Q 665.1 262.8, 664.5 263.1 Q 663.9 263.4, 663.0 263.4 Q 662.2 263.4, 661.5 263.1 Q 660.9 262.8, 660.4 262.1 L 661.0 261.5 Q 661.5 262.0, 661.9 262.2 Q 662.4 262.4, 663.0 262.4 Q 663.8 262.4, 664.2 262.1 Q 664.7 261.7, 664.7 261.0 Q 664.7 260.2, 664.2 259.8 Q 663.7 259.4, 662.7 259.4 L 662.2 259.4 L 662.2 258.6 L 662.7 258.6 Q 663.6 258.6, 664.0 258.2 Q 664.5 257.8, 664.5 257.1 Q 664.5 256.6, 664.1 256.3 Q 663.7 256.0, 663.1 256.0 Q 662.4 256.0, 662.0 256.2 Q 661.5 256.4, 661.2 257.1 L 660.4 256.6 Q 660.7 256.0, 661.4 255.5 Q 662.1 255.1, 663.1 255.1 Q 664.2 255.1, 664.9 255.6 Q 665.6 256.2, 665.6 257.1 Q 665.6 257.8, 665.3 258.2 Q 664.9 258.7, 664.3 259.0 \" fill=\"#000000\"/>\n",
       "<path class=\"note\" d=\"M 670.9 259.0 Q 671.7 259.2, 672.1 259.7 Q 672.5 260.2, 672.5 261.0 Q 672.5 261.7, 672.1 262.3 Q 671.8 262.8, 671.2 263.1 Q 670.5 263.4, 669.7 263.4 Q 668.8 263.4, 668.2 263.1 Q 667.6 262.8, 667.0 262.1 L 667.7 261.5 Q 668.2 262.0, 668.6 262.2 Q 669.0 262.4, 669.7 262.4 Q 670.4 262.4, 670.9 262.1 Q 671.3 261.7, 671.3 261.0 Q 671.3 260.2, 670.9 259.8 Q 670.4 259.4, 669.4 259.4 L 668.8 259.4 L 668.8 258.6 L 669.4 258.6 Q 670.2 258.6, 670.7 258.2 Q 671.2 257.8, 671.2 257.1 Q 671.2 256.6, 670.8 256.3 Q 670.4 256.0, 669.7 256.0 Q 669.1 256.0, 668.6 256.2 Q 668.2 256.4, 667.9 257.1 L 667.1 256.6 Q 667.4 256.0, 668.1 255.5 Q 668.8 255.1, 669.7 255.1 Q 670.9 255.1, 671.6 255.6 Q 672.3 256.2, 672.3 257.1 Q 672.3 257.8, 672.0 258.2 Q 671.6 258.7, 670.9 259.0 \" fill=\"#000000\"/>\n",
       "<path class=\"note\" d=\"M 555.2 166.1 Q 555.9 166.4, 556.3 166.9 Q 556.7 167.4, 556.7 168.2 Q 556.7 168.9, 556.4 169.4 Q 556.0 169.9, 555.4 170.2 Q 554.8 170.5, 553.9 170.5 Q 553.1 170.5, 552.4 170.2 Q 551.8 169.9, 551.3 169.3 L 551.9 168.6 Q 552.4 169.2, 552.8 169.4 Q 553.3 169.6, 553.9 169.6 Q 554.7 169.6, 555.1 169.2 Q 555.6 168.8, 555.6 168.2 Q 555.6 167.3, 555.1 167.0 Q 554.6 166.6, 553.6 166.6 L 553.1 166.6 L 553.1 165.8 L 553.6 165.8 Q 554.5 165.8, 554.9 165.4 Q 555.4 165.0, 555.4 164.3 Q 555.4 163.7, 555.0 163.4 Q 554.6 163.1, 554.0 163.1 Q 553.3 163.1, 552.9 163.4 Q 552.4 163.6, 552.1 164.2 L 551.3 163.8 Q 551.6 163.1, 552.3 162.7 Q 553.0 162.2, 554.0 162.2 Q 555.1 162.2, 555.8 162.8 Q 556.5 163.3, 556.5 164.3 Q 556.5 164.9, 556.2 165.4 Q 555.8 165.9, 555.2 166.1 \" fill=\"#000000\"/>\n",
       "<path class=\"note\" d=\"M 563.2 167.6 L 564.2 167.6 L 564.2 168.5 L 563.2 168.5 L 563.2 170.4 L 562.2 170.4 L 562.2 168.5 L 558.0 168.5 L 558.0 167.8 L 561.5 162.3 L 563.2 162.3 L 563.2 167.6 M 559.3 167.6 L 562.2 167.6 L 562.2 163.0 L 559.3 167.6 \" fill=\"#000000\"/>\n",
       "</svg>"
      ],
      "text/plain": [
       "<IPython.core.display.SVG object>"
      ]
     },
     "metadata": {},
     "output_type": "display_data"
    }
   ],
   "source": [
    "# StereoMolGraph with metal center and 3 not bonded ligands\n",
    "\n",
    "smg = StereoMolGraph()\n",
    "metal_id = len(lig) + len(lig2) + len(lig3)\n",
    "smg.add_atom(metal_id, \"Co\")\n",
    "\n",
    "smg = StereoMolGraph.from_composed_molgraphs([smg, lig, lig2, lig3])\n",
    "smg"
   ]
  },
  {
   "cell_type": "code",
   "execution_count": 4,
   "id": "f3b256aa",
   "metadata": {},
   "outputs": [],
   "source": [
    "# extract all nitrogen pairs\n",
    "\n",
    "n_pairs = []\n",
    "for subgraph_atoms in smg.connected_components():\n",
    "    n_atoms = {atom for atom in subgraph_atoms \n",
    "                if smg.get_atom_attribute(atom, \"atom_type\").symbol == \"N\"}\n",
    "    if len(n_atoms) == 2:\n",
    "        n_pairs.append(n_atoms)\n",
    "\n",
    "\n",
    "# create Co - N bonds\n",
    "\n",
    "for i, j in n_pairs:\n",
    "    smg.add_bond(metal_id, i)\n",
    "    smg.add_bond(metal_id, j)\n",
    "    smg.set_atom_stereo(Tetrahedral(atoms = (i, *smg.bonded_to(i)), parity = 1))\n",
    "    smg.set_atom_stereo(Tetrahedral(atoms = (j, *smg.bonded_to(j)), parity = 1))"
   ]
  },
  {
   "cell_type": "code",
   "execution_count": 5,
   "id": "ccddf73c",
   "metadata": {},
   "outputs": [
    {
     "data": {
      "text/plain": [
       "384"
      ]
     },
     "execution_count": 5,
     "metadata": {},
     "output_type": "execute_result"
    }
   ],
   "source": [
    "stereoisomers = []\n",
    "\n",
    "# atom ids of trans positions (from Octahedral docstring)\n",
    "trans_substituents_oct = [(0,1), (2, 4), (3, 5)]\n",
    "\n",
    "# all possible atom orders of N ligands\n",
    "n_atom_perm = itertools.permutations(itertools.chain(*n_pairs))\n",
    "\n",
    "for perm in n_atom_perm:\n",
    "    # N ligands are not allowed to be trans!\n",
    "    if all({perm[i], perm[j]} not in n_pairs for  i,j in trans_substituents_oct):\n",
    "        candidate_stereoisomer = smg.copy()\n",
    "        stereo = Octahedral(atoms = (metal_id, *perm), parity = 1)\n",
    "        candidate_stereoisomer.set_atom_stereo(stereo)\n",
    "        stereoisomers.append(candidate_stereoisomer)\n",
    "\n",
    "len(stereoisomers)"
   ]
  },
  {
   "cell_type": "code",
   "execution_count": 6,
   "id": "b420f30f",
   "metadata": {},
   "outputs": [
    {
     "data": {
      "text/plain": [
       "4"
      ]
     },
     "execution_count": 6,
     "metadata": {},
     "output_type": "execute_result"
    }
   ],
   "source": [
    "unique_stereoisomers = set(stereoisomers)\n",
    "len(unique_stereoisomers)"
   ]
  },
  {
   "cell_type": "code",
   "execution_count": 7,
   "id": "7946d5fa",
   "metadata": {},
   "outputs": [
    {
     "data": {
      "text/plain": [
       "['[H]~C(~[H])(~[H])~[C@]1(~[H])~C(~[H])(~[H])~N(~[H])(~[H])~[Co@OH12]23(~N(~[H])(~[H])~C(~[H])(~[H])~[C@@](~[H])(~C(~[H])(~[H])~[H])~N~2(~[H])~[H])(~N(~[H])(~[H])~C(~[H])(~[H])~[C@@](~[H])(~C(~[H])(~[H])~[H])~N~3(~[H])~[H])~N~1(~[H])~[H]',\n",
       " '[H]~C(~[H])(~[H])~[C@]1(~[H])~C(~[H])(~[H])~N(~[H])(~[H])~[Co@OH27]23(~N(~[H])(~[H])~C(~[H])(~[H])~[C@@](~[H])(~C(~[H])(~[H])~[H])~N~2(~[H])~[H])(~N(~[H])(~[H])~C(~[H])(~[H])~[C@@](~[H])(~C(~[H])(~[H])~[H])~N~3(~[H])~[H])~N~1(~[H])~[H]',\n",
       " '[H]~C(~[H])(~[H])~[C@]1(~[H])~C(~[H])(~[H])~N(~[H])(~[H])~[Co@OH28]23(~N(~[H])(~[H])~C(~[H])(~[H])~[C@@](~[H])(~C(~[H])(~[H])~[H])~N~2(~[H])~[H])(~N(~[H])(~[H])~C(~[H])(~[H])~[C@@](~[H])(~C(~[H])(~[H])~[H])~N~3(~[H])~[H])~N~1(~[H])~[H]',\n",
       " '[H]~C(~[H])(~[H])~[C@]1(~[H])~C(~[H])(~[H])~N(~[H])(~[H])~[Co@OH18]23(~N(~[H])(~[H])~C(~[H])(~[H])~[C@@](~[H])(~C(~[H])(~[H])~[H])~N~2(~[H])~[H])(~N(~[H])(~[H])~C(~[H])(~[H])~[C@@](~[H])(~C(~[H])(~[H])~[H])~N~3(~[H])~[H])~N~1(~[H])~[H]']"
      ]
     },
     "execution_count": 7,
     "metadata": {},
     "output_type": "execute_result"
    }
   ],
   "source": [
    "[Chem.MolToSmiles(s.to_rdmol(generate_bond_orders=False)) for s in unique_stereoisomers]"
   ]
  }
 ],
 "metadata": {
  "kernelspec": {
   "display_name": "maxim",
   "language": "python",
   "name": "python3"
  },
  "language_info": {
   "codemirror_mode": {
    "name": "ipython",
    "version": 3
   },
   "file_extension": ".py",
   "mimetype": "text/x-python",
   "name": "python",
   "nbconvert_exporter": "python",
   "pygments_lexer": "ipython3",
   "version": "3.13.3"
  }
 },
 "nbformat": 4,
 "nbformat_minor": 5
}
