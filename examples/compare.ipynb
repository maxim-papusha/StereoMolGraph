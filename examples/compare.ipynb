{
 "cells": [
  {
   "cell_type": "markdown",
   "id": "7acb518e",
   "metadata": {},
   "source": [
    "# Comparing molecules: Isoskeletomers, Diastereomers, Enantiomers or Identical?  #"
   ]
  },
  {
   "cell_type": "code",
   "execution_count": 1,
   "id": "aff3d8fe",
   "metadata": {},
   "outputs": [],
   "source": [
    "import rdkit.Chem as Chem\n",
    "from IPython.core.interactiveshell import InteractiveShell\n",
    "\n",
    "from stereomolgraph import StereoMolGraph, MolGraph\n",
    "from stereomolgraph.ipython import View2D\n",
    "\n",
    "InteractiveShell.ast_node_interactivity = \"all\"\n",
    "\n",
    "View2D.show_atom_numbers = True\n",
    "View2D.show_h = False\n",
    "View2D.generate_bond_orders = True\n",
    "View2D.height = 200\n",
    "View2D.width = 500"
   ]
  },
  {
   "cell_type": "code",
   "execution_count": 2,
   "id": "e14c487c",
   "metadata": {},
   "outputs": [],
   "source": [
    "smiles1 = r\"C[C@H]([C@@H]/1C)C1=C\\C\"\n",
    "smiles2 = r\"C[C@@H]([C@H]/1C)C1=C\\C\"\n",
    "\n",
    "rdmol = Chem.AddHs(Chem.MolFromSmiles(smiles1), explicitOnly=False)\n",
    "rdmol2 = Chem.AddHs(Chem.MolFromSmiles(smiles2), explicitOnly=False)"
   ]
  },
  {
   "cell_type": "markdown",
   "id": "d7de302e",
   "metadata": {},
   "source": [
    "## Compare connectivity ##\n"
   ]
  },
  {
   "cell_type": "code",
   "execution_count": 3,
   "id": "00947d0b",
   "metadata": {},
   "outputs": [
    {
     "data": {
      "text/plain": [
       "True"
      ]
     },
     "execution_count": 3,
     "metadata": {},
     "output_type": "execute_result"
    }
   ],
   "source": [
    "mg1 = MolGraph.from_rdmol(rdmol)\n",
    "mg2 = MolGraph.from_rdmol(rdmol2)\n",
    "mg1 == mg2 # compare connectivity"
   ]
  },
  {
   "cell_type": "code",
   "execution_count": 4,
   "id": "777da463",
   "metadata": {},
   "outputs": [
    {
     "data": {
      "image/svg+xml": [
       "<svg xmlns=\"http://www.w3.org/2000/svg\" xmlns:rdkit=\"http://www.rdkit.org/xml\" xmlns:xlink=\"http://www.w3.org/1999/xlink\" version=\"1.1\" baseProfile=\"full\" xml:space=\"preserve\" width=\"500px\" height=\"200px\" viewBox=\"0 0 500 200\">\n",
       "<!-- END OF HEADER -->\n",
       "<rect style=\"opacity:1.0;fill:#FFFFFF;stroke:none\" width=\"500.0\" height=\"200.0\" x=\"0.0\" y=\"0.0\"> </rect>\n",
       "<path class=\"bond-0 atom-0 atom-1\" d=\"M 371.0,173.9 L 312.7,140.3\" style=\"fill:none;fill-rule:evenodd;stroke:#000000;stroke-width:2.0px;stroke-linecap:butt;stroke-linejoin:miter;stroke-opacity:1\"/>\n",
       "<path class=\"bond-1 atom-1 atom-2\" d=\"M 312.7,140.3 L 279.1,82.1\" style=\"fill:none;fill-rule:evenodd;stroke:#000000;stroke-width:2.0px;stroke-linecap:butt;stroke-linejoin:miter;stroke-opacity:1\"/>\n",
       "<path class=\"bond-2 atom-1 atom-4\" d=\"M 312.7,140.3 L 245.5,140.3\" style=\"fill:none;fill-rule:evenodd;stroke:#000000;stroke-width:2.0px;stroke-linecap:butt;stroke-linejoin:miter;stroke-opacity:1\"/>\n",
       "<path class=\"bond-3 atom-2 atom-3\" d=\"M 279.1,82.1 L 279.1,14.8\" style=\"fill:none;fill-rule:evenodd;stroke:#000000;stroke-width:2.0px;stroke-linecap:butt;stroke-linejoin:miter;stroke-opacity:1\"/>\n",
       "<path class=\"bond-4 atom-2 atom-4\" d=\"M 279.1,82.1 L 245.5,140.3\" style=\"fill:none;fill-rule:evenodd;stroke:#000000;stroke-width:2.0px;stroke-linecap:butt;stroke-linejoin:miter;stroke-opacity:1\"/>\n",
       "<path class=\"bond-5 atom-4 atom-5\" d=\"M 245.5,140.3 L 187.3,173.9\" style=\"fill:none;fill-rule:evenodd;stroke:#000000;stroke-width:2.0px;stroke-linecap:butt;stroke-linejoin:miter;stroke-opacity:1\"/>\n",
       "<path class=\"bond-5 atom-4 atom-5\" d=\"M 238.1,132.9 L 187.3,162.3\" style=\"fill:none;fill-rule:evenodd;stroke:#000000;stroke-width:2.0px;stroke-linecap:butt;stroke-linejoin:miter;stroke-opacity:1\"/>\n",
       "<path class=\"bond-6 atom-5 atom-6\" d=\"M 187.3,173.9 L 129.0,140.3\" style=\"fill:none;fill-rule:evenodd;stroke:#000000;stroke-width:2.0px;stroke-linecap:butt;stroke-linejoin:miter;stroke-opacity:1\"/>\n",
       "<path d=\"M 190.2,172.2 L 187.3,173.9 L 184.3,172.2\" style=\"fill:none;stroke:#000000;stroke-width:2.0px;stroke-linecap:butt;stroke-linejoin:miter;stroke-opacity:1;\"/>\n",
       "<path class=\"note\" d=\"M 365.4 188.6 Q 363.6 188.6, 362.8 187.3 Q 361.9 186.0, 361.9 183.7 Q 361.9 181.4, 362.8 180.1 Q 363.6 178.8, 365.4 178.8 Q 367.1 178.8, 368.0 180.1 Q 368.9 181.4, 368.9 183.7 Q 368.9 186.0, 368.0 187.3 Q 367.1 188.6, 365.4 188.6 M 365.4 187.5 Q 366.4 187.5, 367.0 186.5 Q 367.5 185.6, 367.5 183.7 Q 367.5 181.8, 367.0 180.8 Q 366.4 179.9, 365.4 179.9 Q 364.4 179.9, 363.8 180.8 Q 363.2 181.8, 363.2 183.7 Q 363.2 185.6, 363.8 186.5 Q 364.4 187.5, 365.4 187.5 \" fill=\"#000000\"/>\n",
       "<path class=\"note\" d=\"M 318.3 136.1 L 320.4 136.1 L 320.4 129.0 L 318.1 129.7 L 317.8 128.9 L 320.7 127.6 L 321.7 127.7 L 321.7 136.1 L 323.5 136.1 L 323.5 137.2 L 318.3 137.2 L 318.3 136.1 \" fill=\"#000000\"/>\n",
       "<path class=\"note\" d=\"M 286.8 76.3 Q 287.1 75.4, 287.9 74.9 Q 288.8 74.3, 289.9 74.3 Q 291.4 74.3, 292.2 75.1 Q 293.0 75.9, 293.0 77.3 Q 293.0 78.7, 291.9 80.0 Q 290.9 81.3, 288.8 82.9 L 293.2 82.9 L 293.2 84.0 L 286.7 84.0 L 286.7 83.1 Q 288.5 81.8, 289.6 80.9 Q 290.6 79.9, 291.1 79.1 Q 291.6 78.2, 291.6 77.4 Q 291.6 76.4, 291.2 75.9 Q 290.7 75.4, 289.9 75.4 Q 289.2 75.4, 288.7 75.7 Q 288.1 76.0, 287.8 76.7 L 286.8 76.3 \" fill=\"#000000\"/>\n",
       "<path class=\"note\" d=\"M 291.7 14.6 Q 292.6 14.9, 293.1 15.5 Q 293.5 16.1, 293.5 17.0 Q 293.5 17.8, 293.1 18.5 Q 292.7 19.1, 292.0 19.4 Q 291.2 19.8, 290.3 19.8 Q 289.3 19.8, 288.5 19.4 Q 287.7 19.1, 287.1 18.3 L 287.9 17.5 Q 288.5 18.2, 289.0 18.4 Q 289.5 18.7, 290.3 18.7 Q 291.1 18.7, 291.7 18.2 Q 292.2 17.8, 292.2 17.0 Q 292.2 16.0, 291.6 15.6 Q 291.1 15.2, 289.9 15.2 L 289.2 15.2 L 289.2 14.2 L 289.8 14.2 Q 290.9 14.2, 291.4 13.7 Q 292.0 13.3, 292.0 12.4 Q 292.0 11.8, 291.5 11.5 Q 291.1 11.1, 290.3 11.1 Q 289.5 11.1, 289.0 11.4 Q 288.5 11.6, 288.1 12.4 L 287.2 11.9 Q 287.5 11.1, 288.3 10.5 Q 289.2 10.0, 290.3 10.0 Q 291.7 10.0, 292.5 10.7 Q 293.3 11.3, 293.3 12.4 Q 293.3 13.2, 292.9 13.8 Q 292.5 14.3, 291.7 14.6 \" fill=\"#000000\"/>\n",
       "<path class=\"note\" d=\"M 253.6 151.5 L 254.8 151.5 L 254.8 152.6 L 253.6 152.6 L 253.6 154.8 L 252.4 154.8 L 252.4 152.6 L 247.4 152.6 L 247.4 151.7 L 251.6 145.2 L 253.6 145.2 L 253.6 151.5 M 249.0 151.5 L 252.4 151.5 L 252.4 146.1 L 249.0 151.5 \" fill=\"#000000\"/>\n",
       "<path class=\"note\" d=\"M 187.5 183.9 Q 188.3 183.9, 189.0 184.3 Q 189.7 184.6, 190.1 185.3 Q 190.5 186.0, 190.5 186.9 Q 190.5 187.9, 190.0 188.6 Q 189.5 189.3, 188.7 189.6 Q 188.0 190.0, 187.1 190.0 Q 186.2 190.0, 185.4 189.7 Q 184.6 189.4, 184.0 188.7 L 184.8 187.9 Q 185.3 188.4, 185.9 188.7 Q 186.5 188.9, 187.1 188.9 Q 188.0 188.9, 188.5 188.4 Q 189.1 187.9, 189.1 186.9 Q 189.1 185.9, 188.5 185.4 Q 188.0 184.9, 187.0 184.9 Q 186.2 184.9, 185.3 185.3 L 184.5 185.0 L 185.0 180.4 L 189.9 180.4 L 189.8 181.4 L 186.1 181.4 L 185.8 184.3 Q 186.7 183.9, 187.5 183.9 \" fill=\"#000000\"/>\n",
       "<path class=\"note\" d=\"M 135.0 129.5 Q 135.9 129.5, 136.5 129.8 Q 137.2 130.2, 137.6 130.8 Q 137.9 131.5, 137.9 132.3 Q 137.9 133.3, 137.5 134.0 Q 137.1 134.7, 136.4 135.1 Q 135.7 135.5, 134.7 135.5 Q 133.0 135.5, 132.2 134.4 Q 131.3 133.2, 131.3 130.9 Q 131.3 128.4, 132.4 127.1 Q 133.4 125.8, 135.5 125.8 Q 136.1 125.8, 136.6 125.9 Q 137.1 126.0, 137.5 126.3 L 137.0 127.2 Q 136.3 126.9, 135.5 126.9 Q 134.1 126.9, 133.4 127.7 Q 132.8 128.6, 132.7 130.4 Q 133.2 129.9, 133.8 129.7 Q 134.4 129.5, 135.0 129.5 M 134.7 134.4 Q 135.2 134.4, 135.7 134.1 Q 136.1 133.9, 136.3 133.4 Q 136.6 132.9, 136.6 132.4 Q 136.6 131.5, 136.1 131.0 Q 135.6 130.5, 134.8 130.5 Q 134.2 130.5, 133.6 130.8 Q 133.1 131.0, 132.7 131.4 Q 132.7 133.0, 133.2 133.7 Q 133.7 134.4, 134.7 134.4 \" fill=\"#000000\"/>\n",
       "</svg>"
      ],
      "text/plain": [
       "<IPython.core.display.SVG object>"
      ]
     },
     "metadata": {},
     "output_type": "display_data"
    },
    {
     "data": {
      "image/svg+xml": [
       "<svg xmlns=\"http://www.w3.org/2000/svg\" xmlns:rdkit=\"http://www.rdkit.org/xml\" xmlns:xlink=\"http://www.w3.org/1999/xlink\" version=\"1.1\" baseProfile=\"full\" xml:space=\"preserve\" width=\"500px\" height=\"200px\" viewBox=\"0 0 500 200\">\n",
       "<!-- END OF HEADER -->\n",
       "<rect style=\"opacity:1.0;fill:#FFFFFF;stroke:none\" width=\"500.0\" height=\"200.0\" x=\"0.0\" y=\"0.0\"> </rect>\n",
       "<path class=\"bond-0 atom-0 atom-1\" d=\"M 371.0,173.9 L 312.7,140.3\" style=\"fill:none;fill-rule:evenodd;stroke:#000000;stroke-width:2.0px;stroke-linecap:butt;stroke-linejoin:miter;stroke-opacity:1\"/>\n",
       "<path class=\"bond-1 atom-1 atom-2\" d=\"M 312.7,140.3 L 279.1,82.1\" style=\"fill:none;fill-rule:evenodd;stroke:#000000;stroke-width:2.0px;stroke-linecap:butt;stroke-linejoin:miter;stroke-opacity:1\"/>\n",
       "<path class=\"bond-2 atom-1 atom-4\" d=\"M 312.7,140.3 L 245.5,140.3\" style=\"fill:none;fill-rule:evenodd;stroke:#000000;stroke-width:2.0px;stroke-linecap:butt;stroke-linejoin:miter;stroke-opacity:1\"/>\n",
       "<path class=\"bond-3 atom-2 atom-3\" d=\"M 279.1,82.1 L 279.1,14.8\" style=\"fill:none;fill-rule:evenodd;stroke:#000000;stroke-width:2.0px;stroke-linecap:butt;stroke-linejoin:miter;stroke-opacity:1\"/>\n",
       "<path class=\"bond-4 atom-2 atom-4\" d=\"M 279.1,82.1 L 245.5,140.3\" style=\"fill:none;fill-rule:evenodd;stroke:#000000;stroke-width:2.0px;stroke-linecap:butt;stroke-linejoin:miter;stroke-opacity:1\"/>\n",
       "<path class=\"bond-5 atom-4 atom-5\" d=\"M 245.5,140.3 L 187.3,173.9\" style=\"fill:none;fill-rule:evenodd;stroke:#000000;stroke-width:2.0px;stroke-linecap:butt;stroke-linejoin:miter;stroke-opacity:1\"/>\n",
       "<path class=\"bond-5 atom-4 atom-5\" d=\"M 238.1,132.9 L 187.3,162.3\" style=\"fill:none;fill-rule:evenodd;stroke:#000000;stroke-width:2.0px;stroke-linecap:butt;stroke-linejoin:miter;stroke-opacity:1\"/>\n",
       "<path class=\"bond-6 atom-5 atom-6\" d=\"M 187.3,173.9 L 129.0,140.3\" style=\"fill:none;fill-rule:evenodd;stroke:#000000;stroke-width:2.0px;stroke-linecap:butt;stroke-linejoin:miter;stroke-opacity:1\"/>\n",
       "<path d=\"M 190.2,172.2 L 187.3,173.9 L 184.3,172.2\" style=\"fill:none;stroke:#000000;stroke-width:2.0px;stroke-linecap:butt;stroke-linejoin:miter;stroke-opacity:1;\"/>\n",
       "<path class=\"note\" d=\"M 365.4 188.6 Q 363.6 188.6, 362.8 187.3 Q 361.9 186.0, 361.9 183.7 Q 361.9 181.4, 362.8 180.1 Q 363.6 178.8, 365.4 178.8 Q 367.1 178.8, 368.0 180.1 Q 368.9 181.4, 368.9 183.7 Q 368.9 186.0, 368.0 187.3 Q 367.1 188.6, 365.4 188.6 M 365.4 187.5 Q 366.4 187.5, 367.0 186.5 Q 367.5 185.6, 367.5 183.7 Q 367.5 181.8, 367.0 180.8 Q 366.4 179.9, 365.4 179.9 Q 364.4 179.9, 363.8 180.8 Q 363.2 181.8, 363.2 183.7 Q 363.2 185.6, 363.8 186.5 Q 364.4 187.5, 365.4 187.5 \" fill=\"#000000\"/>\n",
       "<path class=\"note\" d=\"M 318.3 136.1 L 320.4 136.1 L 320.4 129.0 L 318.1 129.7 L 317.8 128.9 L 320.7 127.6 L 321.7 127.7 L 321.7 136.1 L 323.5 136.1 L 323.5 137.2 L 318.3 137.2 L 318.3 136.1 \" fill=\"#000000\"/>\n",
       "<path class=\"note\" d=\"M 286.8 76.3 Q 287.1 75.4, 287.9 74.9 Q 288.8 74.3, 289.9 74.3 Q 291.4 74.3, 292.2 75.1 Q 293.0 75.9, 293.0 77.3 Q 293.0 78.7, 291.9 80.0 Q 290.9 81.3, 288.8 82.9 L 293.2 82.9 L 293.2 84.0 L 286.7 84.0 L 286.7 83.1 Q 288.5 81.8, 289.6 80.9 Q 290.6 79.9, 291.1 79.1 Q 291.6 78.2, 291.6 77.4 Q 291.6 76.4, 291.2 75.9 Q 290.7 75.4, 289.9 75.4 Q 289.2 75.4, 288.7 75.7 Q 288.1 76.0, 287.8 76.7 L 286.8 76.3 \" fill=\"#000000\"/>\n",
       "<path class=\"note\" d=\"M 291.7 14.6 Q 292.6 14.9, 293.1 15.5 Q 293.5 16.1, 293.5 17.0 Q 293.5 17.8, 293.1 18.5 Q 292.7 19.1, 292.0 19.4 Q 291.2 19.8, 290.3 19.8 Q 289.3 19.8, 288.5 19.4 Q 287.7 19.1, 287.1 18.3 L 287.9 17.5 Q 288.5 18.2, 289.0 18.4 Q 289.5 18.7, 290.3 18.7 Q 291.1 18.7, 291.7 18.2 Q 292.2 17.8, 292.2 17.0 Q 292.2 16.0, 291.6 15.6 Q 291.1 15.2, 289.9 15.2 L 289.2 15.2 L 289.2 14.2 L 289.8 14.2 Q 290.9 14.2, 291.4 13.7 Q 292.0 13.3, 292.0 12.4 Q 292.0 11.8, 291.5 11.5 Q 291.1 11.1, 290.3 11.1 Q 289.5 11.1, 289.0 11.4 Q 288.5 11.6, 288.1 12.4 L 287.2 11.9 Q 287.5 11.1, 288.3 10.5 Q 289.2 10.0, 290.3 10.0 Q 291.7 10.0, 292.5 10.7 Q 293.3 11.3, 293.3 12.4 Q 293.3 13.2, 292.9 13.8 Q 292.5 14.3, 291.7 14.6 \" fill=\"#000000\"/>\n",
       "<path class=\"note\" d=\"M 253.6 151.5 L 254.8 151.5 L 254.8 152.6 L 253.6 152.6 L 253.6 154.8 L 252.4 154.8 L 252.4 152.6 L 247.4 152.6 L 247.4 151.7 L 251.6 145.2 L 253.6 145.2 L 253.6 151.5 M 249.0 151.5 L 252.4 151.5 L 252.4 146.1 L 249.0 151.5 \" fill=\"#000000\"/>\n",
       "<path class=\"note\" d=\"M 187.5 183.9 Q 188.3 183.9, 189.0 184.3 Q 189.7 184.6, 190.1 185.3 Q 190.5 186.0, 190.5 186.9 Q 190.5 187.9, 190.0 188.6 Q 189.5 189.3, 188.7 189.6 Q 188.0 190.0, 187.1 190.0 Q 186.2 190.0, 185.4 189.7 Q 184.6 189.4, 184.0 188.7 L 184.8 187.9 Q 185.3 188.4, 185.9 188.7 Q 186.5 188.9, 187.1 188.9 Q 188.0 188.9, 188.5 188.4 Q 189.1 187.9, 189.1 186.9 Q 189.1 185.9, 188.5 185.4 Q 188.0 184.9, 187.0 184.9 Q 186.2 184.9, 185.3 185.3 L 184.5 185.0 L 185.0 180.4 L 189.9 180.4 L 189.8 181.4 L 186.1 181.4 L 185.8 184.3 Q 186.7 183.9, 187.5 183.9 \" fill=\"#000000\"/>\n",
       "<path class=\"note\" d=\"M 135.0 129.5 Q 135.9 129.5, 136.5 129.8 Q 137.2 130.2, 137.6 130.8 Q 137.9 131.5, 137.9 132.3 Q 137.9 133.3, 137.5 134.0 Q 137.1 134.7, 136.4 135.1 Q 135.7 135.5, 134.7 135.5 Q 133.0 135.5, 132.2 134.4 Q 131.3 133.2, 131.3 130.9 Q 131.3 128.4, 132.4 127.1 Q 133.4 125.8, 135.5 125.8 Q 136.1 125.8, 136.6 125.9 Q 137.1 126.0, 137.5 126.3 L 137.0 127.2 Q 136.3 126.9, 135.5 126.9 Q 134.1 126.9, 133.4 127.7 Q 132.8 128.6, 132.7 130.4 Q 133.2 129.9, 133.8 129.7 Q 134.4 129.5, 135.0 129.5 M 134.7 134.4 Q 135.2 134.4, 135.7 134.1 Q 136.1 133.9, 136.3 133.4 Q 136.6 132.9, 136.6 132.4 Q 136.6 131.5, 136.1 131.0 Q 135.6 130.5, 134.8 130.5 Q 134.2 130.5, 133.6 130.8 Q 133.1 131.0, 132.7 131.4 Q 132.7 133.0, 133.2 133.7 Q 133.7 134.4, 134.7 134.4 \" fill=\"#000000\"/>\n",
       "</svg>"
      ],
      "text/plain": [
       "<IPython.core.display.SVG object>"
      ]
     },
     "metadata": {},
     "output_type": "display_data"
    }
   ],
   "source": [
    "mg1\n",
    "mg2"
   ]
  },
  {
   "cell_type": "markdown",
   "id": "f5a1cff7",
   "metadata": {},
   "source": [
    "## Compare stereochemistry ##"
   ]
  },
  {
   "cell_type": "code",
   "execution_count": 5,
   "id": "4bb173bc",
   "metadata": {},
   "outputs": [
    {
     "data": {
      "text/plain": [
       "False"
      ]
     },
     "execution_count": 5,
     "metadata": {},
     "output_type": "execute_result"
    }
   ],
   "source": [
    "smg1 = StereoMolGraph.from_rdmol(rdmol)\n",
    "smg2 = StereoMolGraph.from_rdmol(rdmol2)\n",
    "\n",
    "smg1 == smg2 # Comparpare with stereochemistry"
   ]
  },
  {
   "cell_type": "code",
   "execution_count": 6,
   "id": "79c9c18e",
   "metadata": {},
   "outputs": [
    {
     "data": {
      "image/svg+xml": [
       "<svg xmlns=\"http://www.w3.org/2000/svg\" xmlns:rdkit=\"http://www.rdkit.org/xml\" xmlns:xlink=\"http://www.w3.org/1999/xlink\" version=\"1.1\" baseProfile=\"full\" xml:space=\"preserve\" width=\"500px\" height=\"200px\" viewBox=\"0 0 500 200\">\n",
       "<!-- END OF HEADER -->\n",
       "<rect style=\"opacity:1.0;fill:#FFFFFF;stroke:none\" width=\"500.0\" height=\"200.0\" x=\"0.0\" y=\"0.0\"> </rect>\n",
       "<path class=\"bond-0 atom-1 atom-0\" d=\"M 309.3,141.8 L 309.1,142.3\" style=\"fill:none;fill-rule:evenodd;stroke:#000000;stroke-width:1.0px;stroke-linecap:butt;stroke-linejoin:miter;stroke-opacity:1\"/>\n",
       "<path class=\"bond-0 atom-1 atom-0\" d=\"M 312.5,143.4 L 312.0,144.3\" style=\"fill:none;fill-rule:evenodd;stroke:#000000;stroke-width:1.0px;stroke-linecap:butt;stroke-linejoin:miter;stroke-opacity:1\"/>\n",
       "<path class=\"bond-0 atom-1 atom-0\" d=\"M 315.7,144.9 L 314.9,146.3\" style=\"fill:none;fill-rule:evenodd;stroke:#000000;stroke-width:1.0px;stroke-linecap:butt;stroke-linejoin:miter;stroke-opacity:1\"/>\n",
       "<path class=\"bond-0 atom-1 atom-0\" d=\"M 318.9,146.5 L 317.9,148.3\" style=\"fill:none;fill-rule:evenodd;stroke:#000000;stroke-width:1.0px;stroke-linecap:butt;stroke-linejoin:miter;stroke-opacity:1\"/>\n",
       "<path class=\"bond-0 atom-1 atom-0\" d=\"M 322.1,148.0 L 320.8,150.3\" style=\"fill:none;fill-rule:evenodd;stroke:#000000;stroke-width:1.0px;stroke-linecap:butt;stroke-linejoin:miter;stroke-opacity:1\"/>\n",
       "<path class=\"bond-0 atom-1 atom-0\" d=\"M 325.3,149.5 L 323.7,152.3\" style=\"fill:none;fill-rule:evenodd;stroke:#000000;stroke-width:1.0px;stroke-linecap:butt;stroke-linejoin:miter;stroke-opacity:1\"/>\n",
       "<path class=\"bond-0 atom-1 atom-0\" d=\"M 328.5,151.1 L 326.7,154.3\" style=\"fill:none;fill-rule:evenodd;stroke:#000000;stroke-width:1.0px;stroke-linecap:butt;stroke-linejoin:miter;stroke-opacity:1\"/>\n",
       "<path class=\"bond-0 atom-1 atom-0\" d=\"M 331.7,152.6 L 329.6,156.3\" style=\"fill:none;fill-rule:evenodd;stroke:#000000;stroke-width:1.0px;stroke-linecap:butt;stroke-linejoin:miter;stroke-opacity:1\"/>\n",
       "<path class=\"bond-0 atom-1 atom-0\" d=\"M 334.9,154.2 L 332.5,158.3\" style=\"fill:none;fill-rule:evenodd;stroke:#000000;stroke-width:1.0px;stroke-linecap:butt;stroke-linejoin:miter;stroke-opacity:1\"/>\n",
       "<path class=\"bond-0 atom-1 atom-0\" d=\"M 338.1,155.7 L 335.5,160.3\" style=\"fill:none;fill-rule:evenodd;stroke:#000000;stroke-width:1.0px;stroke-linecap:butt;stroke-linejoin:miter;stroke-opacity:1\"/>\n",
       "<path class=\"bond-0 atom-1 atom-0\" d=\"M 341.3,157.2 L 338.4,162.3\" style=\"fill:none;fill-rule:evenodd;stroke:#000000;stroke-width:1.0px;stroke-linecap:butt;stroke-linejoin:miter;stroke-opacity:1\"/>\n",
       "<path class=\"bond-0 atom-1 atom-0\" d=\"M 344.5,158.8 L 341.3,164.3\" style=\"fill:none;fill-rule:evenodd;stroke:#000000;stroke-width:1.0px;stroke-linecap:butt;stroke-linejoin:miter;stroke-opacity:1\"/>\n",
       "<path class=\"bond-0 atom-1 atom-0\" d=\"M 347.7,160.3 L 344.3,166.3\" style=\"fill:none;fill-rule:evenodd;stroke:#000000;stroke-width:1.0px;stroke-linecap:butt;stroke-linejoin:miter;stroke-opacity:1\"/>\n",
       "<path class=\"bond-0 atom-1 atom-0\" d=\"M 350.9,161.9 L 347.2,168.3\" style=\"fill:none;fill-rule:evenodd;stroke:#000000;stroke-width:1.0px;stroke-linecap:butt;stroke-linejoin:miter;stroke-opacity:1\"/>\n",
       "<path class=\"bond-0 atom-1 atom-0\" d=\"M 354.1,163.4 L 350.1,170.3\" style=\"fill:none;fill-rule:evenodd;stroke:#000000;stroke-width:1.0px;stroke-linecap:butt;stroke-linejoin:miter;stroke-opacity:1\"/>\n",
       "<path class=\"bond-0 atom-1 atom-0\" d=\"M 357.3,164.9 L 353.1,172.3\" style=\"fill:none;fill-rule:evenodd;stroke:#000000;stroke-width:1.0px;stroke-linecap:butt;stroke-linejoin:miter;stroke-opacity:1\"/>\n",
       "<path class=\"bond-0 atom-1 atom-0\" d=\"M 360.5,166.5 L 356.0,174.3\" style=\"fill:none;fill-rule:evenodd;stroke:#000000;stroke-width:1.0px;stroke-linecap:butt;stroke-linejoin:miter;stroke-opacity:1\"/>\n",
       "<path class=\"bond-0 atom-1 atom-0\" d=\"M 363.7,168.0 L 358.9,176.3\" style=\"fill:none;fill-rule:evenodd;stroke:#000000;stroke-width:1.0px;stroke-linecap:butt;stroke-linejoin:miter;stroke-opacity:1\"/>\n",
       "<path class=\"bond-0 atom-1 atom-0\" d=\"M 366.9,169.6 L 361.9,178.3\" style=\"fill:none;fill-rule:evenodd;stroke:#000000;stroke-width:1.0px;stroke-linecap:butt;stroke-linejoin:miter;stroke-opacity:1\"/>\n",
       "<path class=\"bond-1 atom-1 atom-2\" d=\"M 306.1,140.3 L 272.5,82.1\" style=\"fill:none;fill-rule:evenodd;stroke:#000000;stroke-width:2.0px;stroke-linecap:butt;stroke-linejoin:miter;stroke-opacity:1\"/>\n",
       "<path class=\"bond-2 atom-1 atom-4\" d=\"M 306.1,140.3 L 238.9,140.3\" style=\"fill:none;fill-rule:evenodd;stroke:#000000;stroke-width:2.0px;stroke-linecap:butt;stroke-linejoin:miter;stroke-opacity:1\"/>\n",
       "<path class=\"bond-3 atom-2 atom-3\" d=\"M 272.3,78.5 L 272.8,78.5\" style=\"fill:none;fill-rule:evenodd;stroke:#000000;stroke-width:1.0px;stroke-linecap:butt;stroke-linejoin:miter;stroke-opacity:1\"/>\n",
       "<path class=\"bond-3 atom-2 atom-3\" d=\"M 272.0,75.0 L 273.1,75.0\" style=\"fill:none;fill-rule:evenodd;stroke:#000000;stroke-width:1.0px;stroke-linecap:butt;stroke-linejoin:miter;stroke-opacity:1\"/>\n",
       "<path class=\"bond-3 atom-2 atom-3\" d=\"M 271.7,71.4 L 273.3,71.4\" style=\"fill:none;fill-rule:evenodd;stroke:#000000;stroke-width:1.0px;stroke-linecap:butt;stroke-linejoin:miter;stroke-opacity:1\"/>\n",
       "<path class=\"bond-3 atom-2 atom-3\" d=\"M 271.5,67.9 L 273.6,67.9\" style=\"fill:none;fill-rule:evenodd;stroke:#000000;stroke-width:1.0px;stroke-linecap:butt;stroke-linejoin:miter;stroke-opacity:1\"/>\n",
       "<path class=\"bond-3 atom-2 atom-3\" d=\"M 271.2,64.4 L 273.9,64.4\" style=\"fill:none;fill-rule:evenodd;stroke:#000000;stroke-width:1.0px;stroke-linecap:butt;stroke-linejoin:miter;stroke-opacity:1\"/>\n",
       "<path class=\"bond-3 atom-2 atom-3\" d=\"M 270.9,60.8 L 274.1,60.8\" style=\"fill:none;fill-rule:evenodd;stroke:#000000;stroke-width:1.0px;stroke-linecap:butt;stroke-linejoin:miter;stroke-opacity:1\"/>\n",
       "<path class=\"bond-3 atom-2 atom-3\" d=\"M 270.7,57.3 L 274.4,57.3\" style=\"fill:none;fill-rule:evenodd;stroke:#000000;stroke-width:1.0px;stroke-linecap:butt;stroke-linejoin:miter;stroke-opacity:1\"/>\n",
       "<path class=\"bond-3 atom-2 atom-3\" d=\"M 270.4,53.7 L 274.6,53.7\" style=\"fill:none;fill-rule:evenodd;stroke:#000000;stroke-width:1.0px;stroke-linecap:butt;stroke-linejoin:miter;stroke-opacity:1\"/>\n",
       "<path class=\"bond-3 atom-2 atom-3\" d=\"M 270.1,50.2 L 274.9,50.2\" style=\"fill:none;fill-rule:evenodd;stroke:#000000;stroke-width:1.0px;stroke-linecap:butt;stroke-linejoin:miter;stroke-opacity:1\"/>\n",
       "<path class=\"bond-3 atom-2 atom-3\" d=\"M 269.9,46.7 L 275.2,46.7\" style=\"fill:none;fill-rule:evenodd;stroke:#000000;stroke-width:1.0px;stroke-linecap:butt;stroke-linejoin:miter;stroke-opacity:1\"/>\n",
       "<path class=\"bond-3 atom-2 atom-3\" d=\"M 269.6,43.1 L 275.4,43.1\" style=\"fill:none;fill-rule:evenodd;stroke:#000000;stroke-width:1.0px;stroke-linecap:butt;stroke-linejoin:miter;stroke-opacity:1\"/>\n",
       "<path class=\"bond-3 atom-2 atom-3\" d=\"M 269.3,39.6 L 275.7,39.6\" style=\"fill:none;fill-rule:evenodd;stroke:#000000;stroke-width:1.0px;stroke-linecap:butt;stroke-linejoin:miter;stroke-opacity:1\"/>\n",
       "<path class=\"bond-3 atom-2 atom-3\" d=\"M 269.1,36.1 L 276.0,36.1\" style=\"fill:none;fill-rule:evenodd;stroke:#000000;stroke-width:1.0px;stroke-linecap:butt;stroke-linejoin:miter;stroke-opacity:1\"/>\n",
       "<path class=\"bond-3 atom-2 atom-3\" d=\"M 268.8,32.5 L 276.2,32.5\" style=\"fill:none;fill-rule:evenodd;stroke:#000000;stroke-width:1.0px;stroke-linecap:butt;stroke-linejoin:miter;stroke-opacity:1\"/>\n",
       "<path class=\"bond-3 atom-2 atom-3\" d=\"M 268.5,29.0 L 276.5,29.0\" style=\"fill:none;fill-rule:evenodd;stroke:#000000;stroke-width:1.0px;stroke-linecap:butt;stroke-linejoin:miter;stroke-opacity:1\"/>\n",
       "<path class=\"bond-3 atom-2 atom-3\" d=\"M 268.3,25.4 L 276.8,25.4\" style=\"fill:none;fill-rule:evenodd;stroke:#000000;stroke-width:1.0px;stroke-linecap:butt;stroke-linejoin:miter;stroke-opacity:1\"/>\n",
       "<path class=\"bond-3 atom-2 atom-3\" d=\"M 268.0,21.9 L 277.0,21.9\" style=\"fill:none;fill-rule:evenodd;stroke:#000000;stroke-width:1.0px;stroke-linecap:butt;stroke-linejoin:miter;stroke-opacity:1\"/>\n",
       "<path class=\"bond-3 atom-2 atom-3\" d=\"M 267.7,18.4 L 277.3,18.4\" style=\"fill:none;fill-rule:evenodd;stroke:#000000;stroke-width:1.0px;stroke-linecap:butt;stroke-linejoin:miter;stroke-opacity:1\"/>\n",
       "<path class=\"bond-3 atom-2 atom-3\" d=\"M 267.5,14.8 L 277.6,14.8\" style=\"fill:none;fill-rule:evenodd;stroke:#000000;stroke-width:1.0px;stroke-linecap:butt;stroke-linejoin:miter;stroke-opacity:1\"/>\n",
       "<path class=\"bond-4 atom-2 atom-4\" d=\"M 272.5,82.1 L 238.9,140.3\" style=\"fill:none;fill-rule:evenodd;stroke:#000000;stroke-width:2.0px;stroke-linecap:butt;stroke-linejoin:miter;stroke-opacity:1\"/>\n",
       "<path class=\"bond-5 atom-4 atom-5\" d=\"M 238.9,140.3 L 180.7,173.9\" style=\"fill:none;fill-rule:evenodd;stroke:#000000;stroke-width:2.0px;stroke-linecap:butt;stroke-linejoin:miter;stroke-opacity:1\"/>\n",
       "<path class=\"bond-5 atom-4 atom-5\" d=\"M 231.5,132.9 L 180.7,162.3\" style=\"fill:none;fill-rule:evenodd;stroke:#000000;stroke-width:2.0px;stroke-linecap:butt;stroke-linejoin:miter;stroke-opacity:1\"/>\n",
       "<path class=\"bond-6 atom-5 atom-6\" d=\"M 180.7,173.9 L 122.4,140.3\" style=\"fill:none;fill-rule:evenodd;stroke:#000000;stroke-width:2.0px;stroke-linecap:butt;stroke-linejoin:miter;stroke-opacity:1\"/>\n",
       "<path d=\"M 304.5,137.4 L 306.1,140.3 L 302.8,140.3\" style=\"fill:none;stroke:#000000;stroke-width:2.0px;stroke-linecap:butt;stroke-linejoin:miter;stroke-opacity:1;\"/>\n",
       "<path d=\"M 274.2,85.0 L 272.5,82.1 L 270.8,85.0\" style=\"fill:none;stroke:#000000;stroke-width:2.0px;stroke-linecap:butt;stroke-linejoin:miter;stroke-opacity:1;\"/>\n",
       "<path d=\"M 183.6,172.2 L 180.7,173.9 L 177.8,172.2\" style=\"fill:none;stroke:#000000;stroke-width:2.0px;stroke-linecap:butt;stroke-linejoin:miter;stroke-opacity:1;\"/>\n",
       "<path class=\"note\" d=\"M 374.1 173.2 Q 372.3 173.2, 371.5 172.0 Q 370.6 170.7, 370.6 168.4 Q 370.6 166.1, 371.5 164.8 Q 372.3 163.5, 374.1 163.5 Q 375.9 163.5, 376.7 164.8 Q 377.6 166.1, 377.6 168.4 Q 377.6 170.7, 376.7 172.0 Q 375.8 173.2, 374.1 173.2 M 374.1 172.2 Q 375.1 172.2, 375.7 171.2 Q 376.2 170.2, 376.2 168.4 Q 376.2 166.5, 375.7 165.5 Q 375.1 164.6, 374.1 164.6 Q 373.1 164.6, 372.5 165.5 Q 372.0 166.5, 372.0 168.4 Q 372.0 170.2, 372.5 171.2 Q 373.1 172.2, 374.1 172.2 \" fill=\"#000000\"/>\n",
       "<path class=\"note\" d=\"M 311.7 136.1 L 313.8 136.1 L 313.8 129.0 L 311.5 129.7 L 311.2 128.9 L 314.1 127.6 L 315.1 127.7 L 315.1 136.1 L 316.9 136.1 L 316.9 137.2 L 311.7 137.2 L 311.7 136.1 \" fill=\"#000000\"/>\n",
       "<path class=\"note\" d=\"M 280.2 76.3 Q 280.5 75.4, 281.4 74.9 Q 282.2 74.3, 283.3 74.3 Q 284.8 74.3, 285.6 75.1 Q 286.4 75.9, 286.4 77.3 Q 286.4 78.7, 285.3 80.0 Q 284.3 81.3, 282.2 82.9 L 286.6 82.9 L 286.6 84.0 L 280.1 84.0 L 280.1 83.1 Q 281.9 81.8, 283.0 80.9 Q 284.0 79.9, 284.5 79.1 Q 285.1 78.2, 285.1 77.4 Q 285.1 76.4, 284.6 75.9 Q 284.1 75.4, 283.3 75.4 Q 282.6 75.4, 282.1 75.7 Q 281.6 76.0, 281.2 76.7 L 280.2 76.3 \" fill=\"#000000\"/>\n",
       "<path class=\"note\" d=\"M 285.1 14.6 Q 286.0 14.9, 286.5 15.5 Q 286.9 16.1, 286.9 17.0 Q 286.9 17.8, 286.5 18.5 Q 286.1 19.1, 285.4 19.4 Q 284.6 19.8, 283.7 19.8 Q 282.7 19.8, 281.9 19.4 Q 281.1 19.1, 280.5 18.3 L 281.3 17.5 Q 281.9 18.2, 282.4 18.4 Q 282.9 18.7, 283.7 18.7 Q 284.5 18.7, 285.1 18.2 Q 285.6 17.8, 285.6 17.0 Q 285.6 16.0, 285.0 15.6 Q 284.5 15.2, 283.3 15.2 L 282.6 15.2 L 282.6 14.2 L 283.2 14.2 Q 284.3 14.2, 284.8 13.7 Q 285.4 13.3, 285.4 12.4 Q 285.4 11.8, 284.9 11.5 Q 284.5 11.1, 283.7 11.1 Q 282.9 11.1, 282.4 11.4 Q 281.9 11.6, 281.5 12.4 L 280.6 11.9 Q 280.9 11.1, 281.8 10.5 Q 282.6 10.0, 283.7 10.0 Q 285.1 10.0, 285.9 10.7 Q 286.7 11.3, 286.7 12.4 Q 286.7 13.2, 286.3 13.8 Q 285.9 14.3, 285.1 14.6 \" fill=\"#000000\"/>\n",
       "<path class=\"note\" d=\"M 247.0 151.5 L 248.2 151.5 L 248.2 152.6 L 247.0 152.6 L 247.0 154.8 L 245.8 154.8 L 245.8 152.6 L 240.8 152.6 L 240.8 151.7 L 245.0 145.2 L 247.0 145.2 L 247.0 151.5 M 242.4 151.5 L 245.8 151.5 L 245.8 146.1 L 242.4 151.5 \" fill=\"#000000\"/>\n",
       "<path class=\"note\" d=\"M 180.9 183.9 Q 181.7 183.9, 182.4 184.3 Q 183.1 184.6, 183.5 185.3 Q 183.9 186.0, 183.9 186.9 Q 183.9 187.9, 183.4 188.6 Q 182.9 189.3, 182.1 189.6 Q 181.4 190.0, 180.5 190.0 Q 179.6 190.0, 178.8 189.7 Q 178.0 189.4, 177.4 188.7 L 178.2 187.9 Q 178.7 188.4, 179.3 188.7 Q 179.9 188.9, 180.5 188.9 Q 181.4 188.9, 181.9 188.4 Q 182.5 187.9, 182.5 186.9 Q 182.5 185.9, 181.9 185.4 Q 181.4 184.9, 180.4 184.9 Q 179.6 184.9, 178.7 185.3 L 177.9 185.0 L 178.4 180.4 L 183.3 180.4 L 183.2 181.4 L 179.5 181.4 L 179.2 184.3 Q 180.1 183.9, 180.9 183.9 \" fill=\"#000000\"/>\n",
       "<path class=\"note\" d=\"M 128.5 129.5 Q 129.3 129.5, 129.9 129.8 Q 130.6 130.2, 131.0 130.8 Q 131.3 131.5, 131.3 132.3 Q 131.3 133.3, 130.9 134.0 Q 130.5 134.7, 129.8 135.1 Q 129.1 135.5, 128.1 135.5 Q 126.4 135.5, 125.6 134.4 Q 124.7 133.2, 124.7 130.9 Q 124.7 128.4, 125.8 127.1 Q 126.8 125.8, 128.9 125.8 Q 129.5 125.8, 130.0 125.9 Q 130.5 126.0, 131.0 126.3 L 130.4 127.2 Q 129.7 126.9, 128.9 126.9 Q 127.5 126.9, 126.9 127.7 Q 126.2 128.6, 126.1 130.4 Q 126.6 129.9, 127.2 129.7 Q 127.8 129.5, 128.5 129.5 M 128.1 134.4 Q 128.7 134.4, 129.1 134.1 Q 129.5 133.9, 129.7 133.4 Q 130.0 132.9, 130.0 132.4 Q 130.0 131.5, 129.5 131.0 Q 129.0 130.5, 128.2 130.5 Q 127.6 130.5, 127.1 130.8 Q 126.5 131.0, 126.1 131.4 Q 126.1 133.0, 126.6 133.7 Q 127.1 134.4, 128.1 134.4 \" fill=\"#000000\"/>\n",
       "</svg>"
      ],
      "text/plain": [
       "<IPython.core.display.SVG object>"
      ]
     },
     "metadata": {},
     "output_type": "display_data"
    },
    {
     "data": {
      "image/svg+xml": [
       "<svg xmlns=\"http://www.w3.org/2000/svg\" xmlns:rdkit=\"http://www.rdkit.org/xml\" xmlns:xlink=\"http://www.w3.org/1999/xlink\" version=\"1.1\" baseProfile=\"full\" xml:space=\"preserve\" width=\"500px\" height=\"200px\" viewBox=\"0 0 500 200\">\n",
       "<!-- END OF HEADER -->\n",
       "<rect style=\"opacity:1.0;fill:#FFFFFF;stroke:none\" width=\"500.0\" height=\"200.0\" x=\"0.0\" y=\"0.0\"> </rect>\n",
       "<path class=\"bond-0 atom-1 atom-0\" d=\"M 306.1,140.3 L 366.9,169.6 L 361.9,178.3 Z\" style=\"fill:#000000;fill-rule:evenodd;fill-opacity:1;stroke:#000000;stroke-width:0.5px;stroke-linecap:butt;stroke-linejoin:miter;stroke-opacity:1;\"/>\n",
       "<path class=\"bond-1 atom-1 atom-2\" d=\"M 306.1,140.3 L 272.5,82.1\" style=\"fill:none;fill-rule:evenodd;stroke:#000000;stroke-width:2.0px;stroke-linecap:butt;stroke-linejoin:miter;stroke-opacity:1\"/>\n",
       "<path class=\"bond-2 atom-1 atom-4\" d=\"M 306.1,140.3 L 238.9,140.3\" style=\"fill:none;fill-rule:evenodd;stroke:#000000;stroke-width:2.0px;stroke-linecap:butt;stroke-linejoin:miter;stroke-opacity:1\"/>\n",
       "<path class=\"bond-3 atom-2 atom-3\" d=\"M 272.5,82.1 L 267.5,14.8 L 277.6,14.8 Z\" style=\"fill:#000000;fill-rule:evenodd;fill-opacity:1;stroke:#000000;stroke-width:0.5px;stroke-linecap:butt;stroke-linejoin:miter;stroke-opacity:1;\"/>\n",
       "<path class=\"bond-4 atom-2 atom-4\" d=\"M 272.5,82.1 L 238.9,140.3\" style=\"fill:none;fill-rule:evenodd;stroke:#000000;stroke-width:2.0px;stroke-linecap:butt;stroke-linejoin:miter;stroke-opacity:1\"/>\n",
       "<path class=\"bond-5 atom-4 atom-5\" d=\"M 238.9,140.3 L 180.7,173.9\" style=\"fill:none;fill-rule:evenodd;stroke:#000000;stroke-width:2.0px;stroke-linecap:butt;stroke-linejoin:miter;stroke-opacity:1\"/>\n",
       "<path class=\"bond-5 atom-4 atom-5\" d=\"M 231.5,132.9 L 180.7,162.3\" style=\"fill:none;fill-rule:evenodd;stroke:#000000;stroke-width:2.0px;stroke-linecap:butt;stroke-linejoin:miter;stroke-opacity:1\"/>\n",
       "<path class=\"bond-6 atom-5 atom-6\" d=\"M 180.7,173.9 L 122.4,140.3\" style=\"fill:none;fill-rule:evenodd;stroke:#000000;stroke-width:2.0px;stroke-linecap:butt;stroke-linejoin:miter;stroke-opacity:1\"/>\n",
       "<path d=\"M 304.5,137.4 L 306.1,140.3 L 302.8,140.3\" style=\"fill:none;stroke:#000000;stroke-width:2.0px;stroke-linecap:butt;stroke-linejoin:miter;stroke-opacity:1;\"/>\n",
       "<path d=\"M 274.2,85.0 L 272.5,82.1 L 270.8,85.0\" style=\"fill:none;stroke:#000000;stroke-width:2.0px;stroke-linecap:butt;stroke-linejoin:miter;stroke-opacity:1;\"/>\n",
       "<path d=\"M 183.6,172.2 L 180.7,173.9 L 177.8,172.2\" style=\"fill:none;stroke:#000000;stroke-width:2.0px;stroke-linecap:butt;stroke-linejoin:miter;stroke-opacity:1;\"/>\n",
       "<path class=\"note\" d=\"M 374.1 173.2 Q 372.3 173.2, 371.5 172.0 Q 370.6 170.7, 370.6 168.4 Q 370.6 166.1, 371.5 164.8 Q 372.3 163.5, 374.1 163.5 Q 375.9 163.5, 376.7 164.8 Q 377.6 166.1, 377.6 168.4 Q 377.6 170.7, 376.7 172.0 Q 375.8 173.2, 374.1 173.2 M 374.1 172.2 Q 375.1 172.2, 375.7 171.2 Q 376.2 170.2, 376.2 168.4 Q 376.2 166.5, 375.7 165.5 Q 375.1 164.6, 374.1 164.6 Q 373.1 164.6, 372.5 165.5 Q 372.0 166.5, 372.0 168.4 Q 372.0 170.2, 372.5 171.2 Q 373.1 172.2, 374.1 172.2 \" fill=\"#000000\"/>\n",
       "<path class=\"note\" d=\"M 311.7 136.1 L 313.8 136.1 L 313.8 129.0 L 311.5 129.7 L 311.2 128.9 L 314.1 127.6 L 315.1 127.7 L 315.1 136.1 L 316.9 136.1 L 316.9 137.2 L 311.7 137.2 L 311.7 136.1 \" fill=\"#000000\"/>\n",
       "<path class=\"note\" d=\"M 280.2 76.3 Q 280.5 75.4, 281.4 74.9 Q 282.2 74.3, 283.3 74.3 Q 284.8 74.3, 285.6 75.1 Q 286.4 75.9, 286.4 77.3 Q 286.4 78.7, 285.3 80.0 Q 284.3 81.3, 282.2 82.9 L 286.6 82.9 L 286.6 84.0 L 280.1 84.0 L 280.1 83.1 Q 281.9 81.8, 283.0 80.9 Q 284.0 79.9, 284.5 79.1 Q 285.1 78.2, 285.1 77.4 Q 285.1 76.4, 284.6 75.9 Q 284.1 75.4, 283.3 75.4 Q 282.6 75.4, 282.1 75.7 Q 281.6 76.0, 281.2 76.7 L 280.2 76.3 \" fill=\"#000000\"/>\n",
       "<path class=\"note\" d=\"M 285.1 14.6 Q 286.0 14.9, 286.5 15.5 Q 286.9 16.1, 286.9 17.0 Q 286.9 17.8, 286.5 18.5 Q 286.1 19.1, 285.4 19.4 Q 284.6 19.8, 283.7 19.8 Q 282.7 19.8, 281.9 19.4 Q 281.1 19.1, 280.5 18.3 L 281.3 17.5 Q 281.9 18.2, 282.4 18.4 Q 282.9 18.7, 283.7 18.7 Q 284.5 18.7, 285.1 18.2 Q 285.6 17.8, 285.6 17.0 Q 285.6 16.0, 285.0 15.6 Q 284.5 15.2, 283.3 15.2 L 282.6 15.2 L 282.6 14.2 L 283.2 14.2 Q 284.3 14.2, 284.8 13.7 Q 285.4 13.3, 285.4 12.4 Q 285.4 11.8, 284.9 11.5 Q 284.5 11.1, 283.7 11.1 Q 282.9 11.1, 282.4 11.4 Q 281.9 11.6, 281.5 12.4 L 280.6 11.9 Q 280.9 11.1, 281.8 10.5 Q 282.6 10.0, 283.7 10.0 Q 285.1 10.0, 285.9 10.7 Q 286.7 11.3, 286.7 12.4 Q 286.7 13.2, 286.3 13.8 Q 285.9 14.3, 285.1 14.6 \" fill=\"#000000\"/>\n",
       "<path class=\"note\" d=\"M 247.0 151.5 L 248.2 151.5 L 248.2 152.6 L 247.0 152.6 L 247.0 154.8 L 245.8 154.8 L 245.8 152.6 L 240.8 152.6 L 240.8 151.7 L 245.0 145.2 L 247.0 145.2 L 247.0 151.5 M 242.4 151.5 L 245.8 151.5 L 245.8 146.1 L 242.4 151.5 \" fill=\"#000000\"/>\n",
       "<path class=\"note\" d=\"M 180.9 183.9 Q 181.7 183.9, 182.4 184.3 Q 183.1 184.6, 183.5 185.3 Q 183.9 186.0, 183.9 186.9 Q 183.9 187.9, 183.4 188.6 Q 182.9 189.3, 182.1 189.6 Q 181.4 190.0, 180.5 190.0 Q 179.6 190.0, 178.8 189.7 Q 178.0 189.4, 177.4 188.7 L 178.2 187.9 Q 178.7 188.4, 179.3 188.7 Q 179.9 188.9, 180.5 188.9 Q 181.4 188.9, 181.9 188.4 Q 182.5 187.9, 182.5 186.9 Q 182.5 185.9, 181.9 185.4 Q 181.4 184.9, 180.4 184.9 Q 179.6 184.9, 178.7 185.3 L 177.9 185.0 L 178.4 180.4 L 183.3 180.4 L 183.2 181.4 L 179.5 181.4 L 179.2 184.3 Q 180.1 183.9, 180.9 183.9 \" fill=\"#000000\"/>\n",
       "<path class=\"note\" d=\"M 128.5 129.5 Q 129.3 129.5, 129.9 129.8 Q 130.6 130.2, 131.0 130.8 Q 131.3 131.5, 131.3 132.3 Q 131.3 133.3, 130.9 134.0 Q 130.5 134.7, 129.8 135.1 Q 129.1 135.5, 128.1 135.5 Q 126.4 135.5, 125.6 134.4 Q 124.7 133.2, 124.7 130.9 Q 124.7 128.4, 125.8 127.1 Q 126.8 125.8, 128.9 125.8 Q 129.5 125.8, 130.0 125.9 Q 130.5 126.0, 131.0 126.3 L 130.4 127.2 Q 129.7 126.9, 128.9 126.9 Q 127.5 126.9, 126.9 127.7 Q 126.2 128.6, 126.1 130.4 Q 126.6 129.9, 127.2 129.7 Q 127.8 129.5, 128.5 129.5 M 128.1 134.4 Q 128.7 134.4, 129.1 134.1 Q 129.5 133.9, 129.7 133.4 Q 130.0 132.9, 130.0 132.4 Q 130.0 131.5, 129.5 131.0 Q 129.0 130.5, 128.2 130.5 Q 127.6 130.5, 127.1 130.8 Q 126.5 131.0, 126.1 131.4 Q 126.1 133.0, 126.6 133.7 Q 127.1 134.4, 128.1 134.4 \" fill=\"#000000\"/>\n",
       "</svg>"
      ],
      "text/plain": [
       "<IPython.core.display.SVG object>"
      ]
     },
     "metadata": {},
     "output_type": "display_data"
    }
   ],
   "source": [
    "smg1\n",
    "smg2"
   ]
  },
  {
   "cell_type": "code",
   "execution_count": 7,
   "id": "8ba86cc7",
   "metadata": {},
   "outputs": [
    {
     "data": {
      "text/plain": [
       "True"
      ]
     },
     "execution_count": 7,
     "metadata": {},
     "output_type": "execute_result"
    }
   ],
   "source": [
    "smg1.enantiomer() == smg2"
   ]
  },
  {
   "cell_type": "markdown",
   "id": "51d6b3d2",
   "metadata": {},
   "source": [
    "## Molecules are Enantiomers! ##\n"
   ]
  }
 ],
 "metadata": {
  "kernelspec": {
   "display_name": "maxim",
   "language": "python",
   "name": "python3"
  },
  "language_info": {
   "codemirror_mode": {
    "name": "ipython",
    "version": 3
   },
   "file_extension": ".py",
   "mimetype": "text/x-python",
   "name": "python",
   "nbconvert_exporter": "python",
   "pygments_lexer": "ipython3",
   "version": "3.13.3"
  }
 },
 "nbformat": 4,
 "nbformat_minor": 5
}
