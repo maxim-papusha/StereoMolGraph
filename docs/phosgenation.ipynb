{
 "cells": [
  {
   "cell_type": "markdown",
   "id": "4ddb9100",
   "metadata": {},
   "source": [
    "# Stereochemistry of Phosgenation Transition States # "
   ]
  },
  {
   "cell_type": "code",
   "execution_count": null,
   "id": "64caf326",
   "metadata": {},
   "outputs": [],
   "source": [
    "import rdkit.Chem as Chem\n",
    "\n",
    "from stereomolgraph.graph import StereoCondensedReactionGraph, Tetrahedral\n",
    "from stereomolgraph.experimental import generate_fleeting_stereoisomers\n",
    "\n",
    "from IPython.core.interactiveshell import InteractiveShell\n",
    "InteractiveShell.ast_node_interactivity = \"all\"\n",
    "\n",
    "from stereomolgraph.ipython import View2D\n",
    "\n",
    "View2D.show_atom_numbers = True\n",
    "View2D.show_h = True\n",
    "View2D.generate_bond_orders = False\n",
    "View2D.height = 300\n",
    "View2D.width = 1000"
   ]
  },
  {
   "cell_type": "code",
   "execution_count": null,
   "id": "df28729c",
   "metadata": {},
   "outputs": [],
   "source": [
    "tmda_rdmol = Chem.AddHs(Chem.MolFromSmiles(\"NCCCCN\"))\n",
    "phosgene_rdmol = Chem.AddHs(Chem.MolFromSmiles(\"ClC(Cl)=O\"))\n",
    "\n",
    "scrg1 = StereoCondensedReactionGraph.from_rdmol(Chem.CombineMols(tmda_rdmol, phosgene_rdmol))\n",
    "scrg1"
   ]
  },
  {
   "cell_type": "code",
   "execution_count": null,
   "id": "0f1a232d",
   "metadata": {},
   "outputs": [],
   "source": [
    "scrg1.add_formed_bond(0, 19)\n",
    "scrg1.add_formed_bond(18, 7)\n",
    "scrg1.add_broken_bond(18, 19)\n",
    "scrg1.add_broken_bond(0, 7)\n",
    "scrg1"
   ]
  },
  {
   "cell_type": "code",
   "execution_count": null,
   "id": "ecc28da5",
   "metadata": {},
   "outputs": [],
   "source": [
    "n_neighbors = scrg1.bonded_to(0)\n",
    "c_neighbors = scrg1.bonded_to(19)\n",
    "scrg1.set_atom_stereo_change(0, fleeting=Tetrahedral(atoms=(0, *n_neighbors), parity=None))\n",
    "scrg1.set_atom_stereo_change(19, fleeting=Tetrahedral(atoms=(19, *c_neighbors), parity=None))"
   ]
  },
  {
   "cell_type": "code",
   "execution_count": null,
   "id": "9e9802a6",
   "metadata": {},
   "outputs": [],
   "source": [
    "isomers = generate_fleeting_stereoisomers(scrg1)\n",
    "len(isomers)\n",
    "for iso in isomers:\n",
    "    iso"
   ]
  },
  {
   "cell_type": "code",
   "execution_count": null,
   "id": "94dccac1",
   "metadata": {},
   "outputs": [],
   "source": [
    "scrg2 = StereoCondensedReactionGraph.from_rdmol(Chem.CombineMols(tmda_rdmol, phosgene_rdmol))\n",
    "scrg2"
   ]
  },
  {
   "cell_type": "code",
   "execution_count": null,
   "id": "1bb5cdd8",
   "metadata": {},
   "outputs": [],
   "source": [
    "scrg2.add_formed_bond(0, 19)\n",
    "scrg2.add_formed_bond(18, 17)\n",
    "scrg2.add_formed_bond(5, 7)\n",
    "\n",
    "scrg2.add_broken_bond(18, 19)\n",
    "scrg2.add_broken_bond(5, 17)\n",
    "scrg2.add_broken_bond(0, 7)\n",
    "scrg2"
   ]
  },
  {
   "cell_type": "code",
   "execution_count": null,
   "id": "49ce8ba5",
   "metadata": {},
   "outputs": [],
   "source": [
    "scrg2.set_atom_stereo_change(5, fleeting=Tetrahedral(atoms=(5, *scrg2.bonded_to(5))))\n",
    "scrg2.set_atom_stereo_change(0, fleeting=Tetrahedral(atoms=(0, *scrg2.bonded_to(0))))\n",
    "scrg2.set_atom_stereo_change(19, fleeting=Tetrahedral(atoms=(19, *scrg2.bonded_to(19))))"
   ]
  },
  {
   "cell_type": "code",
   "execution_count": null,
   "id": "414fae1b",
   "metadata": {},
   "outputs": [],
   "source": [
    "isomers2 = generate_fleeting_stereoisomers(scrg2, enantiomers=True)\n",
    "len(isomers2)\n",
    "\n",
    "for iso in isomers2:\n",
    "    iso"
   ]
  }
 ],
 "metadata": {
  "kernelspec": {
   "display_name": "maxim",
   "language": "python",
   "name": "python3"
  },
  "language_info": {
   "codemirror_mode": {
    "name": "ipython",
    "version": 3
   },
   "file_extension": ".py",
   "mimetype": "text/x-python",
   "name": "python",
   "nbconvert_exporter": "python",
   "pygments_lexer": "ipython3",
   "version": "3.13.3"
  }
 },
 "nbformat": 4,
 "nbformat_minor": 5
}
