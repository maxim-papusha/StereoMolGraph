{
 "cells": [
  {
   "cell_type": "code",
   "execution_count": null,
   "id": "94980b76",
   "metadata": {},
   "outputs": [],
   "source": [
    "from stereomolgraph import StereoMolGraph\n",
    "from stereomolgraph.stereodescriptors import Tetrahedral\n",
    "from stereomolgraph.ipython import View2D\n",
    "\n",
    "from IPython.core.interactiveshell import InteractiveShell\n",
    "InteractiveShell.ast_node_interactivity = \"all\"\n",
    "\n",
    "View2D.height = 300\n",
    "View2D.width = 300\n",
    "View2D.show_atom_numbers = True\n",
    "View2D.show_h = True\n",
    "View2D.generate_bond_orders = False"
   ]
  },
  {
   "cell_type": "code",
   "execution_count": null,
   "id": "8e749693",
   "metadata": {},
   "outputs": [],
   "source": [
    "smg = StereoMolGraph()\n",
    "\n",
    "smg.add_atom(1, \"C\")\n",
    "smg.add_atom(2, \"C\")\n",
    "\n",
    "smg.add_atom(3, \"F\")\n",
    "smg.add_atom(4, \"F\")\n",
    "smg.add_atom(5, \"I\")\n",
    "smg.add_atom(6, \"I\")\n",
    "smg.add_atom(7, \"H\")\n",
    "smg.add_atom(8, \"H\")\n",
    "\n",
    "smg.add_bond(1, 2)\n",
    "smg.add_bond(1, 3)\n",
    "smg.add_bond(2, 4)\n",
    "smg.add_bond(1, 5)\n",
    "smg.add_bond(2, 6)\n",
    "smg.add_bond(1, 7)\n",
    "smg.add_bond(2, 8)\n",
    "\n",
    "smg.set_atom_stereo(1, Tetrahedral(atoms=(1, 2, 3, 5, 7), parity=1))\n",
    "smg.set_atom_stereo(2, Tetrahedral(atoms=(2, 1, 4, 6, 8), parity=1))"
   ]
  },
  {
   "cell_type": "code",
   "execution_count": null,
   "id": "d1070a54",
   "metadata": {},
   "outputs": [],
   "source": [
    "smg"
   ]
  }
 ],
 "metadata": {
  "kernelspec": {
   "display_name": "MAXIM",
   "language": "python",
   "name": "python3"
  },
  "language_info": {
   "codemirror_mode": {
    "name": "ipython",
    "version": 3
   },
   "file_extension": ".py",
   "mimetype": "text/x-python",
   "name": "python",
   "nbconvert_exporter": "python",
   "pygments_lexer": "ipython3",
   "version": "3.13.3"
  }
 },
 "nbformat": 4,
 "nbformat_minor": 5
}
