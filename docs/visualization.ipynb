{
 "cells": [
  {
   "cell_type": "markdown",
   "id": "d9a4bf9b",
   "metadata": {},
   "source": [
    "# Visualization in IPython Notebooks #"
   ]
  },
  {
   "cell_type": "code",
   "execution_count": null,
   "id": "94980b76",
   "metadata": {},
   "outputs": [],
   "source": [
    "from stereomolgraph import StereoMolGraph\n",
    "from stereomolgraph.stereodescriptors import Tetrahedral\n",
    "from stereomolgraph.ipython import View2D\n",
    "\n",
    "View2D.height = 300\n",
    "View2D.width = 300\n",
    "View2D.show_atom_numbers = True\n",
    "View2D.show_h = True\n",
    "View2D.generate_bond_orders = False"
   ]
  },
  {
   "cell_type": "code",
   "execution_count": null,
   "id": "8e749693",
   "metadata": {},
   "outputs": [],
   "source": [
    "smg = StereoMolGraph()\n",
    "\n",
    "atoms = [(1, \"C\"), (2, \"C\"), (3, \"F\"), (4, \"F\"), (5, \"I\"), (6, \"I\"), (7, \"H\"), (8, \"H\")]\n",
    "bonds = [(1, 2), (1, 3), (2, 4), (1, 5), (2, 6), (1, 7), (2, 8)]\n",
    "\n",
    "for atom, atom_type in atoms:\n",
    "    smg.add_atom(atom, atom_type)\n",
    "\n",
    "for bond in bonds:\n",
    "    smg.add_bond(*bond)\n",
    "\n",
    "smg.set_atom_stereo(Tetrahedral(atoms=(1, 2, 3, 5, 7), parity=1))\n",
    "smg.set_atom_stereo(Tetrahedral(atoms=(2, 1, 4, 6, 8), parity=1))"
   ]
  },
  {
   "cell_type": "code",
   "execution_count": null,
   "id": "d1070a54",
   "metadata": {},
   "outputs": [],
   "source": [
    "smg"
   ]
  }
 ],
 "metadata": {
  "kernelspec": {
   "display_name": "MAXIM",
   "language": "python",
   "name": "python3"
  },
  "language_info": {
   "codemirror_mode": {
    "name": "ipython",
    "version": 3
   },
   "file_extension": ".py",
   "mimetype": "text/x-python",
   "name": "python",
   "nbconvert_exporter": "python",
   "pygments_lexer": "ipython3",
   "version": "3.13.3"
  }
 },
 "nbformat": 4,
 "nbformat_minor": 5
}
