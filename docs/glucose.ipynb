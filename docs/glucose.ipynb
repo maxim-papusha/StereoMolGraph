{
 "cells": [
  {
   "cell_type": "markdown",
   "metadata": {},
   "source": [
    "# Reactions of Glucose # "
   ]
  },
  {
   "cell_type": "code",
   "execution_count": null,
   "metadata": {},
   "outputs": [],
   "source": [
    "import itertools\n",
    "\n",
    "import rdkit\n",
    "from rdkit import Chem\n",
    "from IPython.core.interactiveshell import InteractiveShell\n",
    "\n",
    "from stereomolgraph.graph import (\n",
    "    StereoCondensedReactionGraph,\n",
    "    StereoMolGraph,\n",
    "    Tetrahedral,\n",
    "    PlanarBond,\n",
    ")\n",
    "\n",
    "from stereomolgraph.ipython import View2D\n",
    "\n",
    "InteractiveShell.ast_node_interactivity = \"all\"\n",
    "\n",
    "View2D.show_atom_numbers = True\n",
    "View2D.show_h = True\n",
    "View2D.generate_bond_orders = False\n",
    "View2D.height = 200\n",
    "View2D.width = 1000"
   ]
  },
  {
   "cell_type": "code",
   "execution_count": null,
   "metadata": {},
   "outputs": [],
   "source": [
    "glucose_inchi = \"InChI=1S/C6H12O6/c7-1-3(9)5(11)6(12)4(10)2-8/h1,3-6,8-12H,2H2/t3-,4+,5+,6+/m0/s1\"\n",
    "glucose_mol = rdkit.Chem.MolFromInchi(glucose_inchi, removeHs=False,)\n",
    "scrg = StereoCondensedReactionGraph.from_rdmol(glucose_mol)\n",
    "smg = StereoMolGraph.from_rdmol(glucose_mol)\n",
    "smg"
   ]
  },
  {
   "cell_type": "code",
   "execution_count": null,
   "metadata": {},
   "outputs": [],
   "source": [
    "dehyd = StereoCondensedReactionGraph()\n",
    "dehyd.add_atom(0, \"C\")\n",
    "dehyd.add_atom(1, \"C\")\n",
    "dehyd.add_atom(2, \"O\")\n",
    "dehyd.add_atom(3, \"H\")\n",
    "dehyd.add_atom(4, \"H\")\n",
    "\n",
    "dehyd.add_bond(0, 1)\n",
    "dehyd.add_bond(2, 4)\n",
    "\n",
    "dehyd.add_formed_bond(2, 3)\n",
    "\n",
    "dehyd.add_broken_bond(0, 2)\n",
    "dehyd.add_broken_bond(1, 3)\n",
    "\n",
    "dehyd.set_atom_stereo_change(0, broken=Tetrahedral((0, 1, 2, 5, 6), 1))\n",
    "\n",
    "dehyd.set_atom_stereo_change(1, broken= Tetrahedral((1, 0, 3, 7, 8), 1))\n",
    "\n",
    "dehyd.set_bond_stereo_change((1,0), formed=PlanarBond((5,6,1,0,7,8)))\n",
    "\n",
    "dehyd.stereo_changes\n",
    "\n",
    "dehyd"
   ]
  },
  {
   "cell_type": "code",
   "execution_count": null,
   "metadata": {},
   "outputs": [],
   "source": [
    "r = dehyd.reactant()\n",
    "p = dehyd.product()\n",
    "r.stereo\n",
    "r\n",
    "p.stereo\n",
    "p\n"
   ]
  },
  {
   "cell_type": "code",
   "execution_count": null,
   "metadata": {},
   "outputs": [],
   "source": [
    "r"
   ]
  },
  {
   "cell_type": "code",
   "execution_count": null,
   "metadata": {},
   "outputs": [],
   "source": [
    "p"
   ]
  },
  {
   "cell_type": "code",
   "execution_count": null,
   "metadata": {},
   "outputs": [],
   "source": [
    "from  stereomolgraph.graph import StereoChange\n",
    "self  = dehyd\n",
    "ts_smg = StereoMolGraph(self) # bond change is now just a bond\n",
    "for atom, stereo_change_dict in self.atom_stereo_changes.items():\n",
    "            atom_stereo = next((stereo for stereo_change in (StereoChange.FLEETING,\n",
    "                                                             StereoChange.BROKEN,\n",
    "                                                             StereoChange.FORMED)\n",
    "                                if (stereo := stereo_change_dict[stereo_change]) is not None), None)\n",
    "            if atom_stereo:\n",
    "                ts_smg.set_atom_stereo(atom, atom_stereo)\n",
    "\n",
    "for bond, stereo_change_dict in self.bond_stereo_changes.items():\n",
    "            bond_stereo = next((stereo for stereo_change in (StereoChange.FLEETING,\n",
    "                                                             StereoChange.BROKEN,\n",
    "                                                             StereoChange.FORMED)\n",
    "                                if (stereo := stereo_change_dict[stereo_change]) is not None), None)\n",
    "            if bond_stereo:\n",
    "                ts_smg.set_bond_stereo(bond, bond_stereo)\n"
   ]
  },
  {
   "cell_type": "code",
   "execution_count": null,
   "metadata": {},
   "outputs": [],
   "source": [
    "r\n",
    "ts_smg\n",
    "p"
   ]
  },
  {
   "cell_type": "code",
   "execution_count": null,
   "metadata": {},
   "outputs": [],
   "source": [
    "ts_smg.atoms\n",
    "ts_smg.bonds\n",
    "ts_smg.stereo"
   ]
  },
  {
   "cell_type": "code",
   "execution_count": null,
   "metadata": {},
   "outputs": [],
   "source": [
    "mol = ts_smg.to_mol(generate_bond_orders=False)"
   ]
  },
  {
   "cell_type": "code",
   "execution_count": null,
   "metadata": {},
   "outputs": [],
   "source": [
    "mol"
   ]
  },
  {
   "cell_type": "code",
   "execution_count": null,
   "metadata": {},
   "outputs": [],
   "source": [
    "scrg"
   ]
  },
  {
   "cell_type": "code",
   "execution_count": null,
   "metadata": {},
   "outputs": [],
   "source": []
  }
 ],
 "metadata": {
  "kernelspec": {
   "display_name": "MAXIM",
   "language": "python",
   "name": "python3"
  },
  "language_info": {
   "codemirror_mode": {
    "name": "ipython",
    "version": 3
   },
   "file_extension": ".py",
   "mimetype": "text/x-python",
   "name": "python",
   "nbconvert_exporter": "python",
   "pygments_lexer": "ipython3",
   "version": "3.13.3"
  }
 },
 "nbformat": 4,
 "nbformat_minor": 2
}
