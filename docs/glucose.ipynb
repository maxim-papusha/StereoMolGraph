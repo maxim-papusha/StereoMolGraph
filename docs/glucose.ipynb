{
 "cells": [
  {
   "cell_type": "markdown",
   "metadata": {},
   "source": [
    "# Reactions of Glucose # "
   ]
  },
  {
   "cell_type": "code",
   "execution_count": 1,
   "metadata": {},
   "outputs": [],
   "source": [
    "import itertools\n",
    "\n",
    "import rdkit\n",
    "from rdkit import Chem\n",
    "from IPython.core.interactiveshell import InteractiveShell\n",
    "\n",
    "from stereomolgraph.graph import (\n",
    "    StereoCondensedReactionGraph,\n",
    "    StereoMolGraph,\n",
    "    Tetrahedral,\n",
    "    PlanarBond,\n",
    ")\n",
    "\n",
    "from stereomolgraph.ipython import View2D\n",
    "\n",
    "InteractiveShell.ast_node_interactivity = \"all\"\n",
    "\n",
    "View2D.show_atom_numbers = True\n",
    "View2D.show_h = True\n",
    "View2D.generate_bond_orders = False\n",
    "View2D.height = 200\n",
    "View2D.width = 1000"
   ]
  },
  {
   "cell_type": "code",
   "execution_count": 2,
   "metadata": {},
   "outputs": [
    {
     "data": {
      "image/svg+xml": [
       "<svg xmlns=\"http://www.w3.org/2000/svg\" xmlns:rdkit=\"http://www.rdkit.org/xml\" xmlns:xlink=\"http://www.w3.org/1999/xlink\" version=\"1.1\" baseProfile=\"full\" xml:space=\"preserve\" width=\"1000px\" height=\"200px\" viewBox=\"0 0 1000 200\">\n",
       "<!-- END OF HEADER -->\n",
       "<rect style=\"opacity:1.0;fill:#FFFFFF;stroke:none\" width=\"1000.0\" height=\"200.0\" x=\"0.0\" y=\"0.0\"> </rect>\n",
       "<path class=\"bond-0 atom-0 atom-2\" d=\"M 458.4,116.1 L 458.4,78.8\" style=\"fill:none;fill-rule:evenodd;stroke:#000000;stroke-width:2.0px;stroke-linecap:butt;stroke-linejoin:miter;stroke-opacity:1\"/>\n",
       "<path class=\"bond-1 atom-0 atom-6\" d=\"M 458.4,116.1 L 432.2,131.3\" style=\"fill:none;fill-rule:evenodd;stroke:#000000;stroke-width:2.0px;stroke-linecap:butt;stroke-linejoin:miter;stroke-opacity:1\"/>\n",
       "<path class=\"bond-2 atom-0 atom-16\" d=\"M 458.4,116.1 L 474.1,141.2\" style=\"fill:none;fill-rule:evenodd;stroke:#000000;stroke-width:2.0px;stroke-linecap:butt;stroke-linejoin:miter;stroke-opacity:1\"/>\n",
       "<path class=\"bond-3 atom-1 atom-3\" d=\"M 532.9,78.8 L 532.9,116.1\" style=\"fill:none;fill-rule:evenodd;stroke:#000000;stroke-width:2.0px;stroke-linecap:butt;stroke-linejoin:miter;stroke-opacity:1\"/>\n",
       "<path class=\"bond-4 atom-1 atom-7\" d=\"M 532.9,78.8 L 532.9,48.3\" style=\"fill:none;fill-rule:evenodd;stroke:#000000;stroke-width:2.0px;stroke-linecap:butt;stroke-linejoin:miter;stroke-opacity:1\"/>\n",
       "<path class=\"bond-5 atom-1 atom-17\" d=\"M 532.9,78.8 L 502.1,71.2\" style=\"fill:none;fill-rule:evenodd;stroke:#000000;stroke-width:2.0px;stroke-linecap:butt;stroke-linejoin:miter;stroke-opacity:1\"/>\n",
       "<path class=\"bond-6 atom-1 atom-18\" d=\"M 532.9,78.8 L 564.6,75.0\" style=\"fill:none;fill-rule:evenodd;stroke:#000000;stroke-width:2.0px;stroke-linecap:butt;stroke-linejoin:miter;stroke-opacity:1\"/>\n",
       "<path class=\"bond-7 atom-2 atom-4\" d=\"M 458.4,78.8 L 495.7,78.8\" style=\"fill:none;fill-rule:evenodd;stroke:#000000;stroke-width:2.0px;stroke-linecap:butt;stroke-linejoin:miter;stroke-opacity:1\"/>\n",
       "<path class=\"bond-8 atom-2 atom-8\" d=\"M 458.4,78.8 L 427.2,78.8\" style=\"fill:none;fill-rule:evenodd;stroke:#000000;stroke-width:2.0px;stroke-linecap:butt;stroke-linejoin:miter;stroke-opacity:1\"/>\n",
       "<path class=\"bond-9 atom-2 atom-12\" d=\"M 458.1,75.1 L 458.7,75.1\" style=\"fill:none;fill-rule:evenodd;stroke:#000000;stroke-width:1.0px;stroke-linecap:butt;stroke-linejoin:miter;stroke-opacity:1\"/>\n",
       "<path class=\"bond-9 atom-2 atom-12\" d=\"M 457.7,71.4 L 459.1,71.4\" style=\"fill:none;fill-rule:evenodd;stroke:#000000;stroke-width:1.0px;stroke-linecap:butt;stroke-linejoin:miter;stroke-opacity:1\"/>\n",
       "<path class=\"bond-9 atom-2 atom-12\" d=\"M 457.4,67.7 L 459.4,67.7\" style=\"fill:none;fill-rule:evenodd;stroke:#000000;stroke-width:1.0px;stroke-linecap:butt;stroke-linejoin:miter;stroke-opacity:1\"/>\n",
       "<path class=\"bond-9 atom-2 atom-12\" d=\"M 457.0,64.0 L 459.8,64.0\" style=\"fill:none;fill-rule:evenodd;stroke:#000000;stroke-width:1.0px;stroke-linecap:butt;stroke-linejoin:miter;stroke-opacity:1\"/>\n",
       "<path class=\"bond-9 atom-2 atom-12\" d=\"M 456.7,60.4 L 460.1,60.4\" style=\"fill:none;fill-rule:evenodd;stroke:#000000;stroke-width:1.0px;stroke-linecap:butt;stroke-linejoin:miter;stroke-opacity:1\"/>\n",
       "<path class=\"bond-9 atom-2 atom-12\" d=\"M 456.3,56.7 L 460.4,56.7\" style=\"fill:none;fill-rule:evenodd;stroke:#000000;stroke-width:1.0px;stroke-linecap:butt;stroke-linejoin:miter;stroke-opacity:1\"/>\n",
       "<path class=\"bond-9 atom-2 atom-12\" d=\"M 456.0,53.0 L 460.8,53.0\" style=\"fill:none;fill-rule:evenodd;stroke:#000000;stroke-width:1.0px;stroke-linecap:butt;stroke-linejoin:miter;stroke-opacity:1\"/>\n",
       "<path class=\"bond-9 atom-2 atom-12\" d=\"M 455.7,49.3 L 461.1,49.3\" style=\"fill:none;fill-rule:evenodd;stroke:#000000;stroke-width:1.0px;stroke-linecap:butt;stroke-linejoin:miter;stroke-opacity:1\"/>\n",
       "<path class=\"bond-10 atom-3 atom-5\" d=\"M 532.9,116.1 L 495.7,116.1\" style=\"fill:none;fill-rule:evenodd;stroke:#000000;stroke-width:2.0px;stroke-linecap:butt;stroke-linejoin:miter;stroke-opacity:1\"/>\n",
       "<path class=\"bond-11 atom-3 atom-9\" d=\"M 532.9,116.1 L 564.2,116.1\" style=\"fill:none;fill-rule:evenodd;stroke:#000000;stroke-width:2.0px;stroke-linecap:butt;stroke-linejoin:miter;stroke-opacity:1\"/>\n",
       "<path class=\"bond-12 atom-3 atom-13\" d=\"M 532.9,116.1 L 539.3,145.1 L 533.8,145.8 Z\" style=\"fill:#000000;fill-rule:evenodd;fill-opacity:1;stroke:#000000;stroke-width:0.5px;stroke-linecap:butt;stroke-linejoin:miter;stroke-opacity:1;\"/>\n",
       "<path class=\"bond-13 atom-4 atom-5\" d=\"M 495.7,78.8 L 495.7,116.1\" style=\"fill:none;fill-rule:evenodd;stroke:#000000;stroke-width:2.0px;stroke-linecap:butt;stroke-linejoin:miter;stroke-opacity:1\"/>\n",
       "<path class=\"bond-14 atom-4 atom-10\" d=\"M 495.7,78.8 L 495.7,48.3\" style=\"fill:none;fill-rule:evenodd;stroke:#000000;stroke-width:2.0px;stroke-linecap:butt;stroke-linejoin:miter;stroke-opacity:1\"/>\n",
       "<path class=\"bond-15 atom-4 atom-14\" d=\"M 495.7,78.8 L 507.7,73.0 L 509.0,78.3 Z\" style=\"fill:#000000;fill-rule:evenodd;fill-opacity:1;stroke:#000000;stroke-width:0.5px;stroke-linecap:butt;stroke-linejoin:miter;stroke-opacity:1;\"/>\n",
       "<path class=\"bond-16 atom-5 atom-11\" d=\"M 495.7,116.1 L 495.7,146.8\" style=\"fill:none;fill-rule:evenodd;stroke:#000000;stroke-width:2.0px;stroke-linecap:butt;stroke-linejoin:miter;stroke-opacity:1\"/>\n",
       "<path class=\"bond-17 atom-5 atom-15\" d=\"M 492.4,117.2 L 492.3,116.6\" style=\"fill:none;fill-rule:evenodd;stroke:#000000;stroke-width:1.0px;stroke-linecap:butt;stroke-linejoin:miter;stroke-opacity:1\"/>\n",
       "<path class=\"bond-17 atom-5 atom-15\" d=\"M 489.2,118.3 L 488.9,117.2\" style=\"fill:none;fill-rule:evenodd;stroke:#000000;stroke-width:1.0px;stroke-linecap:butt;stroke-linejoin:miter;stroke-opacity:1\"/>\n",
       "<path class=\"bond-17 atom-5 atom-15\" d=\"M 486.0,119.5 L 485.6,117.7\" style=\"fill:none;fill-rule:evenodd;stroke:#000000;stroke-width:1.0px;stroke-linecap:butt;stroke-linejoin:miter;stroke-opacity:1\"/>\n",
       "<path class=\"bond-17 atom-5 atom-15\" d=\"M 482.8,120.6 L 482.2,118.2\" style=\"fill:none;fill-rule:evenodd;stroke:#000000;stroke-width:1.0px;stroke-linecap:butt;stroke-linejoin:miter;stroke-opacity:1\"/>\n",
       "<path class=\"bond-17 atom-5 atom-15\" d=\"M 479.6,121.7 L 478.8,118.7\" style=\"fill:none;fill-rule:evenodd;stroke:#000000;stroke-width:1.0px;stroke-linecap:butt;stroke-linejoin:miter;stroke-opacity:1\"/>\n",
       "<path class=\"bond-17 atom-5 atom-15\" d=\"M 476.4,122.8 L 475.5,119.3\" style=\"fill:none;fill-rule:evenodd;stroke:#000000;stroke-width:1.0px;stroke-linecap:butt;stroke-linejoin:miter;stroke-opacity:1\"/>\n",
       "<path class=\"bond-17 atom-5 atom-15\" d=\"M 473.1,123.9 L 472.1,119.8\" style=\"fill:none;fill-rule:evenodd;stroke:#000000;stroke-width:1.0px;stroke-linecap:butt;stroke-linejoin:miter;stroke-opacity:1\"/>\n",
       "<path class=\"bond-17 atom-5 atom-15\" d=\"M 469.9,125.0 L 468.7,120.3\" style=\"fill:none;fill-rule:evenodd;stroke:#000000;stroke-width:1.0px;stroke-linecap:butt;stroke-linejoin:miter;stroke-opacity:1\"/>\n",
       "<path class=\"bond-17 atom-5 atom-15\" d=\"M 466.7,126.2 L 465.4,120.8\" style=\"fill:none;fill-rule:evenodd;stroke:#000000;stroke-width:1.0px;stroke-linecap:butt;stroke-linejoin:miter;stroke-opacity:1\"/>\n",
       "<path class=\"bond-18 atom-7 atom-19\" d=\"M 539.0,38.1 L 559.9,26.0\" style=\"fill:none;fill-rule:evenodd;stroke:#000000;stroke-width:2.0px;stroke-linecap:butt;stroke-linejoin:miter;stroke-opacity:1\"/>\n",
       "<path class=\"bond-19 atom-8 atom-20\" d=\"M 417.3,72.3 L 406.2,53.0\" style=\"fill:none;fill-rule:evenodd;stroke:#000000;stroke-width:2.0px;stroke-linecap:butt;stroke-linejoin:miter;stroke-opacity:1\"/>\n",
       "<path class=\"bond-20 atom-9 atom-21\" d=\"M 575.1,109.6 L 587.8,92.8\" style=\"fill:none;fill-rule:evenodd;stroke:#000000;stroke-width:2.0px;stroke-linecap:butt;stroke-linejoin:miter;stroke-opacity:1\"/>\n",
       "<path class=\"bond-21 atom-10 atom-22\" d=\"M 501.7,35.7 L 517.1,20.8\" style=\"fill:none;fill-rule:evenodd;stroke:#000000;stroke-width:2.0px;stroke-linecap:butt;stroke-linejoin:miter;stroke-opacity:1\"/>\n",
       "<path class=\"bond-22 atom-11 atom-23\" d=\"M 501.7,157.9 L 520.1,171.8\" style=\"fill:none;fill-rule:evenodd;stroke:#000000;stroke-width:2.0px;stroke-linecap:butt;stroke-linejoin:miter;stroke-opacity:1\"/>\n",
       "<path class=\"atom-6\" d=\"M 421.3 134.8 Q 421.3 132.2, 422.5 130.8 Q 423.8 129.4, 426.1 129.4 Q 428.5 129.4, 429.7 130.8 Q 431.0 132.2, 431.0 134.8 Q 431.0 137.3, 429.7 138.8 Q 428.4 140.3, 426.1 140.3 Q 423.8 140.3, 422.5 138.8 Q 421.3 137.4, 421.3 134.8 M 426.1 139.1 Q 427.7 139.1, 428.6 138.0 Q 429.5 136.9, 429.5 134.8 Q 429.5 132.7, 428.6 131.7 Q 427.7 130.6, 426.1 130.6 Q 424.5 130.6, 423.6 131.7 Q 422.8 132.7, 422.8 134.8 Q 422.8 136.9, 423.6 138.0 Q 424.5 139.1, 426.1 139.1 \" fill=\"#000000\"/>\n",
       "<path class=\"atom-7\" d=\"M 528.1 41.6 Q 528.1 39.1, 529.3 37.6 Q 530.6 36.2, 532.9 36.2 Q 535.3 36.2, 536.5 37.6 Q 537.8 39.1, 537.8 41.6 Q 537.8 44.2, 536.5 45.6 Q 535.3 47.1, 532.9 47.1 Q 530.6 47.1, 529.3 45.6 Q 528.1 44.2, 528.1 41.6 M 532.9 45.9 Q 534.6 45.9, 535.4 44.8 Q 536.3 43.7, 536.3 41.6 Q 536.3 39.5, 535.4 38.5 Q 534.6 37.4, 532.9 37.4 Q 531.3 37.4, 530.5 38.5 Q 529.6 39.5, 529.6 41.6 Q 529.6 43.7, 530.5 44.8 Q 531.3 45.9, 532.9 45.9 \" fill=\"#000000\"/>\n",
       "<path class=\"atom-8\" d=\"M 416.3 78.9 Q 416.3 76.3, 417.5 74.9 Q 418.8 73.5, 421.1 73.5 Q 423.5 73.5, 424.7 74.9 Q 426.0 76.3, 426.0 78.9 Q 426.0 81.4, 424.7 82.9 Q 423.4 84.3, 421.1 84.3 Q 418.8 84.3, 417.5 82.9 Q 416.3 81.5, 416.3 78.9 M 421.1 83.2 Q 422.7 83.2, 423.6 82.1 Q 424.5 81.0, 424.5 78.9 Q 424.5 76.8, 423.6 75.8 Q 422.7 74.7, 421.1 74.7 Q 419.5 74.7, 418.6 75.7 Q 417.8 76.8, 417.8 78.9 Q 417.8 81.0, 418.6 82.1 Q 419.5 83.2, 421.1 83.2 \" fill=\"#000000\"/>\n",
       "<path class=\"atom-9\" d=\"M 565.4 116.1 Q 565.4 113.6, 566.6 112.2 Q 567.9 110.8, 570.2 110.8 Q 572.6 110.8, 573.8 112.2 Q 575.1 113.6, 575.1 116.1 Q 575.1 118.7, 573.8 120.2 Q 572.5 121.6, 570.2 121.6 Q 567.9 121.6, 566.6 120.2 Q 565.4 118.7, 565.4 116.1 M 570.2 120.4 Q 571.8 120.4, 572.7 119.3 Q 573.6 118.3, 573.6 116.1 Q 573.6 114.1, 572.7 113.0 Q 571.8 112.0, 570.2 112.0 Q 568.6 112.0, 567.7 113.0 Q 566.9 114.1, 566.9 116.1 Q 566.9 118.3, 567.7 119.3 Q 568.6 120.4, 570.2 120.4 \" fill=\"#000000\"/>\n",
       "<path class=\"atom-10\" d=\"M 490.8 41.6 Q 490.8 39.1, 492.1 37.6 Q 493.3 36.2, 495.7 36.2 Q 498.0 36.2, 499.3 37.6 Q 500.5 39.1, 500.5 41.6 Q 500.5 44.2, 499.2 45.6 Q 498.0 47.1, 495.7 47.1 Q 493.3 47.1, 492.1 45.6 Q 490.8 44.2, 490.8 41.6 M 495.7 45.9 Q 497.3 45.9, 498.1 44.8 Q 499.0 43.7, 499.0 41.6 Q 499.0 39.5, 498.1 38.5 Q 497.3 37.4, 495.7 37.4 Q 494.1 37.4, 493.2 38.5 Q 492.3 39.5, 492.3 41.6 Q 492.3 43.7, 493.2 44.8 Q 494.1 45.9, 495.7 45.9 \" fill=\"#000000\"/>\n",
       "<path class=\"atom-11\" d=\"M 490.8 153.4 Q 490.8 150.9, 492.1 149.5 Q 493.3 148.1, 495.7 148.1 Q 498.0 148.1, 499.3 149.5 Q 500.5 150.9, 500.5 153.4 Q 500.5 156.0, 499.2 157.4 Q 498.0 158.9, 495.7 158.9 Q 493.3 158.9, 492.1 157.4 Q 490.8 156.0, 490.8 153.4 M 495.7 157.7 Q 497.3 157.7, 498.1 156.6 Q 499.0 155.5, 499.0 153.4 Q 499.0 151.3, 498.1 150.3 Q 497.3 149.2, 495.7 149.2 Q 494.1 149.2, 493.2 150.3 Q 492.3 151.3, 492.3 153.4 Q 492.3 155.5, 493.2 156.6 Q 494.1 157.7, 495.7 157.7 \" fill=\"#000000\"/>\n",
       "<path class=\"atom-12\" d=\"M 454.3 36.3 L 455.7 36.3 L 455.7 40.8 L 461.1 40.8 L 461.1 36.3 L 462.5 36.3 L 462.5 46.8 L 461.1 46.8 L 461.1 42.0 L 455.7 42.0 L 455.7 46.8 L 454.3 46.8 L 454.3 36.3 \" fill=\"#000000\"/>\n",
       "<path class=\"atom-13\" d=\"M 533.4 147.8 L 534.8 147.8 L 534.8 152.3 L 540.2 152.3 L 540.2 147.8 L 541.6 147.8 L 541.6 158.4 L 540.2 158.4 L 540.2 153.5 L 534.8 153.5 L 534.8 158.4 L 533.4 158.4 L 533.4 147.8 \" fill=\"#000000\"/>\n",
       "<path class=\"atom-14\" d=\"M 510.8 68.8 L 512.2 68.8 L 512.2 73.3 L 517.6 73.3 L 517.6 68.8 L 519.0 68.8 L 519.0 79.3 L 517.6 79.3 L 517.6 74.5 L 512.2 74.5 L 512.2 79.3 L 510.8 79.3 L 510.8 68.8 \" fill=\"#000000\"/>\n",
       "<path class=\"atom-15\" d=\"M 455.4 119.9 L 456.8 119.9 L 456.8 124.3 L 462.2 124.3 L 462.2 119.9 L 463.6 119.9 L 463.6 130.4 L 462.2 130.4 L 462.2 125.5 L 456.8 125.5 L 456.8 130.4 L 455.4 130.4 L 455.4 119.9 \" fill=\"#000000\"/>\n",
       "<path class=\"atom-16\" d=\"M 474.0 142.4 L 475.4 142.4 L 475.4 146.9 L 480.8 146.9 L 480.8 142.4 L 482.3 142.4 L 482.3 153.0 L 480.8 153.0 L 480.8 148.1 L 475.4 148.1 L 475.4 153.0 L 474.0 153.0 L 474.0 142.4 \" fill=\"#000000\"/>\n",
       "<path class=\"atom-17\" d=\"M 492.6 64.5 L 494.1 64.5 L 494.1 69.0 L 499.5 69.0 L 499.5 64.5 L 500.9 64.5 L 500.9 75.1 L 499.5 75.1 L 499.5 70.2 L 494.1 70.2 L 494.1 75.1 L 492.6 75.1 L 492.6 64.5 \" fill=\"#000000\"/>\n",
       "<path class=\"atom-18\" d=\"M 565.8 69.0 L 567.2 69.0 L 567.2 73.5 L 572.6 73.5 L 572.6 69.0 L 574.1 69.0 L 574.1 79.6 L 572.6 79.6 L 572.6 74.7 L 567.2 74.7 L 567.2 79.6 L 565.8 79.6 L 565.8 69.0 \" fill=\"#000000\"/>\n",
       "<path class=\"atom-19\" d=\"M 561.1 17.7 L 562.5 17.7 L 562.5 22.1 L 567.9 22.1 L 567.9 17.7 L 569.4 17.7 L 569.4 28.2 L 567.9 28.2 L 567.9 23.3 L 562.5 23.3 L 562.5 28.2 L 561.1 28.2 L 561.1 17.7 \" fill=\"#000000\"/>\n",
       "<path class=\"atom-20\" d=\"M 398.4 41.3 L 399.8 41.3 L 399.8 45.8 L 405.2 45.8 L 405.2 41.3 L 406.6 41.3 L 406.6 51.8 L 405.2 51.8 L 405.2 47.0 L 399.8 47.0 L 399.8 51.8 L 398.4 51.8 L 398.4 41.3 \" fill=\"#000000\"/>\n",
       "<path class=\"atom-21\" d=\"M 588.5 81.1 L 589.9 81.1 L 589.9 85.6 L 595.3 85.6 L 595.3 81.1 L 596.8 81.1 L 596.8 91.6 L 595.3 91.6 L 595.3 86.8 L 589.9 86.8 L 589.9 91.6 L 588.5 91.6 L 588.5 81.1 \" fill=\"#000000\"/>\n",
       "<path class=\"atom-22\" d=\"M 518.3 10.4 L 519.8 10.4 L 519.8 14.9 L 525.2 14.9 L 525.2 10.4 L 526.6 10.4 L 526.6 21.0 L 525.2 21.0 L 525.2 16.1 L 519.8 16.1 L 519.8 21.0 L 518.3 21.0 L 518.3 10.4 \" fill=\"#000000\"/>\n",
       "<path class=\"atom-23\" d=\"M 521.3 170.5 L 522.7 170.5 L 522.7 175.0 L 528.1 175.0 L 528.1 170.5 L 529.6 170.5 L 529.6 181.1 L 528.1 181.1 L 528.1 176.2 L 522.7 176.2 L 522.7 181.1 L 521.3 181.1 L 521.3 170.5 \" fill=\"#000000\"/>\n",
       "<path class=\"note\" d=\"M 453.0 115.7 Q 452.0 115.7, 451.6 115.0 Q 451.1 114.3, 451.1 113.0 Q 451.1 111.8, 451.6 111.0 Q 452.0 110.3, 453.0 110.3 Q 454.0 110.3, 454.5 111.0 Q 454.9 111.8, 454.9 113.0 Q 454.9 114.3, 454.5 115.0 Q 454.0 115.7, 453.0 115.7 M 453.0 115.1 Q 453.6 115.1, 453.9 114.6 Q 454.2 114.1, 454.2 113.0 Q 454.2 112.0, 453.9 111.5 Q 453.6 110.9, 453.0 110.9 Q 452.4 110.9, 452.1 111.5 Q 451.8 112.0, 451.8 113.0 Q 451.8 114.1, 452.1 114.6 Q 452.4 115.1, 453.0 115.1 \" fill=\"#000000\"/>\n",
       "<path class=\"note\" d=\"M 526.7 84.7 L 527.9 84.7 L 527.9 80.8 L 526.6 81.2 L 526.5 80.7 L 528.1 80.0 L 528.6 80.1 L 528.6 84.7 L 529.6 84.7 L 529.6 85.3 L 526.7 85.3 L 526.7 84.7 \" fill=\"#000000\"/>\n",
       "<path class=\"note\" d=\"M 461.0 81.6 Q 461.2 81.1, 461.7 80.8 Q 462.1 80.6, 462.8 80.6 Q 463.6 80.6, 464.0 81.0 Q 464.5 81.4, 464.5 82.2 Q 464.5 83.0, 463.9 83.7 Q 463.3 84.4, 462.1 85.3 L 464.6 85.3 L 464.6 85.9 L 461.0 85.9 L 461.0 85.4 Q 462.0 84.7, 462.6 84.2 Q 463.2 83.7, 463.4 83.2 Q 463.7 82.7, 463.7 82.2 Q 463.7 81.7, 463.5 81.4 Q 463.2 81.2, 462.8 81.2 Q 462.4 81.2, 462.1 81.3 Q 461.8 81.5, 461.6 81.9 L 461.0 81.6 \" fill=\"#000000\"/>\n",
       "<path class=\"note\" d=\"M 529.3 111.6 Q 529.8 111.8, 530.1 112.1 Q 530.3 112.4, 530.3 112.9 Q 530.3 113.4, 530.1 113.7 Q 529.9 114.1, 529.5 114.3 Q 529.1 114.5, 528.5 114.5 Q 528.0 114.5, 527.5 114.3 Q 527.1 114.1, 526.8 113.7 L 527.2 113.2 Q 527.5 113.6, 527.8 113.7 Q 528.1 113.9, 528.5 113.9 Q 529.0 113.9, 529.3 113.6 Q 529.6 113.4, 529.6 112.9 Q 529.6 112.4, 529.3 112.2 Q 529.0 111.9, 528.3 111.9 L 527.9 111.9 L 527.9 111.4 L 528.3 111.4 Q 528.9 111.4, 529.2 111.1 Q 529.5 110.9, 529.5 110.4 Q 529.5 110.1, 529.2 109.9 Q 529.0 109.6, 528.5 109.6 Q 528.1 109.6, 527.8 109.8 Q 527.5 110.0, 527.3 110.4 L 526.8 110.1 Q 527.0 109.6, 527.5 109.4 Q 527.9 109.1, 528.5 109.1 Q 529.3 109.1, 529.8 109.4 Q 530.2 109.8, 530.2 110.4 Q 530.2 110.8, 530.0 111.1 Q 529.7 111.4, 529.3 111.6 \" fill=\"#000000\"/>\n",
       "<path class=\"note\" d=\"M 492.7 84.1 L 493.3 84.1 L 493.3 84.7 L 492.7 84.7 L 492.7 85.9 L 492.0 85.9 L 492.0 84.7 L 489.2 84.7 L 489.2 84.2 L 491.6 80.6 L 492.7 80.6 L 492.7 84.1 M 490.1 84.1 L 492.0 84.1 L 492.0 81.1 L 490.1 84.1 \" fill=\"#000000\"/>\n",
       "<path class=\"note\" d=\"M 500.2 111.1 Q 500.7 111.1, 501.0 111.3 Q 501.4 111.5, 501.6 111.8 Q 501.8 112.2, 501.8 112.7 Q 501.8 113.2, 501.6 113.6 Q 501.3 114.0, 500.9 114.2 Q 500.5 114.4, 500.0 114.4 Q 499.5 114.4, 499.0 114.2 Q 498.6 114.1, 498.3 113.7 L 498.7 113.3 Q 499.0 113.5, 499.3 113.7 Q 499.6 113.8, 500.0 113.8 Q 500.5 113.8, 500.8 113.5 Q 501.1 113.2, 501.1 112.7 Q 501.1 112.1, 500.8 111.9 Q 500.5 111.6, 499.9 111.6 Q 499.5 111.6, 499.0 111.8 L 498.6 111.6 L 498.8 109.1 L 501.5 109.1 L 501.4 109.7 L 499.4 109.7 L 499.3 111.2 Q 499.7 111.1, 500.2 111.1 \" fill=\"#000000\"/>\n",
       "<path class=\"note\" d=\"M 415.6 140.3 Q 416.1 140.3, 416.4 140.5 Q 416.8 140.7, 417.0 141.1 Q 417.2 141.5, 417.2 141.9 Q 417.2 142.4, 417.0 142.8 Q 416.7 143.2, 416.3 143.5 Q 415.9 143.7, 415.4 143.7 Q 414.5 143.7, 414.0 143.1 Q 413.5 142.4, 413.5 141.1 Q 413.5 139.7, 414.1 139.0 Q 414.7 138.3, 415.8 138.3 Q 416.1 138.3, 416.4 138.4 Q 416.7 138.4, 417.0 138.6 L 416.7 139.1 Q 416.3 138.9, 415.8 138.9 Q 415.1 138.9, 414.7 139.4 Q 414.3 139.9, 414.3 140.8 Q 414.5 140.6, 414.9 140.5 Q 415.2 140.3, 415.6 140.3 M 415.4 143.1 Q 415.7 143.1, 415.9 142.9 Q 416.2 142.8, 416.3 142.5 Q 416.4 142.3, 416.4 141.9 Q 416.4 141.5, 416.2 141.2 Q 415.9 140.9, 415.5 140.9 Q 415.1 140.9, 414.8 141.1 Q 414.5 141.2, 414.3 141.4 Q 414.3 142.3, 414.6 142.7 Q 414.9 143.1, 415.4 143.1 \" fill=\"#000000\"/>\n",
       "<path class=\"note\" d=\"M 523.2 33.3 L 520.4 33.3 L 520.4 32.7 L 523.9 32.7 L 523.9 33.2 L 521.8 38.0 L 521.1 38.0 L 523.2 33.3 \" fill=\"#000000\"/>\n",
       "<path class=\"note\" d=\"M 415.7 89.5 Q 416.2 89.7, 416.5 90.0 Q 416.8 90.3, 416.8 90.8 Q 416.8 91.3, 416.5 91.6 Q 416.3 92.0, 415.9 92.2 Q 415.5 92.3, 414.9 92.3 Q 414.1 92.3, 413.6 91.9 Q 413.0 91.5, 413.0 90.8 Q 413.0 90.4, 413.3 90.1 Q 413.5 89.7, 414.0 89.5 Q 413.6 89.3, 413.4 89.0 Q 413.2 88.7, 413.2 88.3 Q 413.2 87.7, 413.7 87.3 Q 414.1 86.9, 414.9 86.9 Q 415.7 86.9, 416.1 87.3 Q 416.6 87.7, 416.6 88.3 Q 416.6 88.7, 416.4 89.0 Q 416.2 89.2, 415.7 89.5 M 414.9 87.5 Q 414.5 87.5, 414.2 87.7 Q 414.0 87.9, 414.0 88.3 Q 414.0 88.6, 414.1 88.7 Q 414.3 88.9, 414.5 89.0 Q 414.8 89.1, 415.2 89.3 Q 415.6 89.1, 415.7 88.8 Q 415.8 88.6, 415.8 88.3 Q 415.8 87.9, 415.6 87.7 Q 415.3 87.5, 414.9 87.5 M 414.9 91.8 Q 415.4 91.8, 415.7 91.5 Q 416.0 91.3, 416.0 90.8 Q 416.0 90.5, 415.9 90.4 Q 415.7 90.2, 415.5 90.1 Q 415.2 90.0, 414.8 89.8 L 414.5 89.7 Q 414.1 89.9, 414.0 90.2 Q 413.8 90.5, 413.8 90.8 Q 413.8 91.3, 414.1 91.5 Q 414.4 91.8, 414.9 91.8 \" fill=\"#000000\"/>\n",
       "<path class=\"note\" d=\"M 575.7 124.6 Q 576.6 124.6, 577.1 125.2 Q 577.6 125.8, 577.6 127.1 Q 577.6 128.5, 577.0 129.2 Q 576.4 130.0, 575.3 130.0 Q 575.0 130.0, 574.7 129.9 Q 574.4 129.8, 574.1 129.7 L 574.4 129.2 Q 574.8 129.4, 575.3 129.4 Q 576.0 129.4, 576.4 128.9 Q 576.8 128.4, 576.8 127.4 Q 576.6 127.7, 576.2 127.8 Q 575.9 127.9, 575.5 127.9 Q 575.1 127.9, 574.7 127.7 Q 574.3 127.5, 574.1 127.2 Q 573.9 126.8, 573.9 126.3 Q 573.9 125.8, 574.2 125.4 Q 574.4 125.0, 574.8 124.8 Q 575.2 124.6, 575.7 124.6 M 574.7 126.3 Q 574.7 126.8, 574.9 127.1 Q 575.2 127.3, 575.7 127.3 Q 576.0 127.3, 576.3 127.2 Q 576.6 127.1, 576.8 126.8 Q 576.8 126.0, 576.5 125.6 Q 576.3 125.2, 575.7 125.2 Q 575.4 125.2, 575.2 125.3 Q 574.9 125.5, 574.8 125.7 Q 574.7 126.0, 574.7 126.3 \" fill=\"#000000\"/>\n",
       "<path class=\"note\" d=\"M 480.7 38.8 L 481.8 38.8 L 481.8 34.8 L 480.5 35.2 L 480.4 34.8 L 482.0 34.1 L 482.5 34.2 L 482.5 38.8 L 483.6 38.8 L 483.6 39.4 L 480.7 39.4 L 480.7 38.8 \" fill=\"#000000\"/>\n",
       "<path class=\"note\" d=\"M 486.2 39.4 Q 485.2 39.4, 484.7 38.7 Q 484.2 38.0, 484.2 36.7 Q 484.2 35.5, 484.7 34.8 Q 485.2 34.0, 486.2 34.0 Q 487.1 34.0, 487.6 34.8 Q 488.1 35.5, 488.1 36.7 Q 488.1 38.0, 487.6 38.7 Q 487.1 39.4, 486.2 39.4 M 486.2 38.8 Q 486.7 38.8, 487.0 38.3 Q 487.3 37.8, 487.3 36.7 Q 487.3 35.7, 487.0 35.2 Q 486.7 34.6, 486.2 34.6 Q 485.6 34.6, 485.3 35.2 Q 485.0 35.7, 485.0 36.7 Q 485.0 37.8, 485.3 38.3 Q 485.6 38.8, 486.2 38.8 \" fill=\"#000000\"/>\n",
       "<path class=\"note\" d=\"M 481.3 161.0 L 482.5 161.0 L 482.5 157.0 L 481.2 157.4 L 481.1 157.0 L 482.7 156.3 L 483.2 156.4 L 483.2 161.0 L 484.2 161.0 L 484.2 161.6 L 481.3 161.6 L 481.3 161.0 \" fill=\"#000000\"/>\n",
       "<path class=\"note\" d=\"M 485.2 161.0 L 486.3 161.0 L 486.3 157.0 L 485.0 157.4 L 484.9 157.0 L 486.5 156.3 L 487.0 156.4 L 487.0 161.0 L 488.0 161.0 L 488.0 161.6 L 485.2 161.6 L 485.2 161.0 \" fill=\"#000000\"/>\n",
       "<path class=\"note\" d=\"M 455.0 31.2 L 456.1 31.2 L 456.1 27.3 L 454.9 27.7 L 454.7 27.2 L 456.3 26.5 L 456.8 26.6 L 456.8 31.2 L 457.9 31.2 L 457.9 31.8 L 455.0 31.8 L 455.0 31.2 \" fill=\"#000000\"/>\n",
       "<path class=\"note\" d=\"M 458.5 27.5 Q 458.7 27.0, 459.2 26.8 Q 459.7 26.5, 460.3 26.5 Q 461.1 26.5, 461.6 26.9 Q 462.0 27.3, 462.0 28.1 Q 462.0 28.9, 461.4 29.6 Q 460.8 30.4, 459.7 31.2 L 462.1 31.2 L 462.1 31.8 L 458.5 31.8 L 458.5 31.3 Q 459.5 30.6, 460.1 30.1 Q 460.7 29.6, 461.0 29.1 Q 461.3 28.6, 461.3 28.1 Q 461.3 27.6, 461.0 27.4 Q 460.7 27.1, 460.3 27.1 Q 459.9 27.1, 459.6 27.2 Q 459.3 27.4, 459.1 27.8 L 458.5 27.5 \" fill=\"#000000\"/>\n",
       "<path class=\"note\" d=\"M 535.6 167.5 L 536.8 167.5 L 536.8 163.6 L 535.5 164.0 L 535.3 163.5 L 536.9 162.8 L 537.5 162.9 L 537.5 167.5 L 538.5 167.5 L 538.5 168.1 L 535.6 168.1 L 535.6 167.5 \" fill=\"#000000\"/>\n",
       "<path class=\"note\" d=\"M 541.7 165.3 Q 542.2 165.5, 542.4 165.8 Q 542.7 166.1, 542.7 166.7 Q 542.7 167.1, 542.5 167.5 Q 542.2 167.8, 541.8 168.0 Q 541.4 168.2, 540.9 168.2 Q 540.3 168.2, 539.9 168.0 Q 539.5 167.8, 539.1 167.4 L 539.6 167.0 Q 539.9 167.3, 540.2 167.5 Q 540.4 167.6, 540.9 167.6 Q 541.4 167.6, 541.7 167.3 Q 541.9 167.1, 541.9 166.7 Q 541.9 166.1, 541.6 165.9 Q 541.3 165.6, 540.7 165.6 L 540.3 165.6 L 540.3 165.1 L 540.6 165.1 Q 541.2 165.1, 541.5 164.8 Q 541.8 164.6, 541.8 164.1 Q 541.8 163.8, 541.6 163.6 Q 541.3 163.4, 540.9 163.4 Q 540.5 163.4, 540.2 163.5 Q 539.9 163.7, 539.7 164.1 L 539.2 163.8 Q 539.4 163.4, 539.8 163.1 Q 540.3 162.8, 540.9 162.8 Q 541.7 162.8, 542.1 163.1 Q 542.6 163.5, 542.6 164.1 Q 542.6 164.5, 542.3 164.9 Q 542.1 165.2, 541.7 165.3 \" fill=\"#000000\"/>\n",
       "<path class=\"note\" d=\"M 523.3 73.1 L 524.4 73.1 L 524.4 69.2 L 523.2 69.6 L 523.0 69.1 L 524.6 68.4 L 525.1 68.5 L 525.1 73.1 L 526.2 73.1 L 526.2 73.7 L 523.3 73.7 L 523.3 73.1 \" fill=\"#000000\"/>\n",
       "<path class=\"note\" d=\"M 530.3 71.9 L 530.9 71.9 L 530.9 72.5 L 530.3 72.5 L 530.3 73.7 L 529.6 73.7 L 529.6 72.5 L 526.8 72.5 L 526.8 72.0 L 529.2 68.4 L 530.3 68.4 L 530.3 71.9 M 527.7 71.9 L 529.6 71.9 L 529.6 68.9 L 527.7 71.9 \" fill=\"#000000\"/>\n",
       "<path class=\"note\" d=\"M 459.1 139.2 L 460.3 139.2 L 460.3 135.3 L 459.0 135.7 L 458.8 135.3 L 460.4 134.5 L 461.0 134.6 L 461.0 139.2 L 462.0 139.2 L 462.0 139.8 L 459.1 139.8 L 459.1 139.2 \" fill=\"#000000\"/>\n",
       "<path class=\"note\" d=\"M 464.6 136.5 Q 465.0 136.5, 465.4 136.7 Q 465.8 136.9, 466.0 137.3 Q 466.2 137.7, 466.2 138.2 Q 466.2 138.7, 465.9 139.1 Q 465.7 139.5, 465.2 139.7 Q 464.8 139.9, 464.3 139.9 Q 463.8 139.9, 463.4 139.7 Q 462.9 139.5, 462.6 139.2 L 463.1 138.7 Q 463.3 139.0, 463.7 139.2 Q 464.0 139.3, 464.3 139.3 Q 464.8 139.3, 465.1 139.0 Q 465.5 138.7, 465.5 138.2 Q 465.5 137.6, 465.1 137.4 Q 464.8 137.1, 464.3 137.1 Q 463.8 137.1, 463.3 137.3 L 462.9 137.1 L 463.2 134.6 L 465.9 134.6 L 465.8 135.2 L 463.8 135.2 L 463.6 136.7 Q 464.1 136.5, 464.6 136.5 \" fill=\"#000000\"/>\n",
       "<path class=\"note\" d=\"M 468.9 160.8 L 470.0 160.8 L 470.0 156.8 L 468.7 157.2 L 468.6 156.8 L 470.2 156.1 L 470.7 156.1 L 470.7 160.8 L 471.7 160.8 L 471.7 161.4 L 468.9 161.4 L 468.9 160.8 \" fill=\"#000000\"/>\n",
       "<path class=\"note\" d=\"M 474.5 158.1 Q 474.9 158.1, 475.3 158.3 Q 475.7 158.5, 475.9 158.8 Q 476.1 159.2, 476.1 159.7 Q 476.1 160.2, 475.8 160.6 Q 475.6 161.0, 475.2 161.2 Q 474.8 161.4, 474.3 161.4 Q 473.3 161.4, 472.9 160.8 Q 472.4 160.1, 472.4 158.9 Q 472.4 157.5, 473.0 156.8 Q 473.6 156.0, 474.7 156.0 Q 475.0 156.0, 475.3 156.1 Q 475.6 156.2, 475.8 156.3 L 475.6 156.8 Q 475.2 156.6, 474.7 156.6 Q 474.0 156.6, 473.6 157.1 Q 473.2 157.6, 473.2 158.6 Q 473.4 158.3, 473.8 158.2 Q 474.1 158.1, 474.5 158.1 M 474.3 160.8 Q 474.6 160.8, 474.8 160.7 Q 475.0 160.5, 475.2 160.3 Q 475.3 160.0, 475.3 159.7 Q 475.3 159.2, 475.1 158.9 Q 474.8 158.7, 474.3 158.7 Q 474.0 158.7, 473.7 158.8 Q 473.4 158.9, 473.2 159.2 Q 473.2 160.0, 473.5 160.4 Q 473.7 160.8, 474.3 160.8 \" fill=\"#000000\"/>\n",
       "<path class=\"note\" d=\"M 481.3 68.9 L 482.5 68.9 L 482.5 64.9 L 481.2 65.3 L 481.1 64.9 L 482.7 64.2 L 483.2 64.3 L 483.2 68.9 L 484.2 68.9 L 484.2 69.5 L 481.3 69.5 L 481.3 68.9 \" fill=\"#000000\"/>\n",
       "<path class=\"note\" d=\"M 487.6 64.8 L 484.9 64.8 L 484.9 64.2 L 488.4 64.2 L 488.4 64.7 L 486.3 69.5 L 485.5 69.5 L 487.6 64.8 \" fill=\"#000000\"/>\n",
       "<path class=\"note\" d=\"M 578.8 74.9 L 579.9 74.9 L 579.9 70.9 L 578.7 71.3 L 578.5 70.9 L 580.1 70.1 L 580.6 70.2 L 580.6 74.9 L 581.7 74.9 L 581.7 75.5 L 578.8 75.5 L 578.8 74.9 \" fill=\"#000000\"/>\n",
       "<path class=\"note\" d=\"M 585.0 72.7 Q 585.5 72.9, 585.8 73.2 Q 586.1 73.5, 586.1 74.0 Q 586.1 74.5, 585.8 74.8 Q 585.6 75.1, 585.2 75.3 Q 584.8 75.5, 584.2 75.5 Q 583.3 75.5, 582.8 75.1 Q 582.3 74.7, 582.3 74.0 Q 582.3 73.6, 582.5 73.3 Q 582.8 72.9, 583.2 72.7 Q 582.9 72.5, 582.7 72.2 Q 582.5 71.9, 582.5 71.5 Q 582.5 70.8, 583.0 70.5 Q 583.4 70.1, 584.2 70.1 Q 585.0 70.1, 585.4 70.5 Q 585.9 70.8, 585.9 71.5 Q 585.9 71.9, 585.6 72.1 Q 585.4 72.4, 585.0 72.7 M 584.2 70.7 Q 583.7 70.7, 583.5 70.9 Q 583.3 71.1, 583.3 71.5 Q 583.3 71.7, 583.4 71.9 Q 583.6 72.1, 583.8 72.2 Q 584.1 72.3, 584.5 72.5 Q 584.8 72.2, 585.0 72.0 Q 585.1 71.8, 585.1 71.5 Q 585.1 71.1, 584.9 70.9 Q 584.6 70.7, 584.2 70.7 M 584.2 75.0 Q 584.7 75.0, 585.0 74.7 Q 585.3 74.4, 585.3 74.0 Q 585.3 73.7, 585.2 73.5 Q 585.0 73.4, 584.8 73.3 Q 584.5 73.1, 584.1 73.0 L 583.8 72.9 Q 583.4 73.1, 583.2 73.4 Q 583.1 73.7, 583.1 74.0 Q 583.1 74.4, 583.4 74.7 Q 583.7 75.0, 584.2 75.0 \" fill=\"#000000\"/>\n",
       "<path class=\"note\" d=\"M 572.5 18.8 L 573.7 18.8 L 573.7 14.8 L 572.4 15.2 L 572.2 14.8 L 573.8 14.1 L 574.4 14.2 L 574.4 18.8 L 575.4 18.8 L 575.4 19.4 L 572.5 19.4 L 572.5 18.8 \" fill=\"#000000\"/>\n",
       "<path class=\"note\" d=\"M 577.8 14.1 Q 578.8 14.1, 579.3 14.7 Q 579.7 15.3, 579.7 16.6 Q 579.7 18.0, 579.1 18.7 Q 578.6 19.4, 577.4 19.4 Q 577.1 19.4, 576.8 19.4 Q 576.5 19.3, 576.3 19.1 L 576.6 18.6 Q 577.0 18.9, 577.4 18.9 Q 578.2 18.9, 578.6 18.4 Q 578.9 17.9, 579.0 16.9 Q 578.7 17.1, 578.4 17.3 Q 578.0 17.4, 577.7 17.4 Q 577.2 17.4, 576.8 17.2 Q 576.5 17.0, 576.3 16.6 Q 576.1 16.3, 576.1 15.8 Q 576.1 15.3, 576.3 14.9 Q 576.5 14.5, 576.9 14.3 Q 577.3 14.1, 577.8 14.1 M 576.8 15.8 Q 576.8 16.3, 577.1 16.5 Q 577.3 16.8, 577.8 16.8 Q 578.1 16.8, 578.4 16.7 Q 578.8 16.5, 579.0 16.3 Q 578.9 15.5, 578.7 15.1 Q 578.4 14.7, 577.8 14.7 Q 577.6 14.7, 577.3 14.8 Q 577.1 15.0, 576.9 15.2 Q 576.8 15.5, 576.8 15.8 \" fill=\"#000000\"/>\n",
       "<path class=\"note\" d=\"M 392.2 34.2 Q 392.4 33.7, 392.8 33.4 Q 393.3 33.1, 393.9 33.1 Q 394.7 33.1, 395.2 33.6 Q 395.6 34.0, 395.6 34.8 Q 395.6 35.5, 395.0 36.3 Q 394.5 37.0, 393.3 37.9 L 395.7 37.9 L 395.7 38.5 L 392.2 38.5 L 392.2 38.0 Q 393.1 37.3, 393.7 36.7 Q 394.3 36.2, 394.6 35.8 Q 394.9 35.3, 394.9 34.8 Q 394.9 34.3, 394.6 34.0 Q 394.4 33.7, 393.9 33.7 Q 393.5 33.7, 393.2 33.9 Q 392.9 34.1, 392.7 34.5 L 392.2 34.2 \" fill=\"#000000\"/>\n",
       "<path class=\"note\" d=\"M 398.5 38.5 Q 397.5 38.5, 397.0 37.8 Q 396.5 37.1, 396.5 35.8 Q 396.5 34.6, 397.0 33.8 Q 397.5 33.1, 398.5 33.1 Q 399.4 33.1, 399.9 33.8 Q 400.4 34.6, 400.4 35.8 Q 400.4 37.1, 399.9 37.8 Q 399.4 38.5, 398.5 38.5 M 398.5 37.9 Q 399.0 37.9, 399.3 37.4 Q 399.6 36.9, 399.6 35.8 Q 399.6 34.8, 399.3 34.3 Q 399.0 33.7, 398.5 33.7 Q 397.9 33.7, 397.6 34.3 Q 397.3 34.8, 397.3 35.8 Q 397.3 36.9, 397.6 37.4 Q 397.9 37.9, 398.5 37.9 \" fill=\"#000000\"/>\n",
       "<path class=\"note\" d=\"M 600.3 79.9 Q 600.5 79.4, 601.0 79.1 Q 601.5 78.8, 602.1 78.8 Q 602.9 78.8, 603.3 79.3 Q 603.8 79.7, 603.8 80.5 Q 603.8 81.2, 603.2 82.0 Q 602.6 82.7, 601.4 83.6 L 603.9 83.6 L 603.9 84.2 L 600.3 84.2 L 600.3 83.7 Q 601.3 83.0, 601.9 82.4 Q 602.5 81.9, 602.8 81.4 Q 603.0 81.0, 603.0 80.5 Q 603.0 80.0, 602.8 79.7 Q 602.5 79.4, 602.1 79.4 Q 601.7 79.4, 601.4 79.6 Q 601.1 79.8, 600.9 80.1 L 600.3 79.9 \" fill=\"#000000\"/>\n",
       "<path class=\"note\" d=\"M 605.0 83.6 L 606.1 83.6 L 606.1 79.6 L 604.8 80.0 L 604.7 79.6 L 606.3 78.9 L 606.8 78.9 L 606.8 83.6 L 607.8 83.6 L 607.8 84.2 L 605.0 84.2 L 605.0 83.6 \" fill=\"#000000\"/>\n",
       "<path class=\"note\" d=\"M 530.6 11.1 Q 530.8 10.6, 531.2 10.3 Q 531.7 10.0, 532.4 10.0 Q 533.1 10.0, 533.6 10.4 Q 534.0 10.9, 534.0 11.6 Q 534.0 12.4, 533.5 13.1 Q 532.9 13.9, 531.7 14.7 L 534.1 14.7 L 534.1 15.3 L 530.6 15.3 L 530.6 14.8 Q 531.6 14.1, 532.1 13.6 Q 532.7 13.1, 533.0 12.6 Q 533.3 12.2, 533.3 11.7 Q 533.3 11.2, 533.0 10.9 Q 532.8 10.6, 532.4 10.6 Q 531.9 10.6, 531.6 10.8 Q 531.4 10.9, 531.2 11.3 L 530.6 11.1 \" fill=\"#000000\"/>\n",
       "<path class=\"note\" d=\"M 534.9 11.1 Q 535.1 10.6, 535.6 10.3 Q 536.1 10.0, 536.7 10.0 Q 537.5 10.0, 538.0 10.4 Q 538.4 10.9, 538.4 11.6 Q 538.4 12.4, 537.8 13.1 Q 537.2 13.9, 536.1 14.7 L 538.5 14.7 L 538.5 15.3 L 534.9 15.3 L 534.9 14.8 Q 535.9 14.1, 536.5 13.6 Q 537.1 13.1, 537.4 12.6 Q 537.7 12.2, 537.7 11.7 Q 537.7 11.2, 537.4 10.9 Q 537.1 10.6, 536.7 10.6 Q 536.3 10.6, 536.0 10.8 Q 535.7 10.9, 535.5 11.3 L 534.9 11.1 \" fill=\"#000000\"/>\n",
       "<path class=\"note\" d=\"M 526.4 185.6 Q 526.5 185.1, 527.0 184.9 Q 527.5 184.6, 528.1 184.6 Q 528.9 184.6, 529.4 185.0 Q 529.8 185.5, 529.8 186.2 Q 529.8 187.0, 529.2 187.7 Q 528.6 188.5, 527.5 189.3 L 529.9 189.3 L 529.9 189.9 L 526.3 189.9 L 526.3 189.4 Q 527.3 188.7, 527.9 188.2 Q 528.5 187.7, 528.8 187.2 Q 529.1 186.7, 529.1 186.3 Q 529.1 185.8, 528.8 185.5 Q 528.5 185.2, 528.1 185.2 Q 527.7 185.2, 527.4 185.4 Q 527.1 185.5, 526.9 185.9 L 526.4 185.6 \" fill=\"#000000\"/>\n",
       "<path class=\"note\" d=\"M 533.2 187.1 Q 533.7 187.3, 534.0 187.6 Q 534.2 188.0, 534.2 188.5 Q 534.2 188.9, 534.0 189.3 Q 533.8 189.6, 533.4 189.8 Q 533.0 190.0, 532.4 190.0 Q 531.9 190.0, 531.4 189.8 Q 531.0 189.6, 530.7 189.2 L 531.1 188.8 Q 531.4 189.1, 531.7 189.3 Q 532.0 189.4, 532.4 189.4 Q 532.9 189.4, 533.2 189.2 Q 533.5 188.9, 533.5 188.5 Q 533.5 187.9, 533.2 187.7 Q 532.9 187.5, 532.2 187.5 L 531.9 187.5 L 531.9 186.9 L 532.2 186.9 Q 532.8 186.9, 533.1 186.7 Q 533.4 186.4, 533.4 185.9 Q 533.4 185.6, 533.1 185.4 Q 532.9 185.2, 532.4 185.2 Q 532.0 185.2, 531.7 185.3 Q 531.5 185.5, 531.3 185.9 L 530.7 185.6 Q 530.9 185.2, 531.4 184.9 Q 531.8 184.6, 532.4 184.6 Q 533.2 184.6, 533.7 185.0 Q 534.1 185.3, 534.1 185.9 Q 534.1 186.4, 533.9 186.7 Q 533.7 187.0, 533.2 187.1 \" fill=\"#000000\"/>\n",
       "</svg>"
      ],
      "text/plain": [
       "<IPython.core.display.SVG object>"
      ]
     },
     "metadata": {},
     "output_type": "display_data"
    }
   ],
   "source": [
    "glucose_inchi = \"InChI=1S/C6H12O6/c7-1-3(9)5(11)6(12)4(10)2-8/h1,3-6,8-12H,2H2/t3-,4+,5+,6+/m0/s1\"\n",
    "glucose_mol = rdkit.Chem.MolFromInchi(glucose_inchi, removeHs=False,)\n",
    "scrg = StereoCondensedReactionGraph.from_rdmol(glucose_mol)\n",
    "smg = StereoMolGraph.from_rdmol(glucose_mol)\n",
    "smg"
   ]
  },
  {
   "cell_type": "code",
   "execution_count": null,
   "metadata": {},
   "outputs": [
    {
     "data": {
      "text/plain": [
       "mappingproxy({0: {BROKEN: Tetrahedral((0, 1, 2, 5, 6), 1)},\n",
       "              1: {BROKEN: Tetrahedral((1, 0, 3, 7, 8), 1)},\n",
       "              (0, 1): {FORMED: PlanarBond((5, 6, 1, 0, 7, 8), None)}})"
      ]
     },
     "execution_count": 4,
     "metadata": {},
     "output_type": "execute_result"
    },
    {
     "ename": "NotImplementedError",
     "evalue": "Handling of missing atoms not supported yet",
     "output_type": "error",
     "traceback": [
      "\u001b[31m---------------------------------------------------------------------------\u001b[39m",
      "\u001b[31mNotImplementedError\u001b[39m                       Traceback (most recent call last)",
      "\u001b[36mCell\u001b[39m\u001b[36m \u001b[39m\u001b[32mIn[4]\u001b[39m\u001b[32m, line 24\u001b[39m\n\u001b[32m     20\u001b[39m dehyd.set_bond_stereo_change((\u001b[32m1\u001b[39m,\u001b[32m0\u001b[39m), formed=PlanarBond((\u001b[32m5\u001b[39m,\u001b[32m6\u001b[39m,\u001b[32m1\u001b[39m,\u001b[32m0\u001b[39m,\u001b[32m7\u001b[39m,\u001b[32m8\u001b[39m)))\n\u001b[32m     22\u001b[39m dehyd.stereo_changes\n\u001b[32m---> \u001b[39m\u001b[32m24\u001b[39m m,_ = \u001b[43mdehyd\u001b[49m\u001b[43m.\u001b[49m\u001b[43m_to_rdmol\u001b[49m\u001b[43m(\u001b[49m\u001b[43mgenerate_bond_orders\u001b[49m\u001b[43m=\u001b[49m\u001b[38;5;28;43;01mTrue\u001b[39;49;00m\u001b[43m)\u001b[49m\n",
      "\u001b[36mFile \u001b[39m\u001b[32m~\\Desktop\\chemtrayzer\\github\\StereoMolGraph\\src\\stereomolgraph\\graph.py:1970\u001b[39m, in \u001b[36mStereoCondensedReactionGraph._to_rdmol\u001b[39m\u001b[34m(self, generate_bond_orders, charge)\u001b[39m\n\u001b[32m   1967\u001b[39m     \u001b[38;5;28;01mif\u001b[39;00m bond_stereo:\n\u001b[32m   1968\u001b[39m         ts_smg.set_bond_stereo(bond, bond_stereo)\n\u001b[32m-> \u001b[39m\u001b[32m1970\u001b[39m mol, idx_map_num_dict = \u001b[43mts_smg\u001b[49m\u001b[43m.\u001b[49m\u001b[43m_to_rdmol\u001b[49m\u001b[43m(\u001b[49m\n\u001b[32m   1971\u001b[39m \u001b[43m    \u001b[49m\u001b[43mgenerate_bond_orders\u001b[49m\u001b[43m=\u001b[49m\u001b[38;5;28;43;01mFalse\u001b[39;49;00m\u001b[43m,\u001b[49m\u001b[43m \u001b[49m\u001b[43mcharge\u001b[49m\u001b[43m=\u001b[49m\u001b[43mcharge\u001b[49m\u001b[43m)\u001b[49m\n\u001b[32m   1972\u001b[39m \u001b[38;5;28;01mif\u001b[39;00m generate_bond_orders:\n\u001b[32m   1973\u001b[39m     mol = _set_crg_bond_orders(graph=\u001b[38;5;28mself\u001b[39m,\n\u001b[32m   1974\u001b[39m                          mol=mol,\n\u001b[32m   1975\u001b[39m                          charge=charge,\n\u001b[32m   1976\u001b[39m                          idx_map_num_dict=idx_map_num_dict)\n",
      "\u001b[36mFile \u001b[39m\u001b[32m~\\Desktop\\chemtrayzer\\github\\StereoMolGraph\\src\\stereomolgraph\\graph.py:1418\u001b[39m, in \u001b[36mStereoMolGraph._to_rdmol\u001b[39m\u001b[34m(self, generate_bond_orders, charge)\u001b[39m\n\u001b[32m   1409\u001b[39m \u001b[38;5;28;01mdef\u001b[39;00m\u001b[38;5;250m \u001b[39m\u001b[34m_to_rdmol\u001b[39m(\n\u001b[32m   1410\u001b[39m     \u001b[38;5;28mself\u001b[39m, generate_bond_orders=\u001b[38;5;28;01mFalse\u001b[39;00m, charge=\u001b[32m0\u001b[39m\n\u001b[32m   1411\u001b[39m ) -> \u001b[38;5;28mtuple\u001b[39m[Chem.rdchem.RWMol, \u001b[38;5;28mdict\u001b[39m[\u001b[38;5;28mint\u001b[39m, \u001b[38;5;28mint\u001b[39m]]:\n\u001b[32m   1412\u001b[39m \u001b[38;5;250m    \u001b[39m\u001b[33;03m\"\"\"\u001b[39;00m\n\u001b[32m   1413\u001b[39m \u001b[33;03m    Creates a RDKit mol object using the connectivity of the mol graph.\u001b[39;00m\n\u001b[32m   1414\u001b[39m \u001b[33;03m    Stereochemistry is added to the mol object.\u001b[39;00m\n\u001b[32m   1415\u001b[39m \n\u001b[32m   1416\u001b[39m \u001b[33;03m    :return: RDKit molecule\u001b[39;00m\n\u001b[32m   1417\u001b[39m \u001b[33;03m    \"\"\"\u001b[39;00m\n\u001b[32m-> \u001b[39m\u001b[32m1418\u001b[39m     \u001b[38;5;28;01mreturn\u001b[39;00m \u001b[43m_stereo_mol_graph_to_rdmol\u001b[49m\u001b[43m(\u001b[49m\u001b[38;5;28;43mself\u001b[39;49m\u001b[43m,\u001b[49m\n\u001b[32m   1419\u001b[39m \u001b[43m                                      \u001b[49m\u001b[43mgenerate_bond_orders\u001b[49m\u001b[43m=\u001b[49m\u001b[43mgenerate_bond_orders\u001b[49m\u001b[43m,\u001b[49m\n\u001b[32m   1420\u001b[39m \u001b[43m                                      \u001b[49m\u001b[43mcharge\u001b[49m\u001b[43m=\u001b[49m\u001b[43mcharge\u001b[49m\u001b[43m)\u001b[49m\n",
      "\u001b[36mFile \u001b[39m\u001b[32m~\\Desktop\\chemtrayzer\\github\\StereoMolGraph\\src\\stereomolgraph\\graph2rdmol.py:154\u001b[39m, in \u001b[36m_stereo_mol_graph_to_rdmol\u001b[39m\u001b[34m(graph, generate_bond_orders, charge)\u001b[39m\n\u001b[32m    149\u001b[39m rd_atom = mol.GetAtomWithIdx(atom_idx)\n\u001b[32m    151\u001b[39m \u001b[38;5;28;01mif\u001b[39;00m a_stereo \u001b[38;5;129;01mis\u001b[39;00m \u001b[38;5;129;01mnot\u001b[39;00m \u001b[38;5;28;01mNone\u001b[39;00m \u001b[38;5;129;01mand\u001b[39;00m \u001b[38;5;28many\u001b[39m(\n\u001b[32m    152\u001b[39m     a \u001b[38;5;129;01mnot\u001b[39;00m \u001b[38;5;129;01min\u001b[39;00m graph.atoms \u001b[38;5;28;01mfor\u001b[39;00m a \u001b[38;5;129;01min\u001b[39;00m a_stereo.atoms\n\u001b[32m    153\u001b[39m ):\n\u001b[32m--> \u001b[39m\u001b[32m154\u001b[39m     \u001b[38;5;28;01mraise\u001b[39;00m \u001b[38;5;167;01mNotImplementedError\u001b[39;00m(\u001b[33m\"\u001b[39m\u001b[33mHandling of missing atoms not supported yet\u001b[39m\u001b[33m\"\u001b[39m)\n\u001b[32m    155\u001b[39m     \u001b[38;5;28;01mfor\u001b[39;00m mis_a \u001b[38;5;129;01min\u001b[39;00m [\n\u001b[32m    156\u001b[39m         a \u001b[38;5;28;01mfor\u001b[39;00m a \u001b[38;5;129;01min\u001b[39;00m a_stereo.atoms[\u001b[32m1\u001b[39m:] \u001b[38;5;28;01mif\u001b[39;00m a \u001b[38;5;129;01mnot\u001b[39;00m \u001b[38;5;129;01min\u001b[39;00m graph.atoms\n\u001b[32m    157\u001b[39m     ]:\n\u001b[32m    158\u001b[39m         \u001b[38;5;28;01mif\u001b[39;00m mis_a \u001b[38;5;129;01mnot\u001b[39;00m \u001b[38;5;129;01min\u001b[39;00m map_num_idx_dict:\n\u001b[32m    159\u001b[39m             \u001b[38;5;66;03m# add dummy atom\u001b[39;00m\n",
      "\u001b[31mNotImplementedError\u001b[39m: Handling of missing atoms not supported yet"
     ]
    }
   ],
   "source": [
    "dehyd = StereoCondensedReactionGraph()\n",
    "dehyd.add_atom(0, \"C\")\n",
    "dehyd.add_atom(1, \"C\")\n",
    "dehyd.add_atom(2, \"O\")\n",
    "dehyd.add_atom(3, \"H\")\n",
    "dehyd.add_atom(4, \"H\")\n",
    "\n",
    "dehyd.add_bond(0, 1)\n",
    "dehyd.add_bond(2, 4)\n",
    "\n",
    "dehyd.add_formed_bond(2, 3)\n",
    "\n",
    "dehyd.add_broken_bond(0, 2)\n",
    "dehyd.add_broken_bond(1, 3)\n",
    "\n",
    "dehyd.set_atom_stereo_change(0, broken=Tetrahedral((0, 1, 2, 5, 6), 1))\n",
    "\n",
    "dehyd.set_atom_stereo_change(1, broken= Tetrahedral((1, 0, 3, 7, 8), 1))\n",
    "\n",
    "dehyd.set_bond_stereo_change((1,0), formed=PlanarBond((5,6,1,0,7,8)))\n",
    "\n",
    "dehyd.stereo_changes\n",
    "\n",
    "m, _ = dehyd._to_rdmol(generate_bond_orders=True)"
   ]
  },
  {
   "cell_type": "code",
   "execution_count": null,
   "metadata": {},
   "outputs": [],
   "source": [
    "r = dehyd.reactant()\n",
    "p = dehyd.product()\n",
    "r.stereo\n",
    "r\n",
    "p.stereo\n",
    "p\n"
   ]
  },
  {
   "cell_type": "code",
   "execution_count": null,
   "metadata": {},
   "outputs": [],
   "source": [
    "r"
   ]
  },
  {
   "cell_type": "code",
   "execution_count": null,
   "metadata": {},
   "outputs": [],
   "source": [
    "p"
   ]
  },
  {
   "cell_type": "code",
   "execution_count": null,
   "metadata": {},
   "outputs": [],
   "source": [
    "from  stereomolgraph.graph import StereoChange\n",
    "self  = dehyd\n",
    "ts_smg = StereoMolGraph(self) # bond change is now just a bond\n",
    "for atom, stereo_change_dict in self.atom_stereo_changes.items():\n",
    "            atom_stereo = next((stereo for stereo_change in (StereoChange.FLEETING,\n",
    "                                                             StereoChange.BROKEN,\n",
    "                                                             StereoChange.FORMED)\n",
    "                                if (stereo := stereo_change_dict[stereo_change]) is not None), None)\n",
    "            if atom_stereo:\n",
    "                ts_smg.set_atom_stereo(atom, atom_stereo)\n",
    "\n",
    "for bond, stereo_change_dict in self.bond_stereo_changes.items():\n",
    "            bond_stereo = next((stereo for stereo_change in (StereoChange.FLEETING,\n",
    "                                                             StereoChange.BROKEN,\n",
    "                                                             StereoChange.FORMED)\n",
    "                                if (stereo := stereo_change_dict[stereo_change]) is not None), None)\n",
    "            if bond_stereo:\n",
    "                ts_smg.set_bond_stereo(bond, bond_stereo)\n"
   ]
  },
  {
   "cell_type": "code",
   "execution_count": null,
   "metadata": {},
   "outputs": [],
   "source": [
    "r\n",
    "ts_smg\n",
    "p"
   ]
  },
  {
   "cell_type": "code",
   "execution_count": null,
   "metadata": {},
   "outputs": [],
   "source": [
    "ts_smg.atoms\n",
    "ts_smg.bonds\n",
    "ts_smg.stereo"
   ]
  },
  {
   "cell_type": "code",
   "execution_count": null,
   "metadata": {},
   "outputs": [],
   "source": [
    "mol = ts_smg.to_mol(generate_bond_orders=False)"
   ]
  },
  {
   "cell_type": "code",
   "execution_count": null,
   "metadata": {},
   "outputs": [],
   "source": [
    "mol"
   ]
  },
  {
   "cell_type": "code",
   "execution_count": null,
   "metadata": {},
   "outputs": [],
   "source": [
    "scrg"
   ]
  },
  {
   "cell_type": "code",
   "execution_count": null,
   "metadata": {},
   "outputs": [],
   "source": []
  }
 ],
 "metadata": {
  "kernelspec": {
   "display_name": "maxim",
   "language": "python",
   "name": "python3"
  },
  "language_info": {
   "codemirror_mode": {
    "name": "ipython",
    "version": 3
   },
   "file_extension": ".py",
   "mimetype": "text/x-python",
   "name": "python",
   "nbconvert_exporter": "python",
   "pygments_lexer": "ipython3",
   "version": "3.13.3"
  }
 },
 "nbformat": 4,
 "nbformat_minor": 2
}
