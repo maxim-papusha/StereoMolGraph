{
 "cells": [
  {
   "cell_type": "markdown",
   "id": "7acb518e",
   "metadata": {},
   "source": [
    "# Comparing Molecules: Identical, Diastereomers, Enantiomers?  #"
   ]
  },
  {
   "cell_type": "code",
   "execution_count": 1,
   "id": "aff3d8fe",
   "metadata": {},
   "outputs": [],
   "source": [
    "import rdkit.Chem as Chem\n",
    "from rdkit.Chem import Draw\n",
    "\n",
    "from stereomolgraph import StereoMolGraph\n",
    "from stereomolgraph.ipython import View2D\n",
    "\n",
    "from stereomolgraph.experimental import Graph2JSON\n",
    "\n",
    "from IPython.core.interactiveshell import InteractiveShell\n",
    "InteractiveShell.ast_node_interactivity = \"all\"\n",
    "\n",
    "View2D.show_atom_numbers = True\n",
    "View2D.show_h = True\n",
    "View2D.generate_bond_orders = False\n",
    "View2D.height = 200\n",
    "View2D.width = 500"
   ]
  },
  {
   "cell_type": "code",
   "execution_count": 29,
   "id": "e14c487c",
   "metadata": {},
   "outputs": [
    {
     "name": "stderr",
     "output_type": "stream",
     "text": [
      "[10:49:37] WARNING:  Problems/mismatches: Mobile-H( Hydrogens: Locations or number; Mobile-H groups: Falsely present, Attachment points)\n",
      "\n"
     ]
    },
    {
     "data": {
      "image/png": "[encoded data removed]",
      "text/plain": [
       "<PIL.Image.Image image mode=RGBA size=400x200>"
      ]
     },
     "execution_count": 29,
     "metadata": {},
     "output_type": "execute_result"
    }
   ],
   "source": [
    "inchi = \"InChI=1S/H2N2O2/c1-2(3)4/h1,3H\"\n",
    "\n",
    "rdmol1 = Chem.AddHs(Chem.MolFromInchi(inchi), explicitOnly=False)\n",
    "Draw.MolsToImage(list(Chem.ResonanceMolSupplier(rdmol1)))\n",
    "\n",
    "rdmol2 = list(Chem.ResonanceMolSupplier(rdmol1))[0]\n"
   ]
  },
  {
   "cell_type": "code",
   "execution_count": 30,
   "id": "4ba59376",
   "metadata": {},
   "outputs": [
    {
     "name": "stdout",
     "output_type": "stream",
     "text": [
      "Aromatic Bond Stereo\n"
     ]
    },
    {
     "data": {
      "image/svg+xml": [
       "<svg xmlns=\"http://www.w3.org/2000/svg\" xmlns:rdkit=\"http://www.rdkit.org/xml\" xmlns:xlink=\"http://www.w3.org/1999/xlink\" version=\"1.1\" baseProfile=\"full\" xml:space=\"preserve\" width=\"500px\" height=\"200px\" viewBox=\"0 0 500 200\">\n",
       "<!-- END OF HEADER -->\n",
       "<rect style=\"opacity:1.0;fill:#FFFFFF;stroke:none\" width=\"500.0\" height=\"200.0\" x=\"0.0\" y=\"0.0\"> </rect>\n",
       "<path class=\"bond-0 atom-0 atom-1\" d=\"M 189.2,87.2 L 221.0,105.6\" style=\"fill:none;fill-rule:evenodd;stroke:#000000;stroke-width:2.0px;stroke-linecap:butt;stroke-linejoin:miter;stroke-opacity:1\"/>\n",
       "<path class=\"bond-0 atom-0 atom-1\" d=\"M 185.1,94.3 L 216.9,112.6\" style=\"fill:none;fill-rule:evenodd;stroke:#000000;stroke-width:2.0px;stroke-linecap:butt;stroke-linejoin:miter;stroke-opacity:1;stroke-dasharray:6,4\"/>\n",
       "<path class=\"bond-1 atom-0 atom-4\" d=\"M 179.5,76.8 L 179.5,41.5\" style=\"fill:none;fill-rule:evenodd;stroke:#000000;stroke-width:2.0px;stroke-linecap:butt;stroke-linejoin:miter;stroke-opacity:1\"/>\n",
       "<path class=\"bond-2 atom-1 atom-2\" d=\"M 234.2,109.1 L 264.8,91.4\" style=\"fill:none;fill-rule:evenodd;stroke:#000000;stroke-width:2.0px;stroke-linecap:butt;stroke-linejoin:miter;stroke-opacity:1\"/>\n",
       "<path class=\"bond-3 atom-1 atom-3\" d=\"M 226.6,123.0 L 226.6,158.3\" style=\"fill:none;fill-rule:evenodd;stroke:#000000;stroke-width:2.0px;stroke-linecap:butt;stroke-linejoin:miter;stroke-opacity:1\"/>\n",
       "<path class=\"bond-4 atom-2 atom-5\" d=\"M 282.5,91.4 L 312.9,109.0\" style=\"fill:none;fill-rule:evenodd;stroke:#000000;stroke-width:2.0px;stroke-linecap:butt;stroke-linejoin:miter;stroke-opacity:1\"/>\n",
       "<path class=\"atom-0\" d=\"M 176.1 78.6 L 181.1 86.8 Q 181.6 87.6, 182.4 89.1 Q 183.2 90.5, 183.3 90.6 L 183.3 78.6 L 185.3 78.6 L 185.3 94.0 L 183.2 94.0 L 177.8 85.1 Q 177.2 84.1, 176.5 82.9 Q 175.8 81.7, 175.6 81.3 L 175.6 94.0 L 173.6 94.0 L 173.6 78.6 L 176.1 78.6 \" fill=\"#000000\"/>\n",
       "<path class=\"atom-1\" d=\"M 223.2 105.8 L 228.2 114.0 Q 228.7 114.8, 229.5 116.2 Q 230.3 117.7, 230.4 117.8 L 230.4 105.8 L 232.4 105.8 L 232.4 121.2 L 230.3 121.2 L 224.9 112.3 Q 224.3 111.3, 223.6 110.1 Q 222.9 108.9, 222.7 108.5 L 222.7 121.2 L 220.7 121.2 L 220.7 105.8 L 223.2 105.8 \" fill=\"#000000\"/>\n",
       "<path class=\"atom-2\" d=\"M 266.6 86.4 Q 266.6 82.7, 268.4 80.6 Q 270.2 78.5, 273.6 78.5 Q 277.1 78.5, 278.9 80.6 Q 280.7 82.7, 280.7 86.4 Q 280.7 90.1, 278.9 92.2 Q 277.0 94.4, 273.6 94.4 Q 270.3 94.4, 268.4 92.2 Q 266.6 90.1, 266.6 86.4 M 273.6 92.6 Q 276.0 92.6, 277.3 91.1 Q 278.5 89.5, 278.5 86.4 Q 278.5 83.4, 277.3 81.8 Q 276.0 80.3, 273.6 80.3 Q 271.3 80.3, 270.0 81.8 Q 268.8 83.3, 268.8 86.4 Q 268.8 89.5, 270.0 91.1 Q 271.3 92.6, 273.6 92.6 \" fill=\"#000000\"/>\n",
       "<path class=\"atom-3\" d=\"M 219.5 167.9 Q 219.5 164.2, 221.3 162.2 Q 223.2 160.1, 226.6 160.1 Q 230.0 160.1, 231.8 162.2 Q 233.6 164.2, 233.6 167.9 Q 233.6 171.7, 231.8 173.8 Q 229.9 175.9, 226.6 175.9 Q 223.2 175.9, 221.3 173.8 Q 219.5 171.7, 219.5 167.9 M 226.6 174.2 Q 228.9 174.2, 230.2 172.6 Q 231.5 171.0, 231.5 167.9 Q 231.5 164.9, 230.2 163.4 Q 228.9 161.8, 226.6 161.8 Q 224.2 161.8, 222.9 163.4 Q 221.7 164.9, 221.7 167.9 Q 221.7 171.0, 222.9 172.6 Q 224.2 174.2, 226.6 174.2 \" fill=\"#000000\"/>\n",
       "<path class=\"atom-4\" d=\"M 173.5 24.3 L 175.6 24.3 L 175.6 30.8 L 183.4 30.8 L 183.4 24.3 L 185.5 24.3 L 185.5 39.7 L 183.4 39.7 L 183.4 32.6 L 175.6 32.6 L 175.6 39.7 L 173.5 39.7 L 173.5 24.3 \" fill=\"#000000\"/>\n",
       "<path class=\"atom-5\" d=\"M 314.7 105.8 L 316.8 105.8 L 316.8 112.4 L 324.7 112.4 L 324.7 105.8 L 326.7 105.8 L 326.7 121.2 L 324.7 121.2 L 324.7 114.1 L 316.8 114.1 L 316.8 121.2 L 314.7 121.2 L 314.7 105.8 \" fill=\"#000000\"/>\n",
       "<path class=\"note\" d=\"M 163.8 99.4 Q 162.4 99.4, 161.7 98.3 Q 161.0 97.3, 161.0 95.4 Q 161.0 93.6, 161.7 92.5 Q 162.4 91.5, 163.8 91.5 Q 165.2 91.5, 165.9 92.5 Q 166.6 93.6, 166.6 95.4 Q 166.6 97.3, 165.9 98.3 Q 165.2 99.4, 163.8 99.4 M 163.8 98.5 Q 164.6 98.5, 165.1 97.7 Q 165.5 96.9, 165.5 95.4 Q 165.5 93.9, 165.1 93.1 Q 164.6 92.4, 163.8 92.4 Q 163.0 92.4, 162.5 93.1 Q 162.1 93.9, 162.1 95.4 Q 162.1 96.9, 162.5 97.7 Q 163.0 98.5, 163.8 98.5 \" fill=\"#000000\"/>\n",
       "<path class=\"note\" d=\"M 224.7 98.4 L 226.4 98.4 L 226.4 92.6 L 224.5 93.2 L 224.2 92.6 L 226.6 91.5 L 227.4 91.7 L 227.4 98.4 L 228.9 98.4 L 228.9 99.3 L 224.7 99.3 L 224.7 98.4 \" fill=\"#000000\"/>\n",
       "<path class=\"note\" d=\"M 271.1 65.9 Q 271.4 65.1, 272.0 64.7 Q 272.7 64.3, 273.6 64.3 Q 274.8 64.3, 275.5 65.0 Q 276.1 65.6, 276.1 66.7 Q 276.1 67.8, 275.3 68.9 Q 274.4 70.0, 272.7 71.2 L 276.2 71.2 L 276.2 72.1 L 271.1 72.1 L 271.1 71.4 Q 272.5 70.4, 273.3 69.6 Q 274.2 68.8, 274.6 68.1 Q 275.0 67.5, 275.0 66.8 Q 275.0 66.0, 274.7 65.6 Q 274.3 65.2, 273.6 65.2 Q 273.0 65.2, 272.6 65.4 Q 272.2 65.7, 271.9 66.2 L 271.1 65.9 \" fill=\"#000000\"/>\n",
       "<path class=\"note\" d=\"M 227.7 185.8 Q 228.4 186.1, 228.8 186.5 Q 229.2 187.0, 229.2 187.8 Q 229.2 188.4, 228.8 188.9 Q 228.5 189.4, 227.9 189.7 Q 227.3 190.0, 226.5 190.0 Q 225.7 190.0, 225.1 189.7 Q 224.5 189.4, 224.0 188.8 L 224.6 188.2 Q 225.1 188.7, 225.5 188.9 Q 225.9 189.1, 226.5 189.1 Q 227.2 189.1, 227.6 188.8 Q 228.1 188.4, 228.1 187.8 Q 228.1 187.0, 227.6 186.6 Q 227.2 186.3, 226.2 186.3 L 225.7 186.3 L 225.7 185.5 L 226.2 185.5 Q 227.0 185.5, 227.5 185.1 Q 227.9 184.8, 227.9 184.1 Q 227.9 183.6, 227.5 183.3 Q 227.2 183.0, 226.5 183.0 Q 225.9 183.0, 225.5 183.2 Q 225.1 183.4, 224.8 184.0 L 224.0 183.6 Q 224.3 183.0, 225.0 182.5 Q 225.6 182.1, 226.5 182.1 Q 227.7 182.1, 228.3 182.6 Q 229.0 183.2, 229.0 184.1 Q 229.0 184.7, 228.7 185.1 Q 228.3 185.6, 227.7 185.8 \" fill=\"#000000\"/>\n",
       "<path class=\"note\" d=\"M 181.5 15.1 L 182.4 15.1 L 182.4 15.9 L 181.5 15.9 L 181.5 17.7 L 180.5 17.7 L 180.5 15.9 L 176.5 15.9 L 176.5 15.2 L 179.9 10.0 L 181.5 10.0 L 181.5 15.1 M 177.8 15.1 L 180.5 15.1 L 180.5 10.7 L 177.8 15.1 \" fill=\"#000000\"/>\n",
       "<path class=\"note\" d=\"M 336.6 121.6 Q 337.3 121.6, 337.8 121.9 Q 338.4 122.2, 338.7 122.7 Q 339.0 123.3, 339.0 124.0 Q 339.0 124.8, 338.6 125.4 Q 338.3 125.9, 337.6 126.2 Q 337.0 126.5, 336.3 126.5 Q 335.6 126.5, 334.9 126.3 Q 334.3 126.0, 333.8 125.5 L 334.5 124.8 Q 334.8 125.2, 335.3 125.4 Q 335.8 125.6, 336.3 125.6 Q 337.0 125.6, 337.5 125.2 Q 337.9 124.8, 337.9 124.0 Q 337.9 123.2, 337.5 122.8 Q 337.0 122.4, 336.2 122.4 Q 335.6 122.4, 334.8 122.7 L 334.2 122.4 L 334.6 118.7 L 338.5 118.7 L 338.4 119.6 L 335.5 119.6 L 335.3 121.9 Q 335.9 121.6, 336.6 121.6 \" fill=\"#000000\"/>\n",
       "</svg>"
      ],
      "text/plain": [
       "<IPython.core.display.SVG object>"
      ]
     },
     "metadata": {},
     "output_type": "display_data"
    }
   ],
   "source": [
    "smg0 = StereoMolGraph.from_rdmol(rdmol2)\n",
    "smg0"
   ]
  },
  {
   "cell_type": "code",
   "execution_count": 31,
   "id": "e3a8f2a0",
   "metadata": {},
   "outputs": [
    {
     "data": {
      "image/svg+xml": [
       "<svg xmlns=\"http://www.w3.org/2000/svg\" xmlns:rdkit=\"http://www.rdkit.org/xml\" xmlns:xlink=\"http://www.w3.org/1999/xlink\" version=\"1.1\" baseProfile=\"full\" xml:space=\"preserve\" width=\"500px\" height=\"200px\" viewBox=\"0 0 500 200\">\n",
       "<!-- END OF HEADER -->\n",
       "<rect style=\"opacity:1.0;fill:#FFFFFF;stroke:none\" width=\"500.0\" height=\"200.0\" x=\"0.0\" y=\"0.0\"> </rect>\n",
       "<path class=\"bond-0 atom-0 atom-1\" d=\"M 189.2,87.2 L 221.0,105.6\" style=\"fill:none;fill-rule:evenodd;stroke:#000000;stroke-width:2.0px;stroke-linecap:butt;stroke-linejoin:miter;stroke-opacity:1\"/>\n",
       "<path class=\"bond-0 atom-0 atom-1\" d=\"M 185.1,94.3 L 216.9,112.6\" style=\"fill:none;fill-rule:evenodd;stroke:#000000;stroke-width:2.0px;stroke-linecap:butt;stroke-linejoin:miter;stroke-opacity:1;stroke-dasharray:6,4\"/>\n",
       "<path class=\"bond-1 atom-0 atom-4\" d=\"M 179.5,76.8 L 179.5,41.5\" style=\"fill:none;fill-rule:evenodd;stroke:#000000;stroke-width:2.0px;stroke-linecap:butt;stroke-linejoin:miter;stroke-opacity:1\"/>\n",
       "<path class=\"bond-2 atom-1 atom-2\" d=\"M 234.2,109.1 L 264.8,91.4\" style=\"fill:none;fill-rule:evenodd;stroke:#000000;stroke-width:2.0px;stroke-linecap:butt;stroke-linejoin:miter;stroke-opacity:1\"/>\n",
       "<path class=\"bond-3 atom-1 atom-3\" d=\"M 226.6,123.0 L 226.6,158.3\" style=\"fill:none;fill-rule:evenodd;stroke:#000000;stroke-width:2.0px;stroke-linecap:butt;stroke-linejoin:miter;stroke-opacity:1\"/>\n",
       "<path class=\"bond-4 atom-2 atom-5\" d=\"M 282.5,91.4 L 312.9,109.0\" style=\"fill:none;fill-rule:evenodd;stroke:#000000;stroke-width:2.0px;stroke-linecap:butt;stroke-linejoin:miter;stroke-opacity:1\"/>\n",
       "<path class=\"atom-0\" d=\"M 176.1 78.6 L 181.1 86.8 Q 181.6 87.6, 182.4 89.1 Q 183.2 90.5, 183.3 90.6 L 183.3 78.6 L 185.3 78.6 L 185.3 94.0 L 183.2 94.0 L 177.8 85.1 Q 177.2 84.1, 176.5 82.9 Q 175.8 81.7, 175.6 81.3 L 175.6 94.0 L 173.6 94.0 L 173.6 78.6 L 176.1 78.6 \" fill=\"#000000\"/>\n",
       "<path class=\"atom-1\" d=\"M 223.2 105.8 L 228.2 114.0 Q 228.7 114.8, 229.5 116.2 Q 230.3 117.7, 230.4 117.8 L 230.4 105.8 L 232.4 105.8 L 232.4 121.2 L 230.3 121.2 L 224.9 112.3 Q 224.3 111.3, 223.6 110.1 Q 222.9 108.9, 222.7 108.5 L 222.7 121.2 L 220.7 121.2 L 220.7 105.8 L 223.2 105.8 \" fill=\"#000000\"/>\n",
       "<path class=\"atom-2\" d=\"M 266.6 86.4 Q 266.6 82.7, 268.4 80.6 Q 270.2 78.5, 273.6 78.5 Q 277.1 78.5, 278.9 80.6 Q 280.7 82.7, 280.7 86.4 Q 280.7 90.1, 278.9 92.2 Q 277.0 94.4, 273.6 94.4 Q 270.3 94.4, 268.4 92.2 Q 266.6 90.1, 266.6 86.4 M 273.6 92.6 Q 276.0 92.6, 277.3 91.1 Q 278.5 89.5, 278.5 86.4 Q 278.5 83.4, 277.3 81.8 Q 276.0 80.3, 273.6 80.3 Q 271.3 80.3, 270.0 81.8 Q 268.8 83.3, 268.8 86.4 Q 268.8 89.5, 270.0 91.1 Q 271.3 92.6, 273.6 92.6 \" fill=\"#000000\"/>\n",
       "<path class=\"atom-3\" d=\"M 219.5 167.9 Q 219.5 164.2, 221.3 162.2 Q 223.2 160.1, 226.6 160.1 Q 230.0 160.1, 231.8 162.2 Q 233.6 164.2, 233.6 167.9 Q 233.6 171.7, 231.8 173.8 Q 229.9 175.9, 226.6 175.9 Q 223.2 175.9, 221.3 173.8 Q 219.5 171.7, 219.5 167.9 M 226.6 174.2 Q 228.9 174.2, 230.2 172.6 Q 231.5 171.0, 231.5 167.9 Q 231.5 164.9, 230.2 163.4 Q 228.9 161.8, 226.6 161.8 Q 224.2 161.8, 222.9 163.4 Q 221.7 164.9, 221.7 167.9 Q 221.7 171.0, 222.9 172.6 Q 224.2 174.2, 226.6 174.2 \" fill=\"#000000\"/>\n",
       "<path class=\"atom-4\" d=\"M 173.5 24.3 L 175.6 24.3 L 175.6 30.8 L 183.4 30.8 L 183.4 24.3 L 185.5 24.3 L 185.5 39.7 L 183.4 39.7 L 183.4 32.6 L 175.6 32.6 L 175.6 39.7 L 173.5 39.7 L 173.5 24.3 \" fill=\"#000000\"/>\n",
       "<path class=\"atom-5\" d=\"M 314.7 105.8 L 316.8 105.8 L 316.8 112.4 L 324.7 112.4 L 324.7 105.8 L 326.7 105.8 L 326.7 121.2 L 324.7 121.2 L 324.7 114.1 L 316.8 114.1 L 316.8 121.2 L 314.7 121.2 L 314.7 105.8 \" fill=\"#000000\"/>\n",
       "<path class=\"note\" d=\"M 163.8 99.4 Q 162.4 99.4, 161.7 98.3 Q 161.0 97.3, 161.0 95.4 Q 161.0 93.6, 161.7 92.5 Q 162.4 91.5, 163.8 91.5 Q 165.2 91.5, 165.9 92.5 Q 166.6 93.6, 166.6 95.4 Q 166.6 97.3, 165.9 98.3 Q 165.2 99.4, 163.8 99.4 M 163.8 98.5 Q 164.6 98.5, 165.1 97.7 Q 165.5 96.9, 165.5 95.4 Q 165.5 93.9, 165.1 93.1 Q 164.6 92.4, 163.8 92.4 Q 163.0 92.4, 162.5 93.1 Q 162.1 93.9, 162.1 95.4 Q 162.1 96.9, 162.5 97.7 Q 163.0 98.5, 163.8 98.5 \" fill=\"#000000\"/>\n",
       "<path class=\"note\" d=\"M 224.7 98.4 L 226.4 98.4 L 226.4 92.6 L 224.5 93.2 L 224.2 92.6 L 226.6 91.5 L 227.4 91.7 L 227.4 98.4 L 228.9 98.4 L 228.9 99.3 L 224.7 99.3 L 224.7 98.4 \" fill=\"#000000\"/>\n",
       "<path class=\"note\" d=\"M 271.1 65.9 Q 271.4 65.1, 272.0 64.7 Q 272.7 64.3, 273.6 64.3 Q 274.8 64.3, 275.5 65.0 Q 276.1 65.6, 276.1 66.7 Q 276.1 67.8, 275.3 68.9 Q 274.4 70.0, 272.7 71.2 L 276.2 71.2 L 276.2 72.1 L 271.1 72.1 L 271.1 71.4 Q 272.5 70.4, 273.3 69.6 Q 274.2 68.8, 274.6 68.1 Q 275.0 67.5, 275.0 66.8 Q 275.0 66.0, 274.7 65.6 Q 274.3 65.2, 273.6 65.2 Q 273.0 65.2, 272.6 65.4 Q 272.2 65.7, 271.9 66.2 L 271.1 65.9 \" fill=\"#000000\"/>\n",
       "<path class=\"note\" d=\"M 227.7 185.8 Q 228.4 186.1, 228.8 186.5 Q 229.2 187.0, 229.2 187.8 Q 229.2 188.4, 228.8 188.9 Q 228.5 189.4, 227.9 189.7 Q 227.3 190.0, 226.5 190.0 Q 225.7 190.0, 225.1 189.7 Q 224.5 189.4, 224.0 188.8 L 224.6 188.2 Q 225.1 188.7, 225.5 188.9 Q 225.9 189.1, 226.5 189.1 Q 227.2 189.1, 227.6 188.8 Q 228.1 188.4, 228.1 187.8 Q 228.1 187.0, 227.6 186.6 Q 227.2 186.3, 226.2 186.3 L 225.7 186.3 L 225.7 185.5 L 226.2 185.5 Q 227.0 185.5, 227.5 185.1 Q 227.9 184.8, 227.9 184.1 Q 227.9 183.6, 227.5 183.3 Q 227.2 183.0, 226.5 183.0 Q 225.9 183.0, 225.5 183.2 Q 225.1 183.4, 224.8 184.0 L 224.0 183.6 Q 224.3 183.0, 225.0 182.5 Q 225.6 182.1, 226.5 182.1 Q 227.7 182.1, 228.3 182.6 Q 229.0 183.2, 229.0 184.1 Q 229.0 184.7, 228.7 185.1 Q 228.3 185.6, 227.7 185.8 \" fill=\"#000000\"/>\n",
       "<path class=\"note\" d=\"M 181.5 15.1 L 182.4 15.1 L 182.4 15.9 L 181.5 15.9 L 181.5 17.7 L 180.5 17.7 L 180.5 15.9 L 176.5 15.9 L 176.5 15.2 L 179.9 10.0 L 181.5 10.0 L 181.5 15.1 M 177.8 15.1 L 180.5 15.1 L 180.5 10.7 L 177.8 15.1 \" fill=\"#000000\"/>\n",
       "<path class=\"note\" d=\"M 336.6 121.6 Q 337.3 121.6, 337.8 121.9 Q 338.4 122.2, 338.7 122.7 Q 339.0 123.3, 339.0 124.0 Q 339.0 124.8, 338.6 125.4 Q 338.3 125.9, 337.6 126.2 Q 337.0 126.5, 336.3 126.5 Q 335.6 126.5, 334.9 126.3 Q 334.3 126.0, 333.8 125.5 L 334.5 124.8 Q 334.8 125.2, 335.3 125.4 Q 335.8 125.6, 336.3 125.6 Q 337.0 125.6, 337.5 125.2 Q 337.9 124.8, 337.9 124.0 Q 337.9 123.2, 337.5 122.8 Q 337.0 122.4, 336.2 122.4 Q 335.6 122.4, 334.8 122.7 L 334.2 122.4 L 334.6 118.7 L 338.5 118.7 L 338.4 119.6 L 335.5 119.6 L 335.3 121.9 Q 335.9 121.6, 336.6 121.6 \" fill=\"#000000\"/>\n",
       "</svg>"
      ],
      "text/plain": [
       "<IPython.core.display.SVG object>"
      ]
     },
     "metadata": {},
     "output_type": "display_data"
    },
    {
     "data": {
      "text/plain": [
       "mappingproxy({frozenset({0, 1}): PlanarBond((4, None, 0, 1, 2, 3), 0)})"
      ]
     },
     "execution_count": 31,
     "metadata": {},
     "output_type": "execute_result"
    },
    {
     "data": {
      "image/svg+xml": [
       "<svg xmlns=\"http://www.w3.org/2000/svg\" xmlns:rdkit=\"http://www.rdkit.org/xml\" xmlns:xlink=\"http://www.w3.org/1999/xlink\" version=\"1.1\" baseProfile=\"full\" xml:space=\"preserve\" width=\"500px\" height=\"200px\" viewBox=\"0 0 500 200\">\n",
       "<!-- END OF HEADER -->\n",
       "<rect style=\"opacity:1.0;fill:#FFFFFF;stroke:none\" width=\"500.0\" height=\"200.0\" x=\"0.0\" y=\"0.0\"> </rect>\n",
       "<path class=\"bond-0 atom-0 atom-1\" d=\"M 189.2,87.2 L 221.0,105.6\" style=\"fill:none;fill-rule:evenodd;stroke:#000000;stroke-width:2.0px;stroke-linecap:butt;stroke-linejoin:miter;stroke-opacity:1\"/>\n",
       "<path class=\"bond-0 atom-0 atom-1\" d=\"M 185.1,94.3 L 216.9,112.6\" style=\"fill:none;fill-rule:evenodd;stroke:#000000;stroke-width:2.0px;stroke-linecap:butt;stroke-linejoin:miter;stroke-opacity:1;stroke-dasharray:6,4\"/>\n",
       "<path class=\"bond-1 atom-0 atom-4\" d=\"M 179.5,76.8 L 179.5,41.5\" style=\"fill:none;fill-rule:evenodd;stroke:#000000;stroke-width:2.0px;stroke-linecap:butt;stroke-linejoin:miter;stroke-opacity:1\"/>\n",
       "<path class=\"bond-2 atom-1 atom-2\" d=\"M 234.2,109.1 L 264.8,91.4\" style=\"fill:none;fill-rule:evenodd;stroke:#000000;stroke-width:2.0px;stroke-linecap:butt;stroke-linejoin:miter;stroke-opacity:1\"/>\n",
       "<path class=\"bond-3 atom-1 atom-3\" d=\"M 226.6,123.0 L 226.6,158.3\" style=\"fill:none;fill-rule:evenodd;stroke:#000000;stroke-width:2.0px;stroke-linecap:butt;stroke-linejoin:miter;stroke-opacity:1\"/>\n",
       "<path class=\"bond-4 atom-2 atom-5\" d=\"M 282.5,91.4 L 312.9,109.0\" style=\"fill:none;fill-rule:evenodd;stroke:#000000;stroke-width:2.0px;stroke-linecap:butt;stroke-linejoin:miter;stroke-opacity:1\"/>\n",
       "<path class=\"atom-0\" d=\"M 176.1 78.6 L 181.1 86.8 Q 181.6 87.6, 182.4 89.1 Q 183.2 90.5, 183.3 90.6 L 183.3 78.6 L 185.3 78.6 L 185.3 94.0 L 183.2 94.0 L 177.8 85.1 Q 177.2 84.1, 176.5 82.9 Q 175.8 81.7, 175.6 81.3 L 175.6 94.0 L 173.6 94.0 L 173.6 78.6 L 176.1 78.6 \" fill=\"#000000\"/>\n",
       "<path class=\"atom-1\" d=\"M 223.2 105.8 L 228.2 114.0 Q 228.7 114.8, 229.5 116.2 Q 230.3 117.7, 230.4 117.8 L 230.4 105.8 L 232.4 105.8 L 232.4 121.2 L 230.3 121.2 L 224.9 112.3 Q 224.3 111.3, 223.6 110.1 Q 222.9 108.9, 222.7 108.5 L 222.7 121.2 L 220.7 121.2 L 220.7 105.8 L 223.2 105.8 \" fill=\"#000000\"/>\n",
       "<path class=\"atom-2\" d=\"M 266.6 86.4 Q 266.6 82.7, 268.4 80.6 Q 270.2 78.5, 273.6 78.5 Q 277.1 78.5, 278.9 80.6 Q 280.7 82.7, 280.7 86.4 Q 280.7 90.1, 278.9 92.2 Q 277.0 94.4, 273.6 94.4 Q 270.3 94.4, 268.4 92.2 Q 266.6 90.1, 266.6 86.4 M 273.6 92.6 Q 276.0 92.6, 277.3 91.1 Q 278.5 89.5, 278.5 86.4 Q 278.5 83.4, 277.3 81.8 Q 276.0 80.3, 273.6 80.3 Q 271.3 80.3, 270.0 81.8 Q 268.8 83.3, 268.8 86.4 Q 268.8 89.5, 270.0 91.1 Q 271.3 92.6, 273.6 92.6 \" fill=\"#000000\"/>\n",
       "<path class=\"atom-3\" d=\"M 219.5 167.9 Q 219.5 164.2, 221.3 162.2 Q 223.2 160.1, 226.6 160.1 Q 230.0 160.1, 231.8 162.2 Q 233.6 164.2, 233.6 167.9 Q 233.6 171.7, 231.8 173.8 Q 229.9 175.9, 226.6 175.9 Q 223.2 175.9, 221.3 173.8 Q 219.5 171.7, 219.5 167.9 M 226.6 174.2 Q 228.9 174.2, 230.2 172.6 Q 231.5 171.0, 231.5 167.9 Q 231.5 164.9, 230.2 163.4 Q 228.9 161.8, 226.6 161.8 Q 224.2 161.8, 222.9 163.4 Q 221.7 164.9, 221.7 167.9 Q 221.7 171.0, 222.9 172.6 Q 224.2 174.2, 226.6 174.2 \" fill=\"#000000\"/>\n",
       "<path class=\"atom-4\" d=\"M 173.5 24.3 L 175.6 24.3 L 175.6 30.8 L 183.4 30.8 L 183.4 24.3 L 185.5 24.3 L 185.5 39.7 L 183.4 39.7 L 183.4 32.6 L 175.6 32.6 L 175.6 39.7 L 173.5 39.7 L 173.5 24.3 \" fill=\"#000000\"/>\n",
       "<path class=\"atom-5\" d=\"M 314.7 105.8 L 316.8 105.8 L 316.8 112.4 L 324.7 112.4 L 324.7 105.8 L 326.7 105.8 L 326.7 121.2 L 324.7 121.2 L 324.7 114.1 L 316.8 114.1 L 316.8 121.2 L 314.7 121.2 L 314.7 105.8 \" fill=\"#000000\"/>\n",
       "<path class=\"note\" d=\"M 163.8 99.4 Q 162.4 99.4, 161.7 98.3 Q 161.0 97.3, 161.0 95.4 Q 161.0 93.6, 161.7 92.5 Q 162.4 91.5, 163.8 91.5 Q 165.2 91.5, 165.9 92.5 Q 166.6 93.6, 166.6 95.4 Q 166.6 97.3, 165.9 98.3 Q 165.2 99.4, 163.8 99.4 M 163.8 98.5 Q 164.6 98.5, 165.1 97.7 Q 165.5 96.9, 165.5 95.4 Q 165.5 93.9, 165.1 93.1 Q 164.6 92.4, 163.8 92.4 Q 163.0 92.4, 162.5 93.1 Q 162.1 93.9, 162.1 95.4 Q 162.1 96.9, 162.5 97.7 Q 163.0 98.5, 163.8 98.5 \" fill=\"#000000\"/>\n",
       "<path class=\"note\" d=\"M 224.7 98.4 L 226.4 98.4 L 226.4 92.6 L 224.5 93.2 L 224.2 92.6 L 226.6 91.5 L 227.4 91.7 L 227.4 98.4 L 228.9 98.4 L 228.9 99.3 L 224.7 99.3 L 224.7 98.4 \" fill=\"#000000\"/>\n",
       "<path class=\"note\" d=\"M 271.1 65.9 Q 271.4 65.1, 272.0 64.7 Q 272.7 64.3, 273.6 64.3 Q 274.8 64.3, 275.5 65.0 Q 276.1 65.6, 276.1 66.7 Q 276.1 67.8, 275.3 68.9 Q 274.4 70.0, 272.7 71.2 L 276.2 71.2 L 276.2 72.1 L 271.1 72.1 L 271.1 71.4 Q 272.5 70.4, 273.3 69.6 Q 274.2 68.8, 274.6 68.1 Q 275.0 67.5, 275.0 66.8 Q 275.0 66.0, 274.7 65.6 Q 274.3 65.2, 273.6 65.2 Q 273.0 65.2, 272.6 65.4 Q 272.2 65.7, 271.9 66.2 L 271.1 65.9 \" fill=\"#000000\"/>\n",
       "<path class=\"note\" d=\"M 227.7 185.8 Q 228.4 186.1, 228.8 186.5 Q 229.2 187.0, 229.2 187.8 Q 229.2 188.4, 228.8 188.9 Q 228.5 189.4, 227.9 189.7 Q 227.3 190.0, 226.5 190.0 Q 225.7 190.0, 225.1 189.7 Q 224.5 189.4, 224.0 188.8 L 224.6 188.2 Q 225.1 188.7, 225.5 188.9 Q 225.9 189.1, 226.5 189.1 Q 227.2 189.1, 227.6 188.8 Q 228.1 188.4, 228.1 187.8 Q 228.1 187.0, 227.6 186.6 Q 227.2 186.3, 226.2 186.3 L 225.7 186.3 L 225.7 185.5 L 226.2 185.5 Q 227.0 185.5, 227.5 185.1 Q 227.9 184.8, 227.9 184.1 Q 227.9 183.6, 227.5 183.3 Q 227.2 183.0, 226.5 183.0 Q 225.9 183.0, 225.5 183.2 Q 225.1 183.4, 224.8 184.0 L 224.0 183.6 Q 224.3 183.0, 225.0 182.5 Q 225.6 182.1, 226.5 182.1 Q 227.7 182.1, 228.3 182.6 Q 229.0 183.2, 229.0 184.1 Q 229.0 184.7, 228.7 185.1 Q 228.3 185.6, 227.7 185.8 \" fill=\"#000000\"/>\n",
       "<path class=\"note\" d=\"M 181.5 15.1 L 182.4 15.1 L 182.4 15.9 L 181.5 15.9 L 181.5 17.7 L 180.5 17.7 L 180.5 15.9 L 176.5 15.9 L 176.5 15.2 L 179.9 10.0 L 181.5 10.0 L 181.5 15.1 M 177.8 15.1 L 180.5 15.1 L 180.5 10.7 L 177.8 15.1 \" fill=\"#000000\"/>\n",
       "<path class=\"note\" d=\"M 336.6 121.6 Q 337.3 121.6, 337.8 121.9 Q 338.4 122.2, 338.7 122.7 Q 339.0 123.3, 339.0 124.0 Q 339.0 124.8, 338.6 125.4 Q 338.3 125.9, 337.6 126.2 Q 337.0 126.5, 336.3 126.5 Q 335.6 126.5, 334.9 126.3 Q 334.3 126.0, 333.8 125.5 L 334.5 124.8 Q 334.8 125.2, 335.3 125.4 Q 335.8 125.6, 336.3 125.6 Q 337.0 125.6, 337.5 125.2 Q 337.9 124.8, 337.9 124.0 Q 337.9 123.2, 337.5 122.8 Q 337.0 122.4, 336.2 122.4 Q 335.6 122.4, 334.8 122.7 L 334.2 122.4 L 334.6 118.7 L 338.5 118.7 L 338.4 119.6 L 335.5 119.6 L 335.3 121.9 Q 335.9 121.6, 336.6 121.6 \" fill=\"#000000\"/>\n",
       "</svg>"
      ],
      "text/plain": [
       "<IPython.core.display.SVG object>"
      ]
     },
     "metadata": {},
     "output_type": "display_data"
    },
    {
     "data": {
      "text/plain": [
       "mappingproxy({frozenset({0, 1}): PlanarBond((4, None, 0, 1, 3, 2), 0)})"
      ]
     },
     "execution_count": 31,
     "metadata": {},
     "output_type": "execute_result"
    }
   ],
   "source": [
    "from stereomolgraph import experimental\n",
    "\n",
    "smgs = list(experimental.generate_stereoisomers(smg0))\n",
    "for smg in smgs:\n",
    "    smg\n",
    "    smg.bond_stereo"
   ]
  },
  {
   "cell_type": "code",
   "execution_count": 32,
   "id": "d4ebdf86",
   "metadata": {},
   "outputs": [
    {
     "data": {
      "text/plain": [
       "'{\"StereoMolGraph\": {\"Atoms\": [[0, \"N\"], [1, \"N\"], [2, \"O\"], [3, \"O\"], [4, \"H\"], [5, \"H\"]], \"Bonds\": [[0, 1], [0, 4], [1, 2], [1, 3], [2, 5]], \"AtomStereo\": [], \"BondStereo\": [[\"PlanarBond\", [4, null, 0, 1, 2, 3], null]]}}'"
      ]
     },
     "execution_count": 32,
     "metadata": {},
     "output_type": "execute_result"
    }
   ],
   "source": [
    "json_str = Graph2JSON.to_json_str(smg0)\n",
    "json_str"
   ]
  },
  {
   "cell_type": "code",
   "execution_count": 33,
   "id": "45b845a1",
   "metadata": {},
   "outputs": [
    {
     "data": {
      "text/plain": [
       "mappingproxy({frozenset({0, 1}): PlanarBond([4, None, 0, 1, 2, 3], None)})"
      ]
     },
     "execution_count": 33,
     "metadata": {},
     "output_type": "execute_result"
    },
    {
     "data": {
      "image/svg+xml": [
       "<svg xmlns=\"http://www.w3.org/2000/svg\" xmlns:rdkit=\"http://www.rdkit.org/xml\" xmlns:xlink=\"http://www.w3.org/1999/xlink\" version=\"1.1\" baseProfile=\"full\" xml:space=\"preserve\" width=\"500px\" height=\"200px\" viewBox=\"0 0 500 200\">\n",
       "<!-- END OF HEADER -->\n",
       "<rect style=\"opacity:1.0;fill:#FFFFFF;stroke:none\" width=\"500.0\" height=\"200.0\" x=\"0.0\" y=\"0.0\"> </rect>\n",
       "<path class=\"bond-0 atom-0 atom-1\" d=\"M 189.2,87.2 L 221.0,105.6\" style=\"fill:none;fill-rule:evenodd;stroke:#000000;stroke-width:2.0px;stroke-linecap:butt;stroke-linejoin:miter;stroke-opacity:1\"/>\n",
       "<path class=\"bond-0 atom-0 atom-1\" d=\"M 185.1,94.3 L 216.9,112.6\" style=\"fill:none;fill-rule:evenodd;stroke:#000000;stroke-width:2.0px;stroke-linecap:butt;stroke-linejoin:miter;stroke-opacity:1;stroke-dasharray:6,4\"/>\n",
       "<path class=\"bond-1 atom-0 atom-4\" d=\"M 179.5,76.8 L 179.5,41.5\" style=\"fill:none;fill-rule:evenodd;stroke:#000000;stroke-width:2.0px;stroke-linecap:butt;stroke-linejoin:miter;stroke-opacity:1\"/>\n",
       "<path class=\"bond-2 atom-1 atom-2\" d=\"M 234.2,109.1 L 264.8,91.4\" style=\"fill:none;fill-rule:evenodd;stroke:#000000;stroke-width:2.0px;stroke-linecap:butt;stroke-linejoin:miter;stroke-opacity:1\"/>\n",
       "<path class=\"bond-3 atom-1 atom-3\" d=\"M 226.6,123.0 L 226.6,158.3\" style=\"fill:none;fill-rule:evenodd;stroke:#000000;stroke-width:2.0px;stroke-linecap:butt;stroke-linejoin:miter;stroke-opacity:1\"/>\n",
       "<path class=\"bond-4 atom-2 atom-5\" d=\"M 282.5,91.4 L 312.9,109.0\" style=\"fill:none;fill-rule:evenodd;stroke:#000000;stroke-width:2.0px;stroke-linecap:butt;stroke-linejoin:miter;stroke-opacity:1\"/>\n",
       "<path class=\"atom-0\" d=\"M 176.1 78.6 L 181.1 86.8 Q 181.6 87.6, 182.4 89.1 Q 183.2 90.5, 183.3 90.6 L 183.3 78.6 L 185.3 78.6 L 185.3 94.0 L 183.2 94.0 L 177.8 85.1 Q 177.2 84.1, 176.5 82.9 Q 175.8 81.7, 175.6 81.3 L 175.6 94.0 L 173.6 94.0 L 173.6 78.6 L 176.1 78.6 \" fill=\"#000000\"/>\n",
       "<path class=\"atom-1\" d=\"M 223.2 105.8 L 228.2 114.0 Q 228.7 114.8, 229.5 116.2 Q 230.3 117.7, 230.4 117.8 L 230.4 105.8 L 232.4 105.8 L 232.4 121.2 L 230.3 121.2 L 224.9 112.3 Q 224.3 111.3, 223.6 110.1 Q 222.9 108.9, 222.7 108.5 L 222.7 121.2 L 220.7 121.2 L 220.7 105.8 L 223.2 105.8 \" fill=\"#000000\"/>\n",
       "<path class=\"atom-2\" d=\"M 266.6 86.4 Q 266.6 82.7, 268.4 80.6 Q 270.2 78.5, 273.6 78.5 Q 277.1 78.5, 278.9 80.6 Q 280.7 82.7, 280.7 86.4 Q 280.7 90.1, 278.9 92.2 Q 277.0 94.4, 273.6 94.4 Q 270.3 94.4, 268.4 92.2 Q 266.6 90.1, 266.6 86.4 M 273.6 92.6 Q 276.0 92.6, 277.3 91.1 Q 278.5 89.5, 278.5 86.4 Q 278.5 83.4, 277.3 81.8 Q 276.0 80.3, 273.6 80.3 Q 271.3 80.3, 270.0 81.8 Q 268.8 83.3, 268.8 86.4 Q 268.8 89.5, 270.0 91.1 Q 271.3 92.6, 273.6 92.6 \" fill=\"#000000\"/>\n",
       "<path class=\"atom-3\" d=\"M 219.5 167.9 Q 219.5 164.2, 221.3 162.2 Q 223.2 160.1, 226.6 160.1 Q 230.0 160.1, 231.8 162.2 Q 233.6 164.2, 233.6 167.9 Q 233.6 171.7, 231.8 173.8 Q 229.9 175.9, 226.6 175.9 Q 223.2 175.9, 221.3 173.8 Q 219.5 171.7, 219.5 167.9 M 226.6 174.2 Q 228.9 174.2, 230.2 172.6 Q 231.5 171.0, 231.5 167.9 Q 231.5 164.9, 230.2 163.4 Q 228.9 161.8, 226.6 161.8 Q 224.2 161.8, 222.9 163.4 Q 221.7 164.9, 221.7 167.9 Q 221.7 171.0, 222.9 172.6 Q 224.2 174.2, 226.6 174.2 \" fill=\"#000000\"/>\n",
       "<path class=\"atom-4\" d=\"M 173.5 24.3 L 175.6 24.3 L 175.6 30.8 L 183.4 30.8 L 183.4 24.3 L 185.5 24.3 L 185.5 39.7 L 183.4 39.7 L 183.4 32.6 L 175.6 32.6 L 175.6 39.7 L 173.5 39.7 L 173.5 24.3 \" fill=\"#000000\"/>\n",
       "<path class=\"atom-5\" d=\"M 314.7 105.8 L 316.8 105.8 L 316.8 112.4 L 324.7 112.4 L 324.7 105.8 L 326.7 105.8 L 326.7 121.2 L 324.7 121.2 L 324.7 114.1 L 316.8 114.1 L 316.8 121.2 L 314.7 121.2 L 314.7 105.8 \" fill=\"#000000\"/>\n",
       "<path class=\"note\" d=\"M 163.8 99.4 Q 162.4 99.4, 161.7 98.3 Q 161.0 97.3, 161.0 95.4 Q 161.0 93.6, 161.7 92.5 Q 162.4 91.5, 163.8 91.5 Q 165.2 91.5, 165.9 92.5 Q 166.6 93.6, 166.6 95.4 Q 166.6 97.3, 165.9 98.3 Q 165.2 99.4, 163.8 99.4 M 163.8 98.5 Q 164.6 98.5, 165.1 97.7 Q 165.5 96.9, 165.5 95.4 Q 165.5 93.9, 165.1 93.1 Q 164.6 92.4, 163.8 92.4 Q 163.0 92.4, 162.5 93.1 Q 162.1 93.9, 162.1 95.4 Q 162.1 96.9, 162.5 97.7 Q 163.0 98.5, 163.8 98.5 \" fill=\"#000000\"/>\n",
       "<path class=\"note\" d=\"M 224.7 98.4 L 226.4 98.4 L 226.4 92.6 L 224.5 93.2 L 224.2 92.6 L 226.6 91.5 L 227.4 91.7 L 227.4 98.4 L 228.9 98.4 L 228.9 99.3 L 224.7 99.3 L 224.7 98.4 \" fill=\"#000000\"/>\n",
       "<path class=\"note\" d=\"M 271.1 65.9 Q 271.4 65.1, 272.0 64.7 Q 272.7 64.3, 273.6 64.3 Q 274.8 64.3, 275.5 65.0 Q 276.1 65.6, 276.1 66.7 Q 276.1 67.8, 275.3 68.9 Q 274.4 70.0, 272.7 71.2 L 276.2 71.2 L 276.2 72.1 L 271.1 72.1 L 271.1 71.4 Q 272.5 70.4, 273.3 69.6 Q 274.2 68.8, 274.6 68.1 Q 275.0 67.5, 275.0 66.8 Q 275.0 66.0, 274.7 65.6 Q 274.3 65.2, 273.6 65.2 Q 273.0 65.2, 272.6 65.4 Q 272.2 65.7, 271.9 66.2 L 271.1 65.9 \" fill=\"#000000\"/>\n",
       "<path class=\"note\" d=\"M 227.7 185.8 Q 228.4 186.1, 228.8 186.5 Q 229.2 187.0, 229.2 187.8 Q 229.2 188.4, 228.8 188.9 Q 228.5 189.4, 227.9 189.7 Q 227.3 190.0, 226.5 190.0 Q 225.7 190.0, 225.1 189.7 Q 224.5 189.4, 224.0 188.8 L 224.6 188.2 Q 225.1 188.7, 225.5 188.9 Q 225.9 189.1, 226.5 189.1 Q 227.2 189.1, 227.6 188.8 Q 228.1 188.4, 228.1 187.8 Q 228.1 187.0, 227.6 186.6 Q 227.2 186.3, 226.2 186.3 L 225.7 186.3 L 225.7 185.5 L 226.2 185.5 Q 227.0 185.5, 227.5 185.1 Q 227.9 184.8, 227.9 184.1 Q 227.9 183.6, 227.5 183.3 Q 227.2 183.0, 226.5 183.0 Q 225.9 183.0, 225.5 183.2 Q 225.1 183.4, 224.8 184.0 L 224.0 183.6 Q 224.3 183.0, 225.0 182.5 Q 225.6 182.1, 226.5 182.1 Q 227.7 182.1, 228.3 182.6 Q 229.0 183.2, 229.0 184.1 Q 229.0 184.7, 228.7 185.1 Q 228.3 185.6, 227.7 185.8 \" fill=\"#000000\"/>\n",
       "<path class=\"note\" d=\"M 181.5 15.1 L 182.4 15.1 L 182.4 15.9 L 181.5 15.9 L 181.5 17.7 L 180.5 17.7 L 180.5 15.9 L 176.5 15.9 L 176.5 15.2 L 179.9 10.0 L 181.5 10.0 L 181.5 15.1 M 177.8 15.1 L 180.5 15.1 L 180.5 10.7 L 177.8 15.1 \" fill=\"#000000\"/>\n",
       "<path class=\"note\" d=\"M 336.6 121.6 Q 337.3 121.6, 337.8 121.9 Q 338.4 122.2, 338.7 122.7 Q 339.0 123.3, 339.0 124.0 Q 339.0 124.8, 338.6 125.4 Q 338.3 125.9, 337.6 126.2 Q 337.0 126.5, 336.3 126.5 Q 335.6 126.5, 334.9 126.3 Q 334.3 126.0, 333.8 125.5 L 334.5 124.8 Q 334.8 125.2, 335.3 125.4 Q 335.8 125.6, 336.3 125.6 Q 337.0 125.6, 337.5 125.2 Q 337.9 124.8, 337.9 124.0 Q 337.9 123.2, 337.5 122.8 Q 337.0 122.4, 336.2 122.4 Q 335.6 122.4, 334.8 122.7 L 334.2 122.4 L 334.6 118.7 L 338.5 118.7 L 338.4 119.6 L 335.5 119.6 L 335.3 121.9 Q 335.9 121.6, 336.6 121.6 \" fill=\"#000000\"/>\n",
       "</svg>"
      ],
      "text/plain": [
       "<IPython.core.display.SVG object>"
      ]
     },
     "metadata": {},
     "output_type": "display_data"
    }
   ],
   "source": [
    "loaded_graph = Graph2JSON.from_json_str(json_str)\n",
    "loaded_graph.bond_stereo\n",
    "loaded_graph"
   ]
  }
 ],
 "metadata": {
  "kernelspec": {
   "display_name": "stereomolgraph",
   "language": "python",
   "name": "python3"
  },
  "language_info": {
   "codemirror_mode": {
    "name": "ipython",
    "version": 3
   },
   "file_extension": ".py",
   "mimetype": "text/x-python",
   "name": "python",
   "nbconvert_exporter": "python",
   "pygments_lexer": "ipython3",
   "version": "3.12.10"
  }
 },
 "nbformat": 4,
 "nbformat_minor": 5
}
